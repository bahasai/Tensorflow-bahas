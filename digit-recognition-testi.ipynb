{
  "nbformat": 4,
  "nbformat_minor": 0,
  "metadata": {
    "colab": {
      "name": "digit-recognition-testi.ipynb",
      "version": "0.3.2",
      "provenance": []
    },
    "language_info": {
      "codemirror_mode": {
        "name": "ipython",
        "version": 3
      },
      "file_extension": ".py",
      "mimetype": "text/x-python",
      "name": "python",
      "nbconvert_exporter": "python",
      "pygments_lexer": "ipython3",
      "version": "3.7.3"
    },
    "kernelspec": {
      "name": "python3",
      "display_name": "Python 3"
    },
    "accelerator": "GPU"
  },
  "cells": [
    {
      "cell_type": "code",
      "metadata": {
        "colab_type": "code",
        "id": "ZDBpMKqQFkU2",
        "colab": {}
      },
      "source": [
        "!mkdir dataset\n",
        "from google.colab import files\n",
        "src = list(files.upload().values())[0]\n",
        "open('\\dataset','wb').write(src)\n",
        "!mv sample_mobile_data_1000.csv dataset/\n",
        "!ls dataset"
      ],
      "execution_count": 0,
      "outputs": []
    },
    {
      "cell_type": "code",
      "metadata": {
        "colab_type": "code",
        "id": "VX1t4raqFkVI",
        "colab": {}
      },
      "source": [
        ""
      ],
      "execution_count": 0,
      "outputs": []
    },
    {
      "cell_type": "code",
      "metadata": {
        "colab_type": "code",
        "id": "f9VneyquFkVT",
        "colab": {}
      },
      "source": [
        ""
      ],
      "execution_count": 0,
      "outputs": []
    },
    {
      "cell_type": "code",
      "metadata": {
        "id": "GUCIAhmxUQy1",
        "colab_type": "code",
        "outputId": "3ce49c17-9daf-4e4b-d31f-3ecf2107784a",
        "colab": {
          "base_uri": "https://localhost:8080/",
          "height": 131
        }
      },
      "source": [
        "from google.colab import drive\n",
        "drive.mount('/content/gdrive')"
      ],
      "execution_count": 0,
      "outputs": [
        {
          "output_type": "stream",
          "text": [
            "Go to this URL in a browser: https://accounts.google.com/o/oauth2/auth?client_id=947318989803-6bn6qk8qdgf4n4g3pfee6491hc0brc4i.apps.googleusercontent.com&redirect_uri=urn%3Aietf%3Awg%3Aoauth%3A2.0%3Aoob&scope=email%20https%3A%2F%2Fwww.googleapis.com%2Fauth%2Fdocs.test%20https%3A%2F%2Fwww.googleapis.com%2Fauth%2Fdrive%20https%3A%2F%2Fwww.googleapis.com%2Fauth%2Fdrive.photos.readonly%20https%3A%2F%2Fwww.googleapis.com%2Fauth%2Fpeopleapi.readonly&response_type=code\n",
            "\n",
            "Enter your authorization code:\n",
            "··········\n",
            "Mounted at /content/gdrive\n"
          ],
          "name": "stdout"
        }
      ]
    },
    {
      "cell_type": "code",
      "metadata": {
        "colab_type": "code",
        "id": "ittwc8zbFkV5",
        "colab": {}
      },
      "source": [
        ""
      ],
      "execution_count": 0,
      "outputs": []
    },
    {
      "cell_type": "code",
      "metadata": {
        "colab_type": "code",
        "id": "bYBQNbatFkWQ",
        "colab": {}
      },
      "source": [
        ""
      ],
      "execution_count": 0,
      "outputs": []
    },
    {
      "cell_type": "code",
      "metadata": {
        "id": "etBIUeKeURT4",
        "colab_type": "code",
        "colab": {}
      },
      "source": [
        ""
      ],
      "execution_count": 0,
      "outputs": []
    },
    {
      "cell_type": "code",
      "metadata": {
        "id": "k4AO0JwbURdN",
        "colab_type": "code",
        "colab": {}
      },
      "source": [
        ""
      ],
      "execution_count": 0,
      "outputs": []
    },
    {
      "cell_type": "code",
      "metadata": {
        "id": "TILlKL6AURii",
        "colab_type": "code",
        "colab": {}
      },
      "source": [
        ""
      ],
      "execution_count": 0,
      "outputs": []
    },
    {
      "cell_type": "code",
      "metadata": {
        "id": "4BX0vvitURp1",
        "colab_type": "code",
        "colab": {}
      },
      "source": [
        ""
      ],
      "execution_count": 0,
      "outputs": []
    },
    {
      "cell_type": "code",
      "metadata": {
        "id": "CwcRYcN5URxX",
        "colab_type": "code",
        "colab": {}
      },
      "source": [
        ""
      ],
      "execution_count": 0,
      "outputs": []
    },
    {
      "cell_type": "code",
      "metadata": {
        "colab_type": "code",
        "id": "-XzZ7Y_NFkWp",
        "colab": {}
      },
      "source": [
        "!pip install -q tensorflow-gpu==2.0.0a0\n",
        "!pip install -q tensorboard\n",
        "!pip install -q tensorboardcolab"
      ],
      "execution_count": 0,
      "outputs": []
    },
    {
      "cell_type": "code",
      "metadata": {
        "colab_type": "code",
        "id": "YDfU1SMdGuh6",
        "colab": {
          "base_uri": "https://localhost:8080/",
          "height": 87
        },
        "outputId": "dc4d4336-2505-4f84-c4b4-5d5589365249"
      },
      "source": [
        "from tensorboardcolab import *\n",
        "tbc=TensorBoardColab(port=6006, graph_path='/tmp/logs', startup_waiting_time=8)"
      ],
      "execution_count": 3,
      "outputs": [
        {
          "output_type": "stream",
          "text": [
            "Using TensorFlow backend.\n"
          ],
          "name": "stderr"
        },
        {
          "output_type": "stream",
          "text": [
            "Wait for 8 seconds...\n",
            "TensorBoard link:\n",
            "https://31b28d89.ngrok.io\n"
          ],
          "name": "stdout"
        }
      ]
    },
    {
      "cell_type": "code",
      "metadata": {
        "colab_type": "code",
        "id": "N4ueKBFjGvX_",
        "colab": {}
      },
      "source": [
        ""
      ],
      "execution_count": 0,
      "outputs": []
    },
    {
      "cell_type": "markdown",
      "metadata": {
        "colab_type": "text",
        "id": "YO9IYGqDJnXu"
      },
      "source": [
        "\n",
        "Digit recognition :)\n",
        "\n"
      ]
    },
    {
      "cell_type": "code",
      "metadata": {
        "id": "Su21k1NtWq_2",
        "colab_type": "code",
        "colab": {}
      },
      "source": [
        "from __future__ import absolute_import, division, print_function, unicode_literals\n",
        "import tensorflow as tf\n",
        "import matplotlib.pyplot as plt\n",
        "import os, datetime, time\n",
        "\n",
        "# from tensorflow.examples.tutorials.mnist import input_data\n",
        "# mnist = input_data.read_data_sets(\"MNIST_data/\", one_hot=True)  # y labels are oh-encoded\n",
        "# n_train = mnist.train.num_examples  # 55,000\n",
        "# n_validation = mnist.validation.num_examples  # 5000\n",
        "# n_test = mnist.test.num_examples  # 10,000\n",
        "\n",
        "mnist = tf.keras.datasets.mnist\n",
        "(x_train, y_train), (x_test, y_test) = mnist.load_data()"
      ],
      "execution_count": 0,
      "outputs": []
    },
    {
      "cell_type": "code",
      "metadata": {
        "id": "8CSZEWa6WrSo",
        "colab_type": "code",
        "outputId": "20acc314-f4c3-41f5-9928-70f322482c01",
        "colab": {
          "base_uri": "https://localhost:8080/",
          "height": 287
        }
      },
      "source": [
        "sample_digit = x_train[0] # sample_digit.reshape(28, 28)\n",
        "plt.imshow(sample_digit, cmap='gray')\n",
        "plt.show()\n",
        "y_train[0]"
      ],
      "execution_count": 4,
      "outputs": [
        {
          "output_type": "display_data",
          "data": {
            "image/png": "[encoded data removed]",
            "text/plain": [
              "<Figure size 432x288 with 1 Axes>"
            ]
          },
          "metadata": {
            "tags": []
          }
        },
        {
          "output_type": "execute_result",
          "data": {
            "text/plain": [
              "5"
            ]
          },
          "metadata": {
            "tags": []
          },
          "execution_count": 4
        }
      ]
    },
    {
      "cell_type": "code",
      "metadata": {
        "id": "ZBR82gFjWxQV",
        "colab_type": "code",
        "colab": {}
      },
      "source": [
        "def create_model():\n",
        "    model = tf.keras.Sequential()\n",
        "    model.add(tf.keras.layers.Conv2D(filters=64, kernel_size=2, padding='same', activation='relu', \n",
        "                                     input_shape=(28,28,1))) \n",
        "    model.add(tf.keras.layers.MaxPooling2D(pool_size=2))\n",
        "    model.add(tf.keras.layers.Dropout(0.3))\n",
        "    model.add(tf.keras.layers.Conv2D(filters=32, kernel_size=2, padding='same', activation='relu'))\n",
        "    model.add(tf.keras.layers.MaxPooling2D(pool_size=2))\n",
        "    model.add(tf.keras.layers.Dropout(0.3))\n",
        "    model.add(tf.keras.layers.Flatten())\n",
        "    model.add(tf.keras.layers.Dense(256, activation='relu'))\n",
        "    model.add(tf.keras.layers.Dropout(0.5))\n",
        "    model.add(tf.keras.layers.Dense(10, activation='softmax'))\n",
        "    model.compile(optimizer=tf.keras.optimizers.Adam(),\n",
        "            loss=tf.keras.losses.sparse_categorical_crossentropy,\n",
        "            metrics=['accuracy','mae', 'acc'])\n",
        "    return model\n",
        " \n",
        "# Create a basic model instance\n",
        "model = create_model()"
      ],
      "execution_count": 0,
      "outputs": []
    },
    {
      "cell_type": "code",
      "metadata": {
        "id": "UoGPmn1vXe9k",
        "colab_type": "code",
        "outputId": "7b1709af-484e-49b3-d788-b17ddb2a23c6",
        "colab": {
          "base_uri": "https://localhost:8080/",
          "height": 492
        }
      },
      "source": [
        "model.summary()"
      ],
      "execution_count": 0,
      "outputs": [
        {
          "output_type": "stream",
          "text": [
            "_________________________________________________________________\n",
            "Layer (type)                 Output Shape              Param #   \n",
            "=================================================================\n",
            "conv2d (Conv2D)              (None, 28, 28, 64)        320       \n",
            "_________________________________________________________________\n",
            "max_pooling2d (MaxPooling2D) (None, 14, 14, 64)        0         \n",
            "_________________________________________________________________\n",
            "dropout (Dropout)            (None, 14, 14, 64)        0         \n",
            "_________________________________________________________________\n",
            "conv2d_1 (Conv2D)            (None, 14, 14, 32)        8224      \n",
            "_________________________________________________________________\n",
            "max_pooling2d_1 (MaxPooling2 (None, 7, 7, 32)          0         \n",
            "_________________________________________________________________\n",
            "dropout_1 (Dropout)          (None, 7, 7, 32)          0         \n",
            "_________________________________________________________________\n",
            "flatten (Flatten)            (None, 1568)              0         \n",
            "_________________________________________________________________\n",
            "dense (Dense)                (None, 256)               401664    \n",
            "_________________________________________________________________\n",
            "dropout_2 (Dropout)          (None, 256)               0         \n",
            "_________________________________________________________________\n",
            "dense_1 (Dense)              (None, 10)                2570      \n",
            "=================================================================\n",
            "Total params: 412,778\n",
            "Trainable params: 412,778\n",
            "Non-trainable params: 0\n",
            "_________________________________________________________________\n"
          ],
          "name": "stdout"
        }
      ]
    },
    {
      "cell_type": "code",
      "metadata": {
        "id": "UTeUAMRNJ389",
        "colab_type": "code",
        "colab": {}
      },
      "source": [
        ""
      ],
      "execution_count": 0,
      "outputs": []
    },
    {
      "cell_type": "code",
      "metadata": {
        "id": "AF92jzNDWxZI",
        "colab_type": "code",
        "colab": {
          "base_uri": "https://localhost:8080/",
          "height": 1000
        },
        "outputId": "59a49a44-7e38-4682-bda1-d03a67833e42"
      },
      "source": [
        "w, h = 28, 28\n",
        "x_train = x_train.reshape(x_train.shape[0], w, h, 1)\n",
        "x_test = x_test.reshape(x_test.shape[0], w, h, 1)\n",
        "logdir=\"/tmp/logs/1\"\n",
        "checkpoint_path = logdir + \"/cp.ckpt\"\n",
        "# checkpoint_dir = os.path.dirname(checkpoint_path)\n",
        "\n",
        "# Create checkpoint callback\n",
        "cp_callback = tf.keras.callbacks.ModelCheckpoint(checkpoint_path, save_weights_only=True, verbose=1)\n",
        "tb_callback = tf.keras.callbacks.TensorBoard(log_dir=checkpoint_path)\n",
        "\n",
        "model.fit(x_train, y_train, validation_data=(x_test, y_test), epochs=20, callbacks = [cp_callback, tb_callback])\n",
        "\n",
        "model.evaluate(x_test, y_test)"
      ],
      "execution_count": 6,
      "outputs": [
        {
          "output_type": "stream",
          "text": [
            "Train on 60000 samples, validate on 10000 samples\n",
            "Epoch 1/20\n",
            "   32/60000 [..............................] - ETA: 1:18:52 - loss: 68.5872 - accuracy: 0.0312 - mae: 5.1375 - acc: 0.0312"
          ],
          "name": "stdout"
        },
        {
          "output_type": "stream",
          "text": [
            "WARNING: Logging before flag parsing goes to stderr.\n",
            "W0628 18:16:12.618570 140488659281792 callbacks.py:236] Method (on_train_batch_end) is slow compared to the batch update (0.226733). Check your callbacks.\n"
          ],
          "name": "stderr"
        },
        {
          "output_type": "stream",
          "text": [
            "59840/60000 [============================>.] - ETA: 0s - loss: 0.8113 - accuracy: 0.8383 - mae: 4.3746 - acc: 0.8383\n",
            "Epoch 00001: saving model to /tmp/logs/1/cp.ckpt\n",
            "60000/60000 [==============================] - 14s 237us/sample - loss: 0.8096 - accuracy: 0.8386 - mae: 4.3737 - acc: 0.8386 - val_loss: 0.0987 - val_accuracy: 0.9691 - val_mae: 4.3630 - val_acc: 0.9691\n",
            "Epoch 2/20\n",
            "59776/60000 [============================>.] - ETA: 0s - loss: 0.2043 - accuracy: 0.9369 - mae: 4.3743 - acc: 0.9369\n",
            "Epoch 00002: saving model to /tmp/logs/1/cp.ckpt\n",
            "60000/60000 [==============================] - 11s 190us/sample - loss: 0.2042 - accuracy: 0.9370 - mae: 4.3737 - acc: 0.9370 - val_loss: 0.0636 - val_accuracy: 0.9809 - val_mae: 4.3630 - val_acc: 0.9809\n",
            "Epoch 3/20\n",
            "59840/60000 [============================>.] - ETA: 0s - loss: 0.1593 - accuracy: 0.9508 - mae: 4.3727 - acc: 0.9508\n",
            "Epoch 00003: saving model to /tmp/logs/1/cp.ckpt\n",
            "60000/60000 [==============================] - 11s 191us/sample - loss: 0.1592 - accuracy: 0.9509 - mae: 4.3737 - acc: 0.9509 - val_loss: 0.0583 - val_accuracy: 0.9806 - val_mae: 4.3630 - val_acc: 0.9806\n",
            "Epoch 4/20\n",
            "59872/60000 [============================>.] - ETA: 0s - loss: 0.1450 - accuracy: 0.9553 - mae: 4.3739 - acc: 0.9553\n",
            "Epoch 00004: saving model to /tmp/logs/1/cp.ckpt\n",
            "60000/60000 [==============================] - 11s 190us/sample - loss: 0.1453 - accuracy: 0.9552 - mae: 4.3737 - acc: 0.9552 - val_loss: 0.0570 - val_accuracy: 0.9821 - val_mae: 4.3630 - val_acc: 0.9821\n",
            "Epoch 5/20\n",
            "59712/60000 [============================>.] - ETA: 0s - loss: 0.1337 - accuracy: 0.9597 - mae: 4.3744 - acc: 0.9597\n",
            "Epoch 00005: saving model to /tmp/logs/1/cp.ckpt\n",
            "60000/60000 [==============================] - 12s 195us/sample - loss: 0.1336 - accuracy: 0.9597 - mae: 4.3737 - acc: 0.9597 - val_loss: 0.0488 - val_accuracy: 0.9839 - val_mae: 4.3630 - val_acc: 0.9839\n",
            "Epoch 6/20\n",
            "59872/60000 [============================>.] - ETA: 0s - loss: 0.1223 - accuracy: 0.9632 - mae: 4.3731 - acc: 0.9632\n",
            "Epoch 00006: saving model to /tmp/logs/1/cp.ckpt\n",
            "60000/60000 [==============================] - 12s 192us/sample - loss: 0.1223 - accuracy: 0.9632 - mae: 4.3737 - acc: 0.9632 - val_loss: 0.0490 - val_accuracy: 0.9843 - val_mae: 4.3630 - val_acc: 0.9843\n",
            "Epoch 7/20\n",
            "59904/60000 [============================>.] - ETA: 0s - loss: 0.1224 - accuracy: 0.9641 - mae: 4.3741 - acc: 0.9641\n",
            "Epoch 00007: saving model to /tmp/logs/1/cp.ckpt\n",
            "60000/60000 [==============================] - 11s 189us/sample - loss: 0.1225 - accuracy: 0.9641 - mae: 4.3737 - acc: 0.9641 - val_loss: 0.0437 - val_accuracy: 0.9852 - val_mae: 4.3630 - val_acc: 0.9852\n",
            "Epoch 8/20\n",
            "59968/60000 [============================>.] - ETA: 0s - loss: 0.1147 - accuracy: 0.9654 - mae: 4.3737 - acc: 0.9654\n",
            "Epoch 00008: saving model to /tmp/logs/1/cp.ckpt\n",
            "60000/60000 [==============================] - 12s 194us/sample - loss: 0.1147 - accuracy: 0.9654 - mae: 4.3737 - acc: 0.9654 - val_loss: 0.0422 - val_accuracy: 0.9861 - val_mae: 4.3630 - val_acc: 0.9861\n",
            "Epoch 9/20\n",
            "59904/60000 [============================>.] - ETA: 0s - loss: 0.1084 - accuracy: 0.9676 - mae: 4.3732 - acc: 0.9676\n",
            "Epoch 00009: saving model to /tmp/logs/1/cp.ckpt\n",
            "60000/60000 [==============================] - 12s 193us/sample - loss: 0.1085 - accuracy: 0.9676 - mae: 4.3737 - acc: 0.9676 - val_loss: 0.0409 - val_accuracy: 0.9863 - val_mae: 4.3630 - val_acc: 0.9863\n",
            "Epoch 10/20\n",
            "59968/60000 [============================>.] - ETA: 0s - loss: 0.1061 - accuracy: 0.9683 - mae: 4.3736 - acc: 0.9683\n",
            "Epoch 00010: saving model to /tmp/logs/1/cp.ckpt\n",
            "60000/60000 [==============================] - 11s 188us/sample - loss: 0.1061 - accuracy: 0.9683 - mae: 4.3737 - acc: 0.9683 - val_loss: 0.0418 - val_accuracy: 0.9865 - val_mae: 4.3630 - val_acc: 0.9865\n",
            "Epoch 11/20\n",
            "59776/60000 [============================>.] - ETA: 0s - loss: 0.1002 - accuracy: 0.9705 - mae: 4.3739 - acc: 0.9705\n",
            "Epoch 00011: saving model to /tmp/logs/1/cp.ckpt\n",
            "60000/60000 [==============================] - 11s 190us/sample - loss: 0.1002 - accuracy: 0.9704 - mae: 4.3737 - acc: 0.9704 - val_loss: 0.0417 - val_accuracy: 0.9876 - val_mae: 4.3630 - val_acc: 0.9876\n",
            "Epoch 12/20\n",
            "59904/60000 [============================>.] - ETA: 0s - loss: 0.1013 - accuracy: 0.9708 - mae: 4.3727 - acc: 0.9708\n",
            "Epoch 00012: saving model to /tmp/logs/1/cp.ckpt\n",
            "60000/60000 [==============================] - 11s 190us/sample - loss: 0.1013 - accuracy: 0.9708 - mae: 4.3737 - acc: 0.9708 - val_loss: 0.0461 - val_accuracy: 0.9852 - val_mae: 4.3630 - val_acc: 0.9852\n",
            "Epoch 13/20\n",
            "59904/60000 [============================>.] - ETA: 0s - loss: 0.0991 - accuracy: 0.9710 - mae: 4.3737 - acc: 0.9710\n",
            "Epoch 00013: saving model to /tmp/logs/1/cp.ckpt\n",
            "60000/60000 [==============================] - 11s 189us/sample - loss: 0.0992 - accuracy: 0.9710 - mae: 4.3737 - acc: 0.9710 - val_loss: 0.0482 - val_accuracy: 0.9863 - val_mae: 4.3630 - val_acc: 0.9863\n",
            "Epoch 14/20\n",
            "59904/60000 [============================>.] - ETA: 0s - loss: 0.0975 - accuracy: 0.9714 - mae: 4.3738 - acc: 0.9714\n",
            "Epoch 00014: saving model to /tmp/logs/1/cp.ckpt\n",
            "60000/60000 [==============================] - 11s 191us/sample - loss: 0.0975 - accuracy: 0.9714 - mae: 4.3737 - acc: 0.9714 - val_loss: 0.0462 - val_accuracy: 0.9872 - val_mae: 4.3630 - val_acc: 0.9872\n",
            "Epoch 15/20\n",
            "59776/60000 [============================>.] - ETA: 0s - loss: 0.0960 - accuracy: 0.9714 - mae: 4.3729 - acc: 0.9714\n",
            "Epoch 00015: saving model to /tmp/logs/1/cp.ckpt\n",
            "60000/60000 [==============================] - 11s 187us/sample - loss: 0.0959 - accuracy: 0.9714 - mae: 4.3737 - acc: 0.9714 - val_loss: 0.0431 - val_accuracy: 0.9876 - val_mae: 4.3630 - val_acc: 0.9876\n",
            "Epoch 16/20\n",
            "59840/60000 [============================>.] - ETA: 0s - loss: 0.0919 - accuracy: 0.9728 - mae: 4.3738 - acc: 0.9728\n",
            "Epoch 00016: saving model to /tmp/logs/1/cp.ckpt\n",
            "60000/60000 [==============================] - 11s 188us/sample - loss: 0.0918 - accuracy: 0.9728 - mae: 4.3737 - acc: 0.9728 - val_loss: 0.0439 - val_accuracy: 0.9870 - val_mae: 4.3630 - val_acc: 0.9870\n",
            "Epoch 17/20\n",
            "59744/60000 [============================>.] - ETA: 0s - loss: 0.0914 - accuracy: 0.9727 - mae: 4.3729 - acc: 0.9727\n",
            "Epoch 00017: saving model to /tmp/logs/1/cp.ckpt\n",
            "60000/60000 [==============================] - 11s 190us/sample - loss: 0.0912 - accuracy: 0.9728 - mae: 4.3737 - acc: 0.9728 - val_loss: 0.0388 - val_accuracy: 0.9875 - val_mae: 4.3630 - val_acc: 0.9875\n",
            "Epoch 18/20\n",
            "59872/60000 [============================>.] - ETA: 0s - loss: 0.0916 - accuracy: 0.9729 - mae: 4.3734 - acc: 0.9729\n",
            "Epoch 00018: saving model to /tmp/logs/1/cp.ckpt\n",
            "60000/60000 [==============================] - 11s 187us/sample - loss: 0.0915 - accuracy: 0.9729 - mae: 4.3737 - acc: 0.9729 - val_loss: 0.0366 - val_accuracy: 0.9879 - val_mae: 4.3630 - val_acc: 0.9879\n",
            "Epoch 19/20\n",
            "59808/60000 [============================>.] - ETA: 0s - loss: 0.0892 - accuracy: 0.9735 - mae: 4.3730 - acc: 0.9735\n",
            "Epoch 00019: saving model to /tmp/logs/1/cp.ckpt\n",
            "60000/60000 [==============================] - 11s 192us/sample - loss: 0.0892 - accuracy: 0.9735 - mae: 4.3737 - acc: 0.9735 - val_loss: 0.0441 - val_accuracy: 0.9869 - val_mae: 4.3630 - val_acc: 0.9869\n",
            "Epoch 20/20\n",
            "59712/60000 [============================>.] - ETA: 0s - loss: 0.0922 - accuracy: 0.9730 - mae: 4.3730 - acc: 0.9730\n",
            "Epoch 00020: saving model to /tmp/logs/1/cp.ckpt\n",
            "60000/60000 [==============================] - 11s 188us/sample - loss: 0.0921 - accuracy: 0.9731 - mae: 4.3737 - acc: 0.9731 - val_loss: 0.0372 - val_accuracy: 0.9884 - val_mae: 4.3630 - val_acc: 0.9884\n",
            "10000/10000 [==============================] - 1s 87us/sample - loss: 0.0372 - accuracy: 0.9884 - mae: 4.3630 - acc: 0.9884\n"
          ],
          "name": "stdout"
        },
        {
          "output_type": "execute_result",
          "data": {
            "text/plain": [
              "[0.03717973082017761, 0.9884, 4.3629985, 0.9884]"
            ]
          },
          "metadata": {
            "tags": []
          },
          "execution_count": 6
        }
      ]
    },
    {
      "cell_type": "code",
      "metadata": {
        "id": "QQK7nFB8MwFg",
        "colab_type": "code",
        "colab": {}
      },
      "source": [
        ""
      ],
      "execution_count": 0,
      "outputs": []
    },
    {
      "cell_type": "code",
      "metadata": {
        "id": "ktDhHCOsMvyF",
        "colab_type": "code",
        "colab": {}
      },
      "source": [
        ""
      ],
      "execution_count": 0,
      "outputs": []
    },
    {
      "cell_type": "code",
      "metadata": {
        "id": "QxtwqsFhXZta",
        "colab_type": "code",
        "outputId": "b2b20c06-fc27-4dae-cc3f-9c36a7ac0ce5",
        "colab": {
          "base_uri": "https://localhost:8080/",
          "height": 158
        }
      },
      "source": [
        "!ls -lah {checkpoint_dir}\n",
        "model.load_weights(checkpoint_path)\n",
        "loss,acc = model.evaluate(x_test, y_test)\n",
        "print(\"Restored model, accuracy: {:5.2f}%\".format(100*acc))"
      ],
      "execution_count": 0,
      "outputs": [
        {
          "output_type": "stream",
          "text": [
            "total 1.7M\n",
            "drwxr-xr-x 2 root root 4.0K May 22 02:36 .\n",
            "drwxr-xr-x 1 root root 4.0K May 22 02:33 ..\n",
            "-rw-r--r-- 1 root root   71 May 22 02:36 checkpoint\n",
            "-rw-r--r-- 1 root root 1.6M May 22 02:36 cp.ckpt.data-00000-of-00001\n",
            "-rw-r--r-- 1 root root 1.3K May 22 02:36 cp.ckpt.index\n",
            "10000/10000 [==============================] - 1s 66us/sample - loss: 0.0404 - acc: 0.9884\n",
            "Restored model, accuracy: 98.84%\n"
          ],
          "name": "stdout"
        }
      ]
    },
    {
      "cell_type": "code",
      "metadata": {
        "id": "-t3LptIlXZzl",
        "colab_type": "code",
        "colab": {}
      },
      "source": [
        ""
      ],
      "execution_count": 0,
      "outputs": []
    },
    {
      "cell_type": "code",
      "metadata": {
        "id": "HOOf4yunXZ-J",
        "colab_type": "code",
        "colab": {}
      },
      "source": [
        ""
      ],
      "execution_count": 0,
      "outputs": []
    },
    {
      "cell_type": "code",
      "metadata": {
        "colab_type": "code",
        "id": "Qkt1IWuhJm3g",
        "colab": {}
      },
      "source": [
        ""
      ],
      "execution_count": 0,
      "outputs": []
    },
    {
      "cell_type": "code",
      "metadata": {
        "id": "F2KeITWrWqdD",
        "colab_type": "code",
        "colab": {}
      },
      "source": [
        ""
      ],
      "execution_count": 0,
      "outputs": []
    },
    {
      "cell_type": "code",
      "metadata": {
        "colab_type": "code",
        "id": "K0EDkMmFKYWL",
        "colab": {}
      },
      "source": [
        ""
      ],
      "execution_count": 0,
      "outputs": []
    },
    {
      "cell_type": "code",
      "metadata": {
        "id": "9GTwYG33RO7q",
        "colab_type": "code",
        "colab": {}
      },
      "source": [
        ""
      ],
      "execution_count": 0,
      "outputs": []
    },
    {
      "cell_type": "code",
      "metadata": {
        "id": "pFdkOhiNRPOv",
        "colab_type": "code",
        "colab": {}
      },
      "source": [
        ""
      ],
      "execution_count": 0,
      "outputs": []
    },
    {
      "cell_type": "code",
      "metadata": {
        "id": "Ff5SyaWhRQQB",
        "colab_type": "code",
        "colab": {}
      },
      "source": [
        ""
      ],
      "execution_count": 0,
      "outputs": []
    },
    {
      "cell_type": "code",
      "metadata": {
        "id": "Hph7WkqrRQm_",
        "colab_type": "code",
        "colab": {}
      },
      "source": [
        ""
      ],
      "execution_count": 0,
      "outputs": []
    },
    {
      "cell_type": "code",
      "metadata": {
        "id": "RcyVEUAPRQvq",
        "colab_type": "code",
        "colab": {}
      },
      "source": [
        ""
      ],
      "execution_count": 0,
      "outputs": []
    },
    {
      "cell_type": "code",
      "metadata": {
        "id": "RlmvC-ToRROv",
        "colab_type": "code",
        "colab": {}
      },
      "source": [
        ""
      ],
      "execution_count": 0,
      "outputs": []
    },
    {
      "cell_type": "code",
      "metadata": {
        "id": "h273LpUjRPUx",
        "colab_type": "code",
        "colab": {}
      },
      "source": [
        ""
      ],
      "execution_count": 0,
      "outputs": []
    },
    {
      "cell_type": "code",
      "metadata": {
        "id": "oh3XGkCNRPc8",
        "colab_type": "code",
        "colab": {}
      },
      "source": [
        ""
      ],
      "execution_count": 0,
      "outputs": []
    },
    {
      "cell_type": "code",
      "metadata": {
        "id": "ePnpIR6QWpFX",
        "colab_type": "code",
        "colab": {}
      },
      "source": [
        ""
      ],
      "execution_count": 0,
      "outputs": []
    },
    {
      "cell_type": "code",
      "metadata": {
        "id": "EmLy_d9DUKcn",
        "colab_type": "code",
        "colab": {}
      },
      "source": [
        ""
      ],
      "execution_count": 0,
      "outputs": []
    },
    {
      "cell_type": "code",
      "metadata": {
        "id": "NRaETCo0UKo-",
        "colab_type": "code",
        "colab": {}
      },
      "source": [
        ""
      ],
      "execution_count": 0,
      "outputs": []
    },
    {
      "cell_type": "code",
      "metadata": {
        "id": "ncM7gQTFUK46",
        "colab_type": "code",
        "colab": {}
      },
      "source": [
        ""
      ],
      "execution_count": 0,
      "outputs": []
    },
    {
      "cell_type": "code",
      "metadata": {
        "id": "E_rBD16FUK1G",
        "colab_type": "code",
        "colab": {}
      },
      "source": [
        ""
      ],
      "execution_count": 0,
      "outputs": []
    },
    {
      "cell_type": "code",
      "metadata": {
        "id": "BvEDk5LEUKwh",
        "colab_type": "code",
        "colab": {}
      },
      "source": [
        ""
      ],
      "execution_count": 0,
      "outputs": []
    },
    {
      "cell_type": "code",
      "metadata": {
        "id": "7B_fKfTKUKlA",
        "colab_type": "code",
        "colab": {}
      },
      "source": [
        ""
      ],
      "execution_count": 0,
      "outputs": []
    }
  ]
}