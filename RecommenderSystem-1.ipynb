{
  "nbformat": 4,
  "nbformat_minor": 0,
  "metadata": {
    "colab": {
      "name": "RecommenderSystem-1.ipynb",
      "version": "0.3.2",
      "provenance": []
    },
    "language_info": {
      "codemirror_mode": {
        "name": "ipython",
        "version": 3
      },
      "file_extension": ".py",
      "mimetype": "text/x-python",
      "name": "python",
      "nbconvert_exporter": "python",
      "pygments_lexer": "ipython3",
      "version": "3.7.3"
    },
    "kernelspec": {
      "name": "python3",
      "display_name": "Python 3"
    },
    "accelerator": "GPU"
  },
  "cells": [
    {
      "cell_type": "code",
      "metadata": {
        "colab_type": "code",
        "id": "f9VneyquFkVT",
        "outputId": "bcd510a0-1402-44af-fc42-5b708e0d44b5",
        "colab": {
          "base_uri": "https://localhost:8080/",
          "height": 35
        }
      },
      "source": [
        "!curl ifconfig.co"
      ],
      "execution_count": 0,
      "outputs": [
        {
          "output_type": "stream",
          "text": [
            "35.229.201.223\n"
          ],
          "name": "stdout"
        }
      ]
    },
    {
      "cell_type": "code",
      "metadata": {
        "id": "GUCIAhmxUQy1",
        "colab_type": "code",
        "outputId": "421df172-5e56-4bcd-aa9a-c9256fbd9d5e",
        "colab": {
          "base_uri": "https://localhost:8080/",
          "height": 122
        }
      },
      "source": [
        "from google.colab import drive\n",
        "drive.mount('/content/gdrive')"
      ],
      "execution_count": 1,
      "outputs": [
        {
          "output_type": "stream",
          "text": [
            "Go to this URL in a browser: https://accounts.google.com/o/oauth2/auth?client_id=947318989803-6bn6qk8qdgf4n4g3pfee6491hc0brc4i.apps.googleusercontent.com&redirect_uri=urn%3Aietf%3Awg%3Aoauth%3A2.0%3Aoob&scope=email%20https%3A%2F%2Fwww.googleapis.com%2Fauth%2Fdocs.test%20https%3A%2F%2Fwww.googleapis.com%2Fauth%2Fdrive%20https%3A%2F%2Fwww.googleapis.com%2Fauth%2Fdrive.photos.readonly%20https%3A%2F%2Fwww.googleapis.com%2Fauth%2Fpeopleapi.readonly&response_type=code\n",
            "\n",
            "Enter your authorization code:\n",
            "··········\n",
            "Mounted at /content/gdrive\n"
          ],
          "name": "stdout"
        }
      ]
    },
    {
      "cell_type": "code",
      "metadata": {
        "colab_type": "code",
        "id": "gQyEXH3xFkVa",
        "outputId": "f43320e2-2b28-49d5-9ece-af30c93c848d",
        "colab": {
          "base_uri": "https://localhost:8080/",
          "height": 615
        }
      },
      "source": [
        "!ls /content/gdrive/My\\ Drive/\n",
        "!cp -r /content/gdrive/My\\ Drive/BO-* /content/gdrive/My\\ Drive/resume\n",
        "!cd gdrive/My\\ Drive/colab\n",
        "!unzip /content/gdrive/My\\ Drive/colab/ml-100k.zip\n",
        "!ls gdrive/My\\ Drive/colab/ml-100k/"
      ],
      "execution_count": 0,
      "outputs": [
        {
          "output_type": "stream",
          "text": [
            " BO-DA-رزومه‌ها-E0\t\t  nimac.gsite\n",
            " colab\t\t\t\t  resume\n",
            "'Getting started.pdf'\t\t  SahabX-Sokan\n",
            "'hadoop meeting feedback.gform'  'اعضای دانشکده.xlsx'\n",
            "'Hadoop Meeting.gslides'\t 'پروژه هوش سحاب.gdoc'\n",
            " NimaBehrang.pdf\t\t 'مشخصات سرور.gsheet'\n",
            "Archive:  /content/gdrive/My Drive/colab/ml-100k.zip\n",
            "   creating: ml-100k/\n",
            "  inflating: ml-100k/allbut.pl       \n",
            "  inflating: ml-100k/mku.sh          \n",
            "  inflating: ml-100k/README          \n",
            "  inflating: ml-100k/u.data           bad CRC d354e598  (should be 55baee78)\n",
            "  inflating: ml-100k/u.genre         \n",
            "  inflating: ml-100k/u.info          \n",
            "  inflating: ml-100k/u.item          \n",
            "  inflating: ml-100k/u.occupation    \n",
            "  inflating: ml-100k/u.user          \n",
            "  inflating: ml-100k/u1.base         \n",
            "  inflating: ml-100k/u1.test         \n",
            "  inflating: ml-100k/u2.base         \n",
            "  inflating: ml-100k/u2.test         \n",
            "  inflating: ml-100k/u3.base         \n",
            "  inflating: ml-100k/u3.test         \n",
            "  inflating: ml-100k/u4.base         \n",
            "  inflating: ml-100k/u4.test         \n",
            "  inflating: ml-100k/u5.base         \n",
            "  inflating: ml-100k/u5.test         \n",
            "  inflating: ml-100k/ua.base         \n",
            "  inflating: ml-100k/ua.test         \n",
            "  inflating: ml-100k/ub.base         \n",
            "  inflating: ml-100k/ub.test         \n",
            "allbut.pl  u1.base  u2.test  u4.base  u5.test  ub.base\tu.genre  u.occupation\n",
            "mku.sh\t   u1.test  u3.base  u4.test  ua.base  ub.test\tu.info\t u.user\n",
            "README\t   u2.base  u3.test  u5.base  ua.test  u.data\tu.item\n"
          ],
          "name": "stdout"
        }
      ]
    },
    {
      "cell_type": "code",
      "metadata": {
        "id": "z8Spq_GceqcS",
        "colab_type": "code",
        "colab": {
          "base_uri": "https://localhost:8080/",
          "height": 68
        },
        "outputId": "45e4a84a-276b-4e65-cbad-b2278ac8180e"
      },
      "source": [
        "!pip install -q tensorflow-gpu==2.0.0a0\n",
        "!pip install -q tensorboard\n",
        "!pip install -q tensorboardcolab"
      ],
      "execution_count": 2,
      "outputs": [
        {
          "output_type": "stream",
          "text": [
            "\u001b[K     |████████████████████████████████| 332.1MB 53kB/s \n",
            "\u001b[K     |████████████████████████████████| 419kB 47.0MB/s \n",
            "\u001b[K     |████████████████████████████████| 3.0MB 47.1MB/s \n",
            "\u001b[?25h"
          ],
          "name": "stdout"
        }
      ]
    },
    {
      "cell_type": "code",
      "metadata": {
        "id": "59gDikS7BML2",
        "colab_type": "code",
        "colab": {}
      },
      "source": [
        ""
      ],
      "execution_count": 0,
      "outputs": []
    },
    {
      "cell_type": "code",
      "metadata": {
        "id": "rX2aSMcuBMdF",
        "colab_type": "code",
        "colab": {}
      },
      "source": [
        ""
      ],
      "execution_count": 0,
      "outputs": []
    },
    {
      "cell_type": "code",
      "metadata": {
        "id": "_BG19uUFBMms",
        "colab_type": "code",
        "colab": {}
      },
      "source": [
        ""
      ],
      "execution_count": 0,
      "outputs": []
    },
    {
      "cell_type": "code",
      "metadata": {
        "id": "0HpHoAejfHoC",
        "colab_type": "code",
        "outputId": "f2ae839a-4f85-4d4d-9805-f5418bf2d83e",
        "colab": {
          "base_uri": "https://localhost:8080/",
          "height": 85
        }
      },
      "source": [
        "from tensorflow.python import keras\n",
        "import tensorflow as tf\n",
        "from tensorboardcolab import *\n",
        "tbc=TensorBoardColab(port=6006, graph_path='/tmp/logs', startup_waiting_time=8)"
      ],
      "execution_count": 3,
      "outputs": [
        {
          "output_type": "stream",
          "text": [
            "Using TensorFlow backend.\n"
          ],
          "name": "stderr"
        },
        {
          "output_type": "stream",
          "text": [
            "Wait for 8 seconds...\n",
            "TensorBoard link:\n",
            "https://a8d6fbf7.ngrok.io\n"
          ],
          "name": "stdout"
        }
      ]
    },
    {
      "cell_type": "code",
      "metadata": {
        "id": "CwcRYcN5URxX",
        "colab_type": "code",
        "colab": {}
      },
      "source": [
        "  "
      ],
      "execution_count": 0,
      "outputs": []
    },
    {
      "cell_type": "code",
      "metadata": {
        "id": "ePnpIR6QWpFX",
        "colab_type": "code",
        "colab": {}
      },
      "source": [
        "# input_user = keras.Input(shape=(1,))  # Returns a placeholder tensor\n",
        "# input_item = keras.Input(shape=(1,))  # Returns a placeholder tensor\n",
        "# embed_user = keras.layers.Embedding(2000, 64)(input_user)\n",
        "# embed_item = keras.layers.Embedding(2000, 64)(input_item)\n",
        "# multiply = keras.layers.Multiply()([embed_user, embed_item])\n",
        "# rate = keras.layers.add(tf.unstack(multiply, axis=2))\n",
        "# model = keras.Model(inputs=[input_user, input_item], outputs = keras.activations.sigmoid(rate))\n",
        "# model.summary()"
      ],
      "execution_count": 0,
      "outputs": []
    },
    {
      "cell_type": "code",
      "metadata": {
        "id": "EmLy_d9DUKcn",
        "colab_type": "code",
        "outputId": "0c079dc9-1d3f-4791-80e2-e375320550a0",
        "colab": {
          "base_uri": "https://localhost:8080/",
          "height": 374
        }
      },
      "source": [
        "input_user = keras.Input(shape=(1,))  # Returns a placeholder tensor\n",
        "input_item = keras.Input(shape=(1,))  # Returns a placeholder tensor\n",
        "embed_user = keras.layers.Embedding(2000, 64)(input_user)\n",
        "embed_item = keras.layers.Embedding(2000, 64)(input_item)\n",
        "dot = keras.layers.dot(inputs=[embed_user, embed_item],axes=2)\n",
        "model_opt = keras.Model(inputs=[input_user, input_item], outputs = keras.activations.sigmoid(dot))\n",
        "model_opt.summary()\n",
        "\n",
        "\n",
        "sgd = tf.keras.optimizers.SGD(lr=0.01, clipvalue=0.5)\n",
        "adam = tf.keras.optimizers.Adam(lr=0.001, beta_1=0.999, beta_2=0.999, epsilon=None, decay=0.0, amsgrad=False)\n",
        "nadam = tf.keras.optimizers.Nadam(lr=0.002, beta_1=0.9, beta_2=0.999, epsilon=None, schedule_decay=0.004)\n",
        "\n",
        "model_opt.compile(optimizer='adam',\n",
        "            loss='mean_squared_error',\n",
        "            metrics=['accuracy','mae'])"
      ],
      "execution_count": 5,
      "outputs": [
        {
          "output_type": "stream",
          "text": [
            "Model: \"model\"\n",
            "__________________________________________________________________________________________________\n",
            "Layer (type)                    Output Shape         Param #     Connected to                     \n",
            "==================================================================================================\n",
            "input_1 (InputLayer)            [(None, 1)]          0                                            \n",
            "__________________________________________________________________________________________________\n",
            "input_2 (InputLayer)            [(None, 1)]          0                                            \n",
            "__________________________________________________________________________________________________\n",
            "embedding (Embedding)           (None, 1, 64)        128000      input_1[0][0]                    \n",
            "__________________________________________________________________________________________________\n",
            "embedding_1 (Embedding)         (None, 1, 64)        128000      input_2[0][0]                    \n",
            "__________________________________________________________________________________________________\n",
            "dot (Dot)                       (None, 1, 1)         0           embedding[0][0]                  \n",
            "                                                                 embedding_1[0][0]                \n",
            "__________________________________________________________________________________________________\n",
            "Sigmoid (TensorFlowOpLayer)     [(None, 1, 1)]       0           dot[0][0]                        \n",
            "==================================================================================================\n",
            "Total params: 256,000\n",
            "Trainable params: 256,000\n",
            "Non-trainable params: 0\n",
            "__________________________________________________________________________________________________\n"
          ],
          "name": "stdout"
        }
      ]
    },
    {
      "cell_type": "code",
      "metadata": {
        "id": "CdsDAIi1-Yhv",
        "colab_type": "code",
        "colab": {
          "base_uri": "https://localhost:8080/",
          "height": 85
        },
        "outputId": "44008d4a-5514-4abb-af5c-c080d5f8457b"
      },
      "source": [
        "import numpy as np\n",
        "data = np.genfromtxt(\"/content/gdrive/My Drive/colab/ml-100k/u.data\", dtype=int)\n",
        "train_data = []\n",
        "test_data = []\n",
        "UPL=50\n",
        "topK=10\n",
        "users = np.unique(data[:,0])\n",
        "for user in users:\n",
        "  userrows = data[(np.where(data[:,0] == user)),:][0]\n",
        "  if len(userrows) > UPL + topK:\n",
        "    np.random.shuffle(userrows)\n",
        "    for item in userrows[:UPL]:\n",
        "      train_data.append(item)\n",
        "    for item in userrows[UPL:]:\n",
        "      test_data.append(item)\n",
        "train_data = np.asarray(train_data)\n",
        "test_data = np.asarray(test_data)\n",
        "\n",
        "print(np.shape(train_data))\n",
        "print(np.shape(test_data))\n",
        "print(train_data[0])\n",
        "print(test_data[0])\n"
      ],
      "execution_count": 37,
      "outputs": [
        {
          "output_type": "stream",
          "text": [
            "(24700, 4)\n",
            "(59716, 4)\n",
            "[        1        52         4 875072205]\n",
            "[        1       105         2 875240739]\n"
          ],
          "name": "stdout"
        }
      ]
    },
    {
      "cell_type": "code",
      "metadata": {
        "id": "OVwWoT_rARs5",
        "colab_type": "code",
        "colab": {}
      },
      "source": [
        "keras.backend.clear_session()"
      ],
      "execution_count": 0,
      "outputs": []
    },
    {
      "cell_type": "code",
      "metadata": {
        "id": "NRaETCo0UKo-",
        "colab_type": "code",
        "outputId": "85064ed4-5741-4d79-a5cd-58e7356be3d1",
        "colab": {
          "base_uri": "https://localhost:8080/",
          "height": 731
        }
      },
      "source": [
        "def castRate(inp):\n",
        "  return inp/5-0.1\n",
        "\n",
        "x_train = [train_data[:,0],train_data[:,1]]\n",
        "y_train = [castRate(x) for x in train_data[:,2]]\n",
        "x_test = [test_data[:,0],test_data[:,1]]\n",
        "y_test = [castRate(x) for x in test_data[:,2]]\n",
        "\n",
        "logdir=\"/tmp/logs/2\"\n",
        "checkpoint_path = logdir + \"/cp.ckpt\"\n",
        "# checkpoint_dir = os.path.dirname(checkpoint_path)\n",
        "\n",
        "cp_callback = tf.keras.callbacks.ModelCheckpoint(checkpoint_path, save_weights_only=True, verbose=1)\n",
        "tb_callback = tf.keras.callbacks.TensorBoard(log_dir=checkpoint_path, histogram_freq=0,\n",
        "                                             write_graph=True, write_grads=False, write_images=False,\n",
        "                                             embeddings_freq=0, embeddings_layer_names=None,\n",
        "                                             embeddings_metadata=None, embeddings_data=[], update_freq='epoch')\n",
        "es_callback = tf.keras.callbacks.EarlyStopping(monitor='val_loss', min_delta=0.001, patience=1, verbose=1,\n",
        "                                               mode='auto', baseline=None, restore_best_weights=False)\n",
        "\n",
        "fit = model_opt.fit(x_train, y_train, validation_data=(x_test, y_test), epochs=10,\n",
        "                    callbacks = [cp_callback, tb_callback], batch_size=500)\n",
        "                # callbacks = [cp_callback, tb_callback, es_callback], batch_size=100)"
      ],
      "execution_count": 39,
      "outputs": [
        {
          "output_type": "stream",
          "text": [
            "W0729 15:11:36.366191 140106739226496 tf_logging.py:161] Model failed to serialize as JSON. Ignoring... ('Not JSON Serializable:', b'\\n\\x07Sigmoid\\x12\\x07Sigmoid\\x1a\\ndot/MatMul*\\x07\\n\\x01T\\x12\\x020\\x01')\n"
          ],
          "name": "stderr"
        },
        {
          "output_type": "stream",
          "text": [
            "Train on 24700 samples, validate on 59716 samples\n",
            "Epoch 1/10\n",
            "24500/24700 [============================>.] - ETA: 0s - loss: 0.0507 - accuracy: 0.0000e+00 - mae: 0.1876\n",
            "Epoch 00001: saving model to /tmp/logs/2/cp.ckpt\n",
            "24700/24700 [==============================] - 1s 22us/sample - loss: 0.0507 - accuracy: 0.0000e+00 - mae: 0.1876 - val_loss: 0.0511 - val_accuracy: 0.0000e+00 - val_mae: 0.1884\n",
            "Epoch 2/10\n",
            "24500/24700 [============================>.] - ETA: 0s - loss: 0.0506 - accuracy: 0.0000e+00 - mae: 0.1883\n",
            "Epoch 00002: saving model to /tmp/logs/2/cp.ckpt\n",
            "24700/24700 [==============================] - 1s 22us/sample - loss: 0.0506 - accuracy: 0.0000e+00 - mae: 0.1883 - val_loss: 0.0510 - val_accuracy: 0.0000e+00 - val_mae: 0.1885\n",
            "Epoch 3/10\n",
            "19500/24700 [======================>.......] - ETA: 0s - loss: 0.0508 - accuracy: 0.0000e+00 - mae: 0.1887\n",
            "Epoch 00003: saving model to /tmp/logs/2/cp.ckpt\n",
            "24700/24700 [==============================] - 1s 21us/sample - loss: 0.0506 - accuracy: 0.0000e+00 - mae: 0.1884 - val_loss: 0.0510 - val_accuracy: 0.0000e+00 - val_mae: 0.1885\n",
            "Epoch 4/10\n",
            "18500/24700 [=====================>........] - ETA: 0s - loss: 0.0501 - accuracy: 0.0000e+00 - mae: 0.1876\n",
            "Epoch 00004: saving model to /tmp/logs/2/cp.ckpt\n",
            "24700/24700 [==============================] - 1s 22us/sample - loss: 0.0506 - accuracy: 0.0000e+00 - mae: 0.1884 - val_loss: 0.0510 - val_accuracy: 0.0000e+00 - val_mae: 0.1884\n",
            "Epoch 5/10\n",
            "23500/24700 [===========================>..] - ETA: 0s - loss: 0.0506 - accuracy: 0.0000e+00 - mae: 0.1883\n",
            "Epoch 00005: saving model to /tmp/logs/2/cp.ckpt\n",
            "24700/24700 [==============================] - 1s 22us/sample - loss: 0.0506 - accuracy: 0.0000e+00 - mae: 0.1883 - val_loss: 0.0510 - val_accuracy: 0.0000e+00 - val_mae: 0.1884\n",
            "Epoch 6/10\n",
            "24500/24700 [============================>.] - ETA: 0s - loss: 0.0506 - accuracy: 0.0000e+00 - mae: 0.1884\n",
            "Epoch 00006: saving model to /tmp/logs/2/cp.ckpt\n",
            "24700/24700 [==============================] - 1s 23us/sample - loss: 0.0506 - accuracy: 0.0000e+00 - mae: 0.1884 - val_loss: 0.0510 - val_accuracy: 0.0000e+00 - val_mae: 0.1885\n",
            "Epoch 7/10\n",
            "24500/24700 [============================>.] - ETA: 0s - loss: 0.0506 - accuracy: 0.0000e+00 - mae: 0.1884\n",
            "Epoch 00007: saving model to /tmp/logs/2/cp.ckpt\n",
            "24700/24700 [==============================] - 1s 22us/sample - loss: 0.0506 - accuracy: 0.0000e+00 - mae: 0.1884 - val_loss: 0.0510 - val_accuracy: 0.0000e+00 - val_mae: 0.1885\n",
            "Epoch 8/10\n",
            "22000/24700 [=========================>....] - ETA: 0s - loss: 0.0504 - accuracy: 0.0000e+00 - mae: 0.1881\n",
            "Epoch 00008: saving model to /tmp/logs/2/cp.ckpt\n",
            "24700/24700 [==============================] - 1s 22us/sample - loss: 0.0506 - accuracy: 0.0000e+00 - mae: 0.1884 - val_loss: 0.0510 - val_accuracy: 0.0000e+00 - val_mae: 0.1884\n",
            "Epoch 9/10\n",
            "24500/24700 [============================>.] - ETA: 0s - loss: 0.0506 - accuracy: 0.0000e+00 - mae: 0.1883\n",
            "Epoch 00009: saving model to /tmp/logs/2/cp.ckpt\n",
            "24700/24700 [==============================] - 1s 22us/sample - loss: 0.0506 - accuracy: 0.0000e+00 - mae: 0.1883 - val_loss: 0.0510 - val_accuracy: 0.0000e+00 - val_mae: 0.1885\n",
            "Epoch 10/10\n",
            "22000/24700 [=========================>....] - ETA: 0s - loss: 0.0505 - accuracy: 0.0000e+00 - mae: 0.1883\n",
            "Epoch 00010: saving model to /tmp/logs/2/cp.ckpt\n",
            "24700/24700 [==============================] - 1s 23us/sample - loss: 0.0506 - accuracy: 0.0000e+00 - mae: 0.1883 - val_loss: 0.0510 - val_accuracy: 0.0000e+00 - val_mae: 0.1884\n"
          ],
          "name": "stdout"
        }
      ]
    },
    {
      "cell_type": "code",
      "metadata": {
        "id": "BvEDk5LEUKwh",
        "colab_type": "code",
        "colab": {}
      },
      "source": [
        ""
      ],
      "execution_count": 0,
      "outputs": []
    },
    {
      "cell_type": "code",
      "metadata": {
        "id": "7B_fKfTKUKlA",
        "colab_type": "code",
        "colab": {
          "base_uri": "https://localhost:8080/",
          "height": 547
        },
        "outputId": "10f59a82-ae28-4c66-c609-b457942e70ac"
      },
      "source": [
        "def calcHitRatio(test_data):\n",
        "  x_test = [test_data[:,0],test_data[:,1]]\n",
        "  y_test = [castRate(x) for x in test_data[:,2]]\n",
        "  predict_rate = model_opt.predict(x_test)\n",
        "  users_number = np.unique(test_data[:,0])\n",
        "  predict = [(user, movie, rate[0][0]) for user,movie,rate in zip(test_data[:,0], test_data[:,1],predict_rate)]\n",
        "  real = [(user, movie, castRate(rate)) for user,movie,rate in zip(test_data[:,0], test_data[:,1], test_data[:,2])]\n",
        "\n",
        "  print(predict[:20])\n",
        "  print(real[:20])\n",
        "\n",
        "  avr, num = (0,0)\n",
        "  for selected_user in users_number:\n",
        "    predict_for_user = sorted([(user, movie, rate) for user,movie,rate in predict if user == selected_user], key=lambda x: (x[2], x[1]), reverse=True)\n",
        "    real_for_user = sorted([(user, movie, rate) for user,movie,rate in real if user == selected_user], key=lambda x: (x[2], x[1]), reverse=True)\n",
        "    count = 0\n",
        "    if selected_user == 1:\n",
        "        print(predict_for_user)\n",
        "        print(real_for_user)\n",
        "    for u,m,r in real_for_user[:topK]:\n",
        "      count += len([x for x,y,z in predict_for_user[:topK] if y == m])\n",
        "    if selected_user < 50:\n",
        "      print(count)\n",
        "    avr = (avr*num + count)/(num+1)\n",
        "    num = num+1\n",
        "  return (avr,num)\n",
        "\n",
        "print(calcHitRatio(test_data))"
      ],
      "execution_count": 40,
      "outputs": [
        {
          "output_type": "stream",
          "text": [
            "[(1, 105, 0.60632575), (1, 244, 0.6088274), (1, 117, 0.61653256), (1, 258, 0.61394703), (1, 232, 0.6118123), (1, 35, 0.6093758), (1, 8, 0.6131339), (1, 192, 0.6094094), (1, 38, 0.6144154), (1, 20, 0.61947894), (1, 25, 0.61220956), (1, 239, 0.61285853), (1, 77, 0.6102416), (1, 87, 0.61466575), (1, 227, 0.60791177), (1, 134, 0.6135156), (1, 177, 0.6166001), (1, 193, 0.6131902), (1, 121, 0.61141425), (1, 102, 0.611959)]\n",
            "[(1, 105, 0.30000000000000004), (1, 244, 0.30000000000000004), (1, 117, 0.5), (1, 258, 0.9), (1, 232, 0.5), (1, 35, 0.1), (1, 8, 0.1), (1, 192, 0.7000000000000001), (1, 38, 0.5), (1, 20, 0.7000000000000001), (1, 25, 0.7000000000000001), (1, 239, 0.7000000000000001), (1, 77, 0.7000000000000001), (1, 87, 0.9), (1, 227, 0.7000000000000001), (1, 134, 0.7000000000000001), (1, 177, 0.9), (1, 193, 0.7000000000000001), (1, 121, 0.7000000000000001), (1, 102, 0.30000000000000004)]\n",
            "[(1, 110, 0.62027943), (1, 139, 0.61965835), (1, 20, 0.61947894), (1, 124, 0.6193177), (1, 2, 0.6185996), (1, 209, 0.61821413), (1, 190, 0.61778724), (1, 171, 0.6176341), (1, 242, 0.6176327), (1, 13, 0.6174249), (1, 5, 0.61732316), (1, 23, 0.6172634), (1, 179, 0.6171702), (1, 194, 0.61714), (1, 91, 0.6169927), (1, 180, 0.61694837), (1, 201, 0.61686313), (1, 215, 0.6168002), (1, 9, 0.6167756), (1, 250, 0.6167112), (1, 177, 0.6166001), (1, 204, 0.6165811), (1, 117, 0.61653256), (1, 203, 0.61644), (1, 131, 0.61642766), (1, 32, 0.6164262), (1, 53, 0.61625767), (1, 129, 0.616207), (1, 98, 0.61615145), (1, 170, 0.61595225), (1, 27, 0.61569786), (1, 81, 0.6156111), (1, 148, 0.6155818), (1, 89, 0.6155813), (1, 199, 0.6154841), (1, 153, 0.6154309), (1, 73, 0.6153722), (1, 127, 0.61527556), (1, 4, 0.61519134), (1, 14, 0.6149971), (1, 112, 0.6149835), (1, 223, 0.6149684), (1, 169, 0.6149567), (1, 135, 0.61485934), (1, 7, 0.61476773), (1, 213, 0.6147519), (1, 253, 0.6147171), (1, 87, 0.61466575), (1, 59, 0.61464405), (1, 38, 0.6144154), (1, 207, 0.61433697), (1, 269, 0.61409473), (1, 272, 0.6140312), (1, 125, 0.61403054), (1, 218, 0.61402065), (1, 173, 0.61398983), (1, 156, 0.6139567), (1, 47, 0.6139501), (1, 258, 0.61394703), (1, 210, 0.61384124), (1, 185, 0.6136496), (1, 136, 0.61360574), (1, 200, 0.61354244), (1, 72, 0.6135319), (1, 134, 0.6135156), (1, 69, 0.6134042), (1, 133, 0.61338866), (1, 146, 0.6133246), (1, 43, 0.61330277), (1, 248, 0.6132505), (1, 86, 0.61322826), (1, 71, 0.6132275), (1, 92, 0.61321986), (1, 193, 0.6131902), (1, 251, 0.61318696), (1, 130, 0.61318487), (1, 70, 0.6131552), (1, 191, 0.61314285), (1, 8, 0.6131339), (1, 257, 0.6130813), (1, 176, 0.6130291), (1, 163, 0.6130224), (1, 175, 0.61299115), (1, 33, 0.6129663), (1, 114, 0.61293846), (1, 113, 0.6128848), (1, 240, 0.6128837), (1, 239, 0.61285853), (1, 196, 0.6128348), (1, 3, 0.6127869), (1, 205, 0.6127589), (1, 234, 0.6127345), (1, 44, 0.61256766), (1, 268, 0.612541), (1, 245, 0.6124514), (1, 184, 0.61241734), (1, 60, 0.61241674), (1, 93, 0.6124028), (1, 82, 0.6123484), (1, 40, 0.6123193), (1, 241, 0.61229724), (1, 109, 0.61228806), (1, 48, 0.6122818), (1, 161, 0.6122698), (1, 25, 0.61220956), (1, 233, 0.612171), (1, 206, 0.61215293), (1, 128, 0.6120707), (1, 108, 0.61203146), (1, 102, 0.611959), (1, 264, 0.6119544), (1, 188, 0.61188865), (1, 46, 0.6118586), (1, 214, 0.6118184), (1, 232, 0.6118123), (1, 202, 0.61175066), (1, 174, 0.61170757), (1, 56, 0.6116896), (1, 67, 0.61168694), (1, 144, 0.6116618), (1, 149, 0.61159885), (1, 235, 0.6115323), (1, 168, 0.6115079), (1, 195, 0.61141497), (1, 121, 0.61141425), (1, 22, 0.6114037), (1, 21, 0.61133367), (1, 243, 0.6112186), (1, 143, 0.6112035), (1, 150, 0.6111391), (1, 198, 0.6111389), (1, 83, 0.6111312), (1, 29, 0.61111194), (1, 259, 0.61110187), (1, 101, 0.6110955), (1, 265, 0.61107343), (1, 95, 0.61105025), (1, 187, 0.6109847), (1, 212, 0.6109132), (1, 271, 0.6108673), (1, 172, 0.6107882), (1, 211, 0.61078227), (1, 88, 0.61073923), (1, 167, 0.6107204), (1, 230, 0.6106206), (1, 45, 0.6106008), (1, 76, 0.610598), (1, 62, 0.6105477), (1, 266, 0.6105413), (1, 55, 0.61053956), (1, 216, 0.6104789), (1, 183, 0.6104489), (1, 39, 0.61043674), (1, 96, 0.6103766), (1, 41, 0.6102509), (1, 77, 0.6102416), (1, 225, 0.6101637), (1, 30, 0.61011237), (1, 238, 0.61005926), (1, 147, 0.61005265), (1, 249, 0.6099737), (1, 12, 0.6099413), (1, 226, 0.60994124), (1, 155, 0.6097852), (1, 142, 0.6097786), (1, 28, 0.6097407), (1, 1, 0.6096633), (1, 186, 0.60959035), (1, 178, 0.6095657), (1, 192, 0.6094094), (1, 189, 0.6093891), (1, 97, 0.60938257), (1, 35, 0.6093758), (1, 256, 0.6093597), (1, 255, 0.6093176), (1, 19, 0.6092864), (1, 17, 0.6090626), (1, 231, 0.60903794), (1, 254, 0.6088912), (1, 132, 0.60887206), (1, 244, 0.6088274), (1, 166, 0.60872483), (1, 229, 0.6086174), (1, 90, 0.608605), (1, 84, 0.6085309), (1, 42, 0.608446), (1, 58, 0.6084033), (1, 267, 0.6083919), (1, 15, 0.6081728), (1, 11, 0.6080344), (1, 227, 0.60791177), (1, 74, 0.60787046), (1, 158, 0.6078563), (1, 120, 0.6078339), (1, 138, 0.60780096), (1, 165, 0.60775924), (1, 24, 0.60772526), (1, 99, 0.6076322), (1, 260, 0.6075967), (1, 115, 0.60741943), (1, 68, 0.60725844), (1, 61, 0.60678816), (1, 78, 0.6065128), (1, 222, 0.60645), (1, 105, 0.60632575), (1, 123, 0.6063031), (1, 66, 0.60623264), (1, 262, 0.60591334), (1, 252, 0.6058352), (1, 263, 0.605833), (1, 261, 0.6050901), (1, 6, 0.604349), (1, 18, 0.60423076), (1, 140, 0.6041778), (1, 107, 0.6036858), (1, 51, 0.60321563), (1, 145, 0.6024252), (1, 247, 0.60113776), (1, 36, 0.5978659), (1, 37, 0.5977095), (1, 104, 0.5902007), (1, 34, 0.55912316)]\n",
            "[(1, 269, 0.9), (1, 268, 0.9), (1, 258, 0.9), (1, 253, 0.9), (1, 242, 0.9), (1, 235, 0.9), (1, 223, 0.9), (1, 216, 0.9), (1, 207, 0.9), (1, 204, 0.9), (1, 202, 0.9), (1, 198, 0.9), (1, 196, 0.9), (1, 195, 0.9), (1, 191, 0.9), (1, 190, 0.9), (1, 183, 0.9), (1, 178, 0.9), (1, 177, 0.9), (1, 176, 0.9), (1, 175, 0.9), (1, 174, 0.9), (1, 173, 0.9), (1, 172, 0.9), (1, 171, 0.9), (1, 170, 0.9), (1, 169, 0.9), (1, 168, 0.9), (1, 166, 0.9), (1, 165, 0.9), (1, 150, 0.9), (1, 129, 0.9), (1, 127, 0.9), (1, 124, 0.9), (1, 115, 0.9), (1, 114, 0.9), (1, 113, 0.9), (1, 109, 0.9), (1, 108, 0.9), (1, 96, 0.9), (1, 93, 0.9), (1, 91, 0.9), (1, 89, 0.9), (1, 87, 0.9), (1, 86, 0.9), (1, 82, 0.9), (1, 81, 0.9), (1, 60, 0.9), (1, 59, 0.9), (1, 55, 0.9), (1, 48, 0.9), (1, 45, 0.9), (1, 44, 0.9), (1, 42, 0.9), (1, 32, 0.9), (1, 19, 0.9), (1, 15, 0.9), (1, 14, 0.9), (1, 13, 0.9), (1, 12, 0.9), (1, 9, 0.9), (1, 6, 0.9), (1, 1, 0.9), (1, 267, 0.7000000000000001), (1, 265, 0.7000000000000001), (1, 257, 0.7000000000000001), (1, 256, 0.7000000000000001), (1, 251, 0.7000000000000001), (1, 250, 0.7000000000000001), (1, 249, 0.7000000000000001), (1, 248, 0.7000000000000001), (1, 241, 0.7000000000000001), (1, 239, 0.7000000000000001), (1, 238, 0.7000000000000001), (1, 234, 0.7000000000000001), (1, 230, 0.7000000000000001), (1, 229, 0.7000000000000001), (1, 227, 0.7000000000000001), (1, 222, 0.7000000000000001), (1, 214, 0.7000000000000001), (1, 212, 0.7000000000000001), (1, 210, 0.7000000000000001), (1, 209, 0.7000000000000001), (1, 206, 0.7000000000000001), (1, 203, 0.7000000000000001), (1, 199, 0.7000000000000001), (1, 194, 0.7000000000000001), (1, 193, 0.7000000000000001), (1, 192, 0.7000000000000001), (1, 187, 0.7000000000000001), (1, 186, 0.7000000000000001), (1, 185, 0.7000000000000001), (1, 184, 0.7000000000000001), (1, 163, 0.7000000000000001), (1, 161, 0.7000000000000001), (1, 156, 0.7000000000000001), (1, 146, 0.7000000000000001), (1, 144, 0.7000000000000001), (1, 135, 0.7000000000000001), (1, 134, 0.7000000000000001), (1, 133, 0.7000000000000001), (1, 132, 0.7000000000000001), (1, 128, 0.7000000000000001), (1, 123, 0.7000000000000001), (1, 121, 0.7000000000000001), (1, 107, 0.7000000000000001), (1, 98, 0.7000000000000001), (1, 95, 0.7000000000000001), (1, 90, 0.7000000000000001), (1, 88, 0.7000000000000001), (1, 84, 0.7000000000000001), (1, 77, 0.7000000000000001), (1, 76, 0.7000000000000001), (1, 72, 0.7000000000000001), (1, 68, 0.7000000000000001), (1, 66, 0.7000000000000001), (1, 61, 0.7000000000000001), (1, 58, 0.7000000000000001), (1, 56, 0.7000000000000001), (1, 51, 0.7000000000000001), (1, 47, 0.7000000000000001), (1, 46, 0.7000000000000001), (1, 43, 0.7000000000000001), (1, 39, 0.7000000000000001), (1, 33, 0.7000000000000001), (1, 28, 0.7000000000000001), (1, 25, 0.7000000000000001), (1, 23, 0.7000000000000001), (1, 22, 0.7000000000000001), (1, 20, 0.7000000000000001), (1, 18, 0.7000000000000001), (1, 7, 0.7000000000000001), (1, 3, 0.7000000000000001), (1, 272, 0.5), (1, 262, 0.5), (1, 240, 0.5), (1, 232, 0.5), (1, 226, 0.5), (1, 218, 0.5), (1, 215, 0.5), (1, 211, 0.5), (1, 205, 0.5), (1, 201, 0.5), (1, 200, 0.5), (1, 189, 0.5), (1, 188, 0.5), (1, 180, 0.5), (1, 179, 0.5), (1, 158, 0.5), (1, 153, 0.5), (1, 147, 0.5), (1, 139, 0.5), (1, 136, 0.5), (1, 130, 0.5), (1, 125, 0.5), (1, 117, 0.5), (1, 99, 0.5), (1, 97, 0.5), (1, 92, 0.5), (1, 83, 0.5), (1, 73, 0.5), (1, 71, 0.5), (1, 70, 0.5), (1, 69, 0.5), (1, 67, 0.5), (1, 62, 0.5), (1, 53, 0.5), (1, 40, 0.5), (1, 38, 0.5), (1, 30, 0.5), (1, 24, 0.5), (1, 17, 0.5), (1, 5, 0.5), (1, 4, 0.5), (1, 2, 0.5), (1, 271, 0.30000000000000004), (1, 264, 0.30000000000000004), (1, 255, 0.30000000000000004), (1, 252, 0.30000000000000004), (1, 245, 0.30000000000000004), (1, 244, 0.30000000000000004), (1, 233, 0.30000000000000004), (1, 225, 0.30000000000000004), (1, 213, 0.30000000000000004), (1, 167, 0.30000000000000004), (1, 155, 0.30000000000000004), (1, 149, 0.30000000000000004), (1, 148, 0.30000000000000004), (1, 145, 0.30000000000000004), (1, 142, 0.30000000000000004), (1, 105, 0.30000000000000004), (1, 102, 0.30000000000000004), (1, 101, 0.30000000000000004), (1, 41, 0.30000000000000004), (1, 37, 0.30000000000000004), (1, 36, 0.30000000000000004), (1, 34, 0.30000000000000004), (1, 27, 0.30000000000000004), (1, 11, 0.30000000000000004), (1, 266, 0.1), (1, 263, 0.1), (1, 261, 0.1), (1, 260, 0.1), (1, 259, 0.1), (1, 254, 0.1), (1, 247, 0.1), (1, 243, 0.1), (1, 231, 0.1), (1, 143, 0.1), (1, 140, 0.1), (1, 138, 0.1), (1, 131, 0.1), (1, 120, 0.1), (1, 112, 0.1), (1, 110, 0.1), (1, 104, 0.1), (1, 78, 0.1), (1, 74, 0.1), (1, 35, 0.1), (1, 29, 0.1), (1, 21, 0.1), (1, 8, 0.1)]\n",
            "1\n",
            "9\n",
            "0\n",
            "1\n",
            "0\n",
            "1\n",
            "3\n",
            "0\n",
            "4\n",
            "5\n",
            "1\n",
            "0\n",
            "0\n",
            "0\n",
            "3\n",
            "5\n",
            "4\n",
            "0\n",
            "5\n",
            "2\n",
            "1\n",
            "0\n",
            "2\n",
            "6\n",
            "1\n",
            "(2.062753036437248, 494)\n"
          ],
          "name": "stdout"
        }
      ]
    },
    {
      "cell_type": "code",
      "metadata": {
        "id": "hGkp-p7IFWJE",
        "colab_type": "code",
        "colab": {}
      },
      "source": [
        ""
      ],
      "execution_count": 0,
      "outputs": []
    }
  ]
}