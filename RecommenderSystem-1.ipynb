{
  "nbformat": 4,
  "nbformat_minor": 0,
  "metadata": {
    "colab": {
      "name": "RecommenderSystem-1.ipynb",
      "version": "0.3.2",
      "provenance": []
    },
    "language_info": {
      "codemirror_mode": {
        "name": "ipython",
        "version": 3
      },
      "file_extension": ".py",
      "mimetype": "text/x-python",
      "name": "python",
      "nbconvert_exporter": "python",
      "pygments_lexer": "ipython3",
      "version": "3.7.3"
    },
    "kernelspec": {
      "name": "python3",
      "display_name": "Python 3"
    },
    "accelerator": "GPU"
  },
  "cells": [
    {
      "cell_type": "code",
      "metadata": {
        "colab_type": "code",
        "id": "ZDBpMKqQFkU2",
        "colab": {}
      },
      "source": [
        "!mkdir dataset\n",
        "from google.colab import files\n",
        "src = list(files.upload().values())[0]\n",
        "open('\\dataset','wb').write(src)\n",
        "!mv sample_mobile_data_1000.csv dataset/\n",
        "!ls dataset"
      ],
      "execution_count": 0,
      "outputs": []
    },
    {
      "cell_type": "code",
      "metadata": {
        "colab_type": "code",
        "id": "VX1t4raqFkVI",
        "colab": {}
      },
      "source": [
        ""
      ],
      "execution_count": 0,
      "outputs": []
    },
    {
      "cell_type": "code",
      "metadata": {
        "colab_type": "code",
        "id": "f9VneyquFkVT",
        "outputId": "6a29c36f-bf02-4d8f-edd6-fe8ca4fb049c",
        "colab": {
          "base_uri": "https://localhost:8080/",
          "height": 35
        }
      },
      "source": [
        "!curl ifconfig.co"
      ],
      "execution_count": 0,
      "outputs": [
        {
          "output_type": "stream",
          "text": [
            "34.76.163.135\n"
          ],
          "name": "stdout"
        }
      ]
    },
    {
      "cell_type": "code",
      "metadata": {
        "id": "GUCIAhmxUQy1",
        "colab_type": "code",
        "outputId": "5644c5ed-7ba8-4625-ae92-4e7d0598c5b8",
        "colab": {
          "base_uri": "https://localhost:8080/",
          "height": 34
        }
      },
      "source": [
        "from google.colab import drive\n",
        "drive.mount('/content/gdrive')"
      ],
      "execution_count": 2,
      "outputs": [
        {
          "output_type": "stream",
          "text": [
            "Drive already mounted at /content/gdrive; to attempt to forcibly remount, call drive.mount(\"/content/gdrive\", force_remount=True).\n"
          ],
          "name": "stdout"
        }
      ]
    },
    {
      "cell_type": "code",
      "metadata": {
        "colab_type": "code",
        "id": "gQyEXH3xFkVa",
        "outputId": "dbda6f45-8bf8-42a7-b157-44d593ff19e5",
        "colab": {
          "base_uri": "https://localhost:8080/",
          "height": 119
        }
      },
      "source": [
        "!ls /content/gdrive/My\\ Drive/\n",
        "!cp -r /content/gdrive/My\\ Drive/BO-* /content/gdrive/My\\ Drive/resume\n",
        "!cd gdrive/My\\ Drive/colab"
      ],
      "execution_count": 0,
      "outputs": [
        {
          "output_type": "stream",
          "text": [
            " BO-DA-رزومه‌ها-E0\t\t  nimac.gsite\n",
            " colab\t\t\t\t  SahabX-Sokan\n",
            "'Getting started.pdf'\t\t 'اعضای دانشکده.xlsx'\n",
            "'hadoop meeting feedback.gform'  'پروژه هوش سحاب.gdoc'\n",
            "'Hadoop Meeting.gslides'\t 'مشخصات سرور.gsheet'\n",
            " NimaBehrang.pdf\n"
          ],
          "name": "stdout"
        }
      ]
    },
    {
      "cell_type": "code",
      "metadata": {
        "colab_type": "code",
        "id": "8HxupmItFkVh",
        "colab": {}
      },
      "source": [
        "!unzip /content/gdrive/My\\ Drive/colab/ml-100k.zip"
      ],
      "execution_count": 0,
      "outputs": []
    },
    {
      "cell_type": "code",
      "metadata": {
        "id": "nRL4R5tvYcfZ",
        "colab_type": "code",
        "outputId": "50e94512-635c-4d2c-88f3-62e1abde2f37",
        "colab": {
          "base_uri": "https://localhost:8080/",
          "height": 73
        }
      },
      "source": [
        "!ls gdrive/My\\ Drive/colab/ml-100k/"
      ],
      "execution_count": 0,
      "outputs": [
        {
          "output_type": "stream",
          "text": [
            "allbut.pl  u1.base  u2.test  u4.base  u5.test  ub.base\tu.genre  u.occupation\n",
            "mku.sh\t   u1.test  u3.base  u4.test  ua.base  ub.test\tu.info\t u.user\n",
            "README\t   u2.base  u3.test  u5.base  ua.test  u.data\tu.item\n"
          ],
          "name": "stdout"
        }
      ]
    },
    {
      "cell_type": "code",
      "metadata": {
        "colab_type": "code",
        "id": "CCvT1KE_FkVm",
        "outputId": "cf3d8359-2b0b-4125-b686-742e38d7709a",
        "colab": {
          "base_uri": "https://localhost:8080/",
          "height": 51
        }
      },
      "source": [
        "# !cat gdrive/My\\ Drive/colab/ml-100k/u.user\n",
        "import numpy as np\n",
        "data = np.genfromtxt(\"/content/gdrive/My Drive/colab/ml-100k/u.data\", dtype=int)\n",
        "# data = np.genfromtxt(\"/content/gdrive/My Drive/colab/ml-100k/u.data\",  dtype=[int,int,int,int])\n",
        "train_data = []\n",
        "test_data = []\n",
        "users = np.unique(data[:,0])\n",
        "for user in users:\n",
        "  userrows = data[(np.where(data[:,0] == user)), :][0]\n",
        "  np.random.shuffle(userrows)  \n",
        "#   np.append(train_data, userrows[:20])\n",
        "  for item in userrows[:20]:\n",
        "    train_data.append(item.tolist())\n",
        "  for item in userrows[20:]:\n",
        "    test_data.append(item.tolist())\n",
        "\n",
        "print(len(train_data))\n",
        "print(np.shape(train_data))\n"
      ],
      "execution_count": 3,
      "outputs": [
        {
          "output_type": "stream",
          "text": [
            "18860\n",
            "(18860, 4)\n"
          ],
          "name": "stdout"
        }
      ]
    },
    {
      "cell_type": "code",
      "metadata": {
        "colab_type": "code",
        "id": "q4EC7AHPFkVu",
        "colab": {}
      },
      "source": [
        "!ls "
      ],
      "execution_count": 0,
      "outputs": []
    },
    {
      "cell_type": "code",
      "metadata": {
        "colab_type": "code",
        "id": "ittwc8zbFkV5",
        "colab": {}
      },
      "source": [
        ""
      ],
      "execution_count": 0,
      "outputs": []
    },
    {
      "cell_type": "code",
      "metadata": {
        "colab_type": "code",
        "id": "bYBQNbatFkWQ",
        "colab": {}
      },
      "source": [
        ""
      ],
      "execution_count": 0,
      "outputs": []
    },
    {
      "cell_type": "code",
      "metadata": {
        "id": "etBIUeKeURT4",
        "colab_type": "code",
        "colab": {}
      },
      "source": [
        "!pip install -q tensorflow-gpu==2.0.0a0\n",
        "!pip install -q tensorboard\n",
        "!pip install -q tensorboardcolab"
      ],
      "execution_count": 0,
      "outputs": []
    },
    {
      "cell_type": "code",
      "metadata": {
        "id": "k4AO0JwbURdN",
        "colab_type": "code",
        "colab": {
          "base_uri": "https://localhost:8080/",
          "height": 85
        },
        "outputId": "f13602f2-952e-4eec-8b4c-aabff9766866"
      },
      "source": [
        "from tensorboardcolab import *\n",
        "tbc=TensorBoardColab(port=6006, graph_path='/tmp/logs', startup_waiting_time=8)"
      ],
      "execution_count": 5,
      "outputs": [
        {
          "output_type": "stream",
          "text": [
            "Using TensorFlow backend.\n"
          ],
          "name": "stderr"
        },
        {
          "output_type": "stream",
          "text": [
            "Wait for 8 seconds...\n",
            "TensorBoard link:\n",
            "http://cd72bc68.ngrok.io\n"
          ],
          "name": "stdout"
        }
      ]
    },
    {
      "cell_type": "code",
      "metadata": {
        "id": "TILlKL6AURii",
        "colab_type": "code",
        "colab": {}
      },
      "source": [
        ""
      ],
      "execution_count": 0,
      "outputs": []
    },
    {
      "cell_type": "code",
      "metadata": {
        "id": "4BX0vvitURp1",
        "colab_type": "code",
        "colab": {}
      },
      "source": [
        ""
      ],
      "execution_count": 0,
      "outputs": []
    },
    {
      "cell_type": "code",
      "metadata": {
        "id": "CwcRYcN5URxX",
        "colab_type": "code",
        "colab": {}
      },
      "source": [
        "def castRate(inp):\n",
        "  if inp == 1:\n",
        "    return 0.1\n",
        "  if inp == 2:\n",
        "    return 0.3\n",
        "  if inp == 3:\n",
        "    return 0.5\n",
        "  if inp == 4:\n",
        "    return 0.7\n",
        "  if inp == 5:\n",
        "    return 1"
      ],
      "execution_count": 0,
      "outputs": []
    },
    {
      "cell_type": "code",
      "metadata": {
        "colab_type": "code",
        "id": "VG9HjZnWFkWh",
        "colab": {}
      },
      "source": [
        ""
      ],
      "execution_count": 0,
      "outputs": []
    },
    {
      "cell_type": "code",
      "metadata": {
        "colab_type": "code",
        "id": "-XzZ7Y_NFkWp",
        "colab": {}
      },
      "source": [
        "from tensorflow.python import keras\n",
        "import tensorflow as tf"
      ],
      "execution_count": 0,
      "outputs": []
    },
    {
      "cell_type": "code",
      "metadata": {
        "colab_type": "code",
        "id": "YDfU1SMdGuh6",
        "colab": {}
      },
      "source": [
        "keras.backend.clear_session()"
      ],
      "execution_count": 0,
      "outputs": []
    },
    {
      "cell_type": "code",
      "metadata": {
        "colab_type": "code",
        "id": "N4ueKBFjGvX_",
        "colab": {}
      },
      "source": [
        ""
      ],
      "execution_count": 0,
      "outputs": []
    },
    {
      "cell_type": "code",
      "metadata": {
        "id": "ePnpIR6QWpFX",
        "colab_type": "code",
        "colab": {}
      },
      "source": [
        "input_user = keras.Input(shape=(1,))  # Returns a placeholder tensor\n",
        "input_item = keras.Input(shape=(1,))  # Returns a placeholder tensor\n",
        "embed_user = keras.layers.Embedding(2000, 64)(input_user)\n",
        "embed_item = keras.layers.Embedding(2000, 64)(input_item)\n",
        "multiply = keras.layers.Multiply()([embed_user, embed_item])\n",
        "rate = keras.layers.add(tf.unstack(multiply, axis=2))\n",
        "model = keras.Model(inputs=[input_user, input_item], outputs = keras.activations.sigmoid(rate))\n",
        "# model.summary()"
      ],
      "execution_count": 0,
      "outputs": []
    },
    {
      "cell_type": "code",
      "metadata": {
        "id": "EmLy_d9DUKcn",
        "colab_type": "code",
        "outputId": "00ff10ec-5031-4a29-c3be-45dbfdaf2d4a",
        "colab": {
          "base_uri": "https://localhost:8080/",
          "height": 374
        }
      },
      "source": [
        "input_user = keras.Input(shape=(1,))  # Returns a placeholder tensor\n",
        "input_item = keras.Input(shape=(1,))  # Returns a placeholder tensor\n",
        "embed_user = keras.layers.Embedding(2000, 64)(input_user)\n",
        "embed_item = keras.layers.Embedding(2000, 64)(input_item)\n",
        "dot = keras.layers.dot(inputs=[embed_user, embed_item],axes=2)\n",
        "model_opt = keras.Model(inputs=[input_user, input_item], outputs = keras.activations.sigmoid(dot))\n",
        "model_opt.summary()\n",
        "model_opt.compile(optimizer=tf.keras.optimizers.Adam(),\n",
        "            loss='mean_squared_error',\n",
        "            metrics=['accuracy','mae'])"
      ],
      "execution_count": 21,
      "outputs": [
        {
          "output_type": "stream",
          "text": [
            "Model: \"model\"\n",
            "__________________________________________________________________________________________________\n",
            "Layer (type)                    Output Shape         Param #     Connected to                     \n",
            "==================================================================================================\n",
            "input_1 (InputLayer)            [(None, 1)]          0                                            \n",
            "__________________________________________________________________________________________________\n",
            "input_2 (InputLayer)            [(None, 1)]          0                                            \n",
            "__________________________________________________________________________________________________\n",
            "embedding (Embedding)           (None, 1, 64)        128000      input_1[0][0]                    \n",
            "__________________________________________________________________________________________________\n",
            "embedding_1 (Embedding)         (None, 1, 64)        128000      input_2[0][0]                    \n",
            "__________________________________________________________________________________________________\n",
            "dot (Dot)                       (None, 1, 1)         0           embedding[0][0]                  \n",
            "                                                                 embedding_1[0][0]                \n",
            "__________________________________________________________________________________________________\n",
            "Sigmoid_6 (TensorFlowOpLayer)   [(None, 1, 1)]       0           dot[0][0]                        \n",
            "==================================================================================================\n",
            "Total params: 256,000\n",
            "Trainable params: 256,000\n",
            "Non-trainable params: 0\n",
            "__________________________________________________________________________________________________\n"
          ],
          "name": "stdout"
        }
      ]
    },
    {
      "cell_type": "code",
      "metadata": {
        "id": "NRaETCo0UKo-",
        "colab_type": "code",
        "colab": {
          "base_uri": "https://localhost:8080/",
          "height": 1000
        },
        "outputId": "3822fac6-d8b5-4257-882a-8a077fb503a8"
      },
      "source": [
        "train = np.asarray(train_data)\n",
        "test = np.asarray(test_data)\n",
        "x_train = [train[:,0],train[:,1]]\n",
        "y_train = [castRate(x) for x in train[:,2]]\n",
        "x_test = [test[:,0],test[:,1]]\n",
        "y_test = [castRate(x) for x in test[:,2]]\n",
        "\n",
        "logdir=\"/tmp/logs/2\"\n",
        "checkpoint_path = logdir + \"/cp.ckpt\"\n",
        "# checkpoint_dir = os.path.dirname(checkpoint_path)\n",
        "\n",
        "# Create checkpoint callback\n",
        "cp_callback = tf.keras.callbacks.ModelCheckpoint(checkpoint_path, save_weights_only=True, verbose=1)\n",
        "tb_callback = tf.keras.callbacks.TensorBoard(log_dir=checkpoint_path)\n",
        "\n",
        "# fit = model_opt.fit(x_train, y_train, validation_data=(x_test, y_test), epochs=10,\n",
        "fit = model_opt.fit(x_train, y_train, validation_data=(x_test, y_test), epochs=30,\n",
        "                callbacks = [cp_callback, tb_callback], batch_size=1000)\n",
        "\n",
        "# ans = model_opt.evaluate(x_test, y_test)"
      ],
      "execution_count": 22,
      "outputs": [
        {
          "output_type": "stream",
          "text": [
            "Train on 18860 samples, validate on 81140 samples\n"
          ],
          "name": "stdout"
        },
        {
          "output_type": "stream",
          "text": [
            "W0714 15:13:20.919028 139977467537280 tf_logging.py:161] Model failed to serialize as JSON. Ignoring... ('Not JSON Serializable:', b'\\n\\tSigmoid_6\\x12\\x07Sigmoid\\x1a\\x0cdot_6/MatMul*\\x07\\n\\x01T\\x12\\x020\\x01')\n"
          ],
          "name": "stderr"
        },
        {
          "output_type": "stream",
          "text": [
            "Epoch 1/30\n",
            "14000/18860 [=====================>........] - ETA: 0s - loss: 0.0853 - accuracy: 0.1164 - mae: 0.2298\n",
            "Epoch 00001: saving model to /tmp/logs/2/cp.ckpt\n",
            "18860/18860 [==============================] - 1s 39us/sample - loss: 0.0850 - accuracy: 0.1153 - mae: 0.2293 - val_loss: 0.0801 - val_accuracy: 0.1042 - val_mae: 0.2202\n",
            "Epoch 2/30\n",
            "16000/18860 [========================>.....] - ETA: 0s - loss: 0.0849 - accuracy: 0.1507 - mae: 0.2289\n",
            "Epoch 00002: saving model to /tmp/logs/2/cp.ckpt\n",
            "18860/18860 [==============================] - 0s 25us/sample - loss: 0.0848 - accuracy: 0.1509 - mae: 0.2290 - val_loss: 0.0801 - val_accuracy: 0.1046 - val_mae: 0.2202\n",
            "Epoch 3/30\n",
            "17000/18860 [==========================>...] - ETA: 0s - loss: 0.0850 - accuracy: 0.1826 - mae: 0.2297\n",
            "Epoch 00003: saving model to /tmp/logs/2/cp.ckpt\n",
            "18860/18860 [==============================] - 0s 26us/sample - loss: 0.0846 - accuracy: 0.1818 - mae: 0.2289 - val_loss: 0.0800 - val_accuracy: 0.1075 - val_mae: 0.2202\n",
            "Epoch 4/30\n",
            "16000/18860 [========================>.....] - ETA: 0s - loss: 0.0848 - accuracy: 0.2060 - mae: 0.2294\n",
            "Epoch 00004: saving model to /tmp/logs/2/cp.ckpt\n",
            "18860/18860 [==============================] - 0s 25us/sample - loss: 0.0843 - accuracy: 0.2046 - mae: 0.2286 - val_loss: 0.0800 - val_accuracy: 0.1144 - val_mae: 0.2202\n",
            "Epoch 5/30\n",
            "16000/18860 [========================>.....] - ETA: 0s - loss: 0.0838 - accuracy: 0.2199 - mae: 0.2282\n",
            "Epoch 00005: saving model to /tmp/logs/2/cp.ckpt\n",
            "18860/18860 [==============================] - 0s 26us/sample - loss: 0.0839 - accuracy: 0.2203 - mae: 0.2283 - val_loss: 0.0798 - val_accuracy: 0.1274 - val_mae: 0.2201\n",
            "Epoch 6/30\n",
            "17000/18860 [==========================>...] - ETA: 0s - loss: 0.0834 - accuracy: 0.2298 - mae: 0.2284\n",
            "Epoch 00006: saving model to /tmp/logs/2/cp.ckpt\n",
            "18860/18860 [==============================] - 0s 24us/sample - loss: 0.0831 - accuracy: 0.2283 - mae: 0.2278 - val_loss: 0.0795 - val_accuracy: 0.1470 - val_mae: 0.2199\n",
            "Epoch 7/30\n",
            "17000/18860 [==========================>...] - ETA: 0s - loss: 0.0816 - accuracy: 0.2309 - mae: 0.2269\n",
            "Epoch 00007: saving model to /tmp/logs/2/cp.ckpt\n",
            "18860/18860 [==============================] - 0s 25us/sample - loss: 0.0817 - accuracy: 0.2315 - mae: 0.2270 - val_loss: 0.0789 - val_accuracy: 0.1687 - val_mae: 0.2195\n",
            "Epoch 8/30\n",
            "17000/18860 [==========================>...] - ETA: 0s - loss: 0.0796 - accuracy: 0.2322 - mae: 0.2254\n",
            "Epoch 00008: saving model to /tmp/logs/2/cp.ckpt\n",
            "18860/18860 [==============================] - 0s 25us/sample - loss: 0.0796 - accuracy: 0.2324 - mae: 0.2256 - val_loss: 0.0776 - val_accuracy: 0.1864 - val_mae: 0.2189\n",
            "Epoch 9/30\n",
            "17000/18860 [==========================>...] - ETA: 0s - loss: 0.0769 - accuracy: 0.2325 - mae: 0.2238\n",
            "Epoch 00009: saving model to /tmp/logs/2/cp.ckpt\n",
            "18860/18860 [==============================] - 0s 25us/sample - loss: 0.0768 - accuracy: 0.2326 - mae: 0.2236 - val_loss: 0.0758 - val_accuracy: 0.1966 - val_mae: 0.2180\n",
            "Epoch 10/30\n",
            "15000/18860 [======================>.......] - ETA: 0s - loss: 0.0736 - accuracy: 0.2302 - mae: 0.2204\n",
            "Epoch 00010: saving model to /tmp/logs/2/cp.ckpt\n",
            "18860/18860 [==============================] - 0s 25us/sample - loss: 0.0736 - accuracy: 0.2324 - mae: 0.2207 - val_loss: 0.0736 - val_accuracy: 0.2012 - val_mae: 0.2167\n",
            "Epoch 11/30\n",
            "16000/18860 [========================>.....] - ETA: 0s - loss: 0.0712 - accuracy: 0.2351 - mae: 0.2186\n",
            "Epoch 00011: saving model to /tmp/logs/2/cp.ckpt\n",
            "18860/18860 [==============================] - 0s 25us/sample - loss: 0.0707 - accuracy: 0.2326 - mae: 0.2176 - val_loss: 0.0712 - val_accuracy: 0.2033 - val_mae: 0.2152\n",
            "Epoch 12/30\n",
            "15000/18860 [======================>.......] - ETA: 0s - loss: 0.0684 - accuracy: 0.2327 - mae: 0.2146\n",
            "Epoch 00012: saving model to /tmp/logs/2/cp.ckpt\n",
            "18860/18860 [==============================] - 0s 26us/sample - loss: 0.0684 - accuracy: 0.2325 - mae: 0.2145 - val_loss: 0.0693 - val_accuracy: 0.2042 - val_mae: 0.2136\n",
            "Epoch 13/30\n",
            "17000/18860 [==========================>...] - ETA: 0s - loss: 0.0670 - accuracy: 0.2327 - mae: 0.2120\n",
            "Epoch 00013: saving model to /tmp/logs/2/cp.ckpt\n",
            "18860/18860 [==============================] - 0s 25us/sample - loss: 0.0670 - accuracy: 0.2324 - mae: 0.2120 - val_loss: 0.0679 - val_accuracy: 0.2044 - val_mae: 0.2122\n",
            "Epoch 14/30\n",
            "14000/18860 [=====================>........] - ETA: 0s - loss: 0.0655 - accuracy: 0.2324 - mae: 0.2093\n",
            "Epoch 00014: saving model to /tmp/logs/2/cp.ckpt\n",
            "18860/18860 [==============================] - 0s 25us/sample - loss: 0.0661 - accuracy: 0.2326 - mae: 0.2101 - val_loss: 0.0671 - val_accuracy: 0.2046 - val_mae: 0.2111\n",
            "Epoch 15/30\n",
            "17000/18860 [==========================>...] - ETA: 0s - loss: 0.0655 - accuracy: 0.2325 - mae: 0.2089\n",
            "Epoch 00015: saving model to /tmp/logs/2/cp.ckpt\n",
            "18860/18860 [==============================] - 0s 25us/sample - loss: 0.0657 - accuracy: 0.2325 - mae: 0.2089 - val_loss: 0.0666 - val_accuracy: 0.2047 - val_mae: 0.2104\n",
            "Epoch 16/30\n",
            "16000/18860 [========================>.....] - ETA: 0s - loss: 0.0656 - accuracy: 0.2324 - mae: 0.2085\n",
            "Epoch 00016: saving model to /tmp/logs/2/cp.ckpt\n",
            "18860/18860 [==============================] - 0s 25us/sample - loss: 0.0654 - accuracy: 0.2324 - mae: 0.2082 - val_loss: 0.0663 - val_accuracy: 0.2048 - val_mae: 0.2099\n",
            "Epoch 17/30\n",
            "17000/18860 [==========================>...] - ETA: 0s - loss: 0.0653 - accuracy: 0.2324 - mae: 0.2079\n",
            "Epoch 00017: saving model to /tmp/logs/2/cp.ckpt\n",
            "18860/18860 [==============================] - 0s 24us/sample - loss: 0.0652 - accuracy: 0.2324 - mae: 0.2077 - val_loss: 0.0661 - val_accuracy: 0.2048 - val_mae: 0.2095\n",
            "Epoch 18/30\n",
            "17000/18860 [==========================>...] - ETA: 0s - loss: 0.0651 - accuracy: 0.2332 - mae: 0.2075\n",
            "Epoch 00018: saving model to /tmp/logs/2/cp.ckpt\n",
            "18860/18860 [==============================] - 0s 25us/sample - loss: 0.0652 - accuracy: 0.2324 - mae: 0.2074 - val_loss: 0.0659 - val_accuracy: 0.2048 - val_mae: 0.2093\n",
            "Epoch 19/30\n",
            "17000/18860 [==========================>...] - ETA: 0s - loss: 0.0650 - accuracy: 0.2328 - mae: 0.2071\n",
            "Epoch 00019: saving model to /tmp/logs/2/cp.ckpt\n",
            "18860/18860 [==============================] - 0s 25us/sample - loss: 0.0651 - accuracy: 0.2326 - mae: 0.2073 - val_loss: 0.0658 - val_accuracy: 0.2048 - val_mae: 0.2092\n",
            "Epoch 20/30\n",
            "16000/18860 [========================>.....] - ETA: 0s - loss: 0.0650 - accuracy: 0.2324 - mae: 0.2071\n",
            "Epoch 00020: saving model to /tmp/logs/2/cp.ckpt\n",
            "18860/18860 [==============================] - 0s 25us/sample - loss: 0.0651 - accuracy: 0.2325 - mae: 0.2072 - val_loss: 0.0658 - val_accuracy: 0.2049 - val_mae: 0.2091\n",
            "Epoch 21/30\n",
            "17000/18860 [==========================>...] - ETA: 0s - loss: 0.0652 - accuracy: 0.2332 - mae: 0.2076\n",
            "Epoch 00021: saving model to /tmp/logs/2/cp.ckpt\n",
            "18860/18860 [==============================] - 0s 25us/sample - loss: 0.0650 - accuracy: 0.2326 - mae: 0.2072 - val_loss: 0.0657 - val_accuracy: 0.2049 - val_mae: 0.2091\n",
            "Epoch 22/30\n",
            "16000/18860 [========================>.....] - ETA: 0s - loss: 0.0653 - accuracy: 0.2324 - mae: 0.2075\n",
            "Epoch 00022: saving model to /tmp/logs/2/cp.ckpt\n",
            "18860/18860 [==============================] - 0s 25us/sample - loss: 0.0650 - accuracy: 0.2326 - mae: 0.2071 - val_loss: 0.0657 - val_accuracy: 0.2048 - val_mae: 0.2090\n",
            "Epoch 23/30\n",
            "16000/18860 [========================>.....] - ETA: 0s - loss: 0.0650 - accuracy: 0.2335 - mae: 0.2071\n",
            "Epoch 00023: saving model to /tmp/logs/2/cp.ckpt\n",
            "18860/18860 [==============================] - 0s 24us/sample - loss: 0.0650 - accuracy: 0.2325 - mae: 0.2069 - val_loss: 0.0656 - val_accuracy: 0.2048 - val_mae: 0.2090\n",
            "Epoch 24/30\n",
            "17000/18860 [==========================>...] - ETA: 0s - loss: 0.0649 - accuracy: 0.2322 - mae: 0.2067\n",
            "Epoch 00024: saving model to /tmp/logs/2/cp.ckpt\n",
            "18860/18860 [==============================] - 0s 26us/sample - loss: 0.0650 - accuracy: 0.2325 - mae: 0.2069 - val_loss: 0.0656 - val_accuracy: 0.2049 - val_mae: 0.2090\n",
            "Epoch 25/30\n",
            "17000/18860 [==========================>...] - ETA: 0s - loss: 0.0650 - accuracy: 0.2312 - mae: 0.2069\n",
            "Epoch 00025: saving model to /tmp/logs/2/cp.ckpt\n",
            "18860/18860 [==============================] - 0s 25us/sample - loss: 0.0650 - accuracy: 0.2324 - mae: 0.2070 - val_loss: 0.0656 - val_accuracy: 0.2049 - val_mae: 0.2090\n",
            "Epoch 26/30\n",
            "16000/18860 [========================>.....] - ETA: 0s - loss: 0.0647 - accuracy: 0.2297 - mae: 0.2064\n",
            "Epoch 00026: saving model to /tmp/logs/2/cp.ckpt\n",
            "18860/18860 [==============================] - 0s 24us/sample - loss: 0.0650 - accuracy: 0.2323 - mae: 0.2069 - val_loss: 0.0656 - val_accuracy: 0.2048 - val_mae: 0.2090\n",
            "Epoch 27/30\n",
            "16000/18860 [========================>.....] - ETA: 0s - loss: 0.0649 - accuracy: 0.2314 - mae: 0.2065\n",
            "Epoch 00027: saving model to /tmp/logs/2/cp.ckpt\n",
            "18860/18860 [==============================] - 0s 25us/sample - loss: 0.0650 - accuracy: 0.2325 - mae: 0.2068 - val_loss: 0.0656 - val_accuracy: 0.2048 - val_mae: 0.2089\n",
            "Epoch 28/30\n",
            "16000/18860 [========================>.....] - ETA: 0s - loss: 0.0652 - accuracy: 0.2317 - mae: 0.2072\n",
            "Epoch 00028: saving model to /tmp/logs/2/cp.ckpt\n",
            "18860/18860 [==============================] - 0s 25us/sample - loss: 0.0650 - accuracy: 0.2325 - mae: 0.2068 - val_loss: 0.0656 - val_accuracy: 0.2049 - val_mae: 0.2089\n",
            "Epoch 29/30\n",
            "15000/18860 [======================>.......] - ETA: 0s - loss: 0.0652 - accuracy: 0.2325 - mae: 0.2073\n",
            "Epoch 00029: saving model to /tmp/logs/2/cp.ckpt\n",
            "18860/18860 [==============================] - 0s 25us/sample - loss: 0.0650 - accuracy: 0.2324 - mae: 0.2068 - val_loss: 0.0655 - val_accuracy: 0.2048 - val_mae: 0.2089\n",
            "Epoch 30/30\n",
            "16000/18860 [========================>.....] - ETA: 0s - loss: 0.0648 - accuracy: 0.2314 - mae: 0.2063\n",
            "Epoch 00030: saving model to /tmp/logs/2/cp.ckpt\n",
            "18860/18860 [==============================] - 0s 25us/sample - loss: 0.0650 - accuracy: 0.2324 - mae: 0.2068 - val_loss: 0.0655 - val_accuracy: 0.2049 - val_mae: 0.2089\n"
          ],
          "name": "stdout"
        }
      ]
    },
    {
      "cell_type": "code",
      "metadata": {
        "id": "ncM7gQTFUK46",
        "colab_type": "code",
        "outputId": "8dd6bb3b-e4e7-4f4a-ad2a-44492525b5e5",
        "colab": {
          "base_uri": "https://localhost:8080/",
          "height": 187
        }
      },
      "source": [
        "predict = model_opt.predict(x_test)\n",
        "for i in range(10):\n",
        "  print(predict[i], y_test[i])"
      ],
      "execution_count": 23,
      "outputs": [
        {
          "output_type": "stream",
          "text": [
            "[[0.60317963]] 0.7\n",
            "[[0.5890395]] 0.7\n",
            "[[0.60987425]] 0.5\n",
            "[[0.6195158]] 1\n",
            "[[0.61314213]] 1\n",
            "[[0.5920251]] 0.3\n",
            "[[0.5964718]] 1\n",
            "[[0.605346]] 0.1\n",
            "[[0.61878]] 0.5\n",
            "[[0.6247728]] 0.7\n"
          ],
          "name": "stdout"
        }
      ]
    },
    {
      "cell_type": "code",
      "metadata": {
        "id": "E_rBD16FUK1G",
        "colab_type": "code",
        "colab": {}
      },
      "source": [
        "def calcHitRatio():\n",
        "  for "
      ],
      "execution_count": 0,
      "outputs": []
    },
    {
      "cell_type": "code",
      "metadata": {
        "id": "BvEDk5LEUKwh",
        "colab_type": "code",
        "colab": {}
      },
      "source": [
        "import keras.backend as K\n",
        "\n",
        "def customLoss(yTrue,yPred):\n",
        "    return K.sum(K.log(yTrue) - K.log(yPred))"
      ],
      "execution_count": 0,
      "outputs": []
    },
    {
      "cell_type": "code",
      "metadata": {
        "id": "7B_fKfTKUKlA",
        "colab_type": "code",
        "colab": {}
      },
      "source": [
        ""
      ],
      "execution_count": 0,
      "outputs": []
    }
  ]
}