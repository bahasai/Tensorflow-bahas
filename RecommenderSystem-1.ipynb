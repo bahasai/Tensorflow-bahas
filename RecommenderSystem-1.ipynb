{
  "nbformat": 4,
  "nbformat_minor": 0,
  "metadata": {
    "colab": {
      "name": "RecommenderSystem-1.ipynb",
      "version": "0.3.2",
      "provenance": []
    },
    "language_info": {
      "codemirror_mode": {
        "name": "ipython",
        "version": 3
      },
      "file_extension": ".py",
      "mimetype": "text/x-python",
      "name": "python",
      "nbconvert_exporter": "python",
      "pygments_lexer": "ipython3",
      "version": "3.7.3"
    },
    "kernelspec": {
      "name": "python3",
      "display_name": "Python 3"
    },
    "accelerator": "GPU"
  },
  "cells": [
    {
      "cell_type": "code",
      "metadata": {
        "colab_type": "code",
        "id": "ZDBpMKqQFkU2",
        "colab": {}
      },
      "source": [
        "!mkdir dataset\n",
        "from google.colab import files\n",
        "src = list(files.upload().values())[0]\n",
        "open('\\dataset','wb').write(src)\n",
        "!mv sample_mobile_data_1000.csv dataset/\n",
        "!ls dataset"
      ],
      "execution_count": 0,
      "outputs": []
    },
    {
      "cell_type": "code",
      "metadata": {
        "colab_type": "code",
        "id": "VX1t4raqFkVI",
        "colab": {}
      },
      "source": [
        ""
      ],
      "execution_count": 0,
      "outputs": []
    },
    {
      "cell_type": "code",
      "metadata": {
        "colab_type": "code",
        "id": "f9VneyquFkVT",
        "outputId": "6a29c36f-bf02-4d8f-edd6-fe8ca4fb049c",
        "colab": {
          "base_uri": "https://localhost:8080/",
          "height": 35
        }
      },
      "source": [
        "!curl ifconfig.co"
      ],
      "execution_count": 0,
      "outputs": [
        {
          "output_type": "stream",
          "text": [
            "34.76.163.135\n"
          ],
          "name": "stdout"
        }
      ]
    },
    {
      "cell_type": "code",
      "metadata": {
        "id": "GUCIAhmxUQy1",
        "colab_type": "code",
        "outputId": "c268e649-780f-4506-ca83-23f637ec1af8",
        "colab": {
          "base_uri": "https://localhost:8080/",
          "height": 34
        }
      },
      "source": [
        "from google.colab import drive\n",
        "drive.mount('/content/gdrive')"
      ],
      "execution_count": 64,
      "outputs": [
        {
          "output_type": "stream",
          "text": [
            "Drive already mounted at /content/gdrive; to attempt to forcibly remount, call drive.mount(\"/content/gdrive\", force_remount=True).\n"
          ],
          "name": "stdout"
        }
      ]
    },
    {
      "cell_type": "code",
      "metadata": {
        "colab_type": "code",
        "id": "gQyEXH3xFkVa",
        "outputId": "dbda6f45-8bf8-42a7-b157-44d593ff19e5",
        "colab": {
          "base_uri": "https://localhost:8080/",
          "height": 119
        }
      },
      "source": [
        "!ls /content/gdrive/My\\ Drive/\n",
        "!cp -r /content/gdrive/My\\ Drive/BO-* /content/gdrive/My\\ Drive/resume\n",
        "!cd gdrive/My\\ Drive/colab"
      ],
      "execution_count": 0,
      "outputs": [
        {
          "output_type": "stream",
          "text": [
            " BO-DA-رزومه‌ها-E0\t\t  nimac.gsite\n",
            " colab\t\t\t\t  SahabX-Sokan\n",
            "'Getting started.pdf'\t\t 'اعضای دانشکده.xlsx'\n",
            "'hadoop meeting feedback.gform'  'پروژه هوش سحاب.gdoc'\n",
            "'Hadoop Meeting.gslides'\t 'مشخصات سرور.gsheet'\n",
            " NimaBehrang.pdf\n"
          ],
          "name": "stdout"
        }
      ]
    },
    {
      "cell_type": "code",
      "metadata": {
        "colab_type": "code",
        "id": "8HxupmItFkVh",
        "colab": {}
      },
      "source": [
        "!unzip /content/gdrive/My\\ Drive/colab/ml-100k.zip"
      ],
      "execution_count": 0,
      "outputs": []
    },
    {
      "cell_type": "code",
      "metadata": {
        "id": "nRL4R5tvYcfZ",
        "colab_type": "code",
        "outputId": "50e94512-635c-4d2c-88f3-62e1abde2f37",
        "colab": {
          "base_uri": "https://localhost:8080/",
          "height": 73
        }
      },
      "source": [
        "!ls gdrive/My\\ Drive/colab/ml-100k/"
      ],
      "execution_count": 0,
      "outputs": [
        {
          "output_type": "stream",
          "text": [
            "allbut.pl  u1.base  u2.test  u4.base  u5.test  ub.base\tu.genre  u.occupation\n",
            "mku.sh\t   u1.test  u3.base  u4.test  ua.base  ub.test\tu.info\t u.user\n",
            "README\t   u2.base  u3.test  u5.base  ua.test  u.data\tu.item\n"
          ],
          "name": "stdout"
        }
      ]
    },
    {
      "cell_type": "code",
      "metadata": {
        "colab_type": "code",
        "id": "CCvT1KE_FkVm",
        "outputId": "88dd0f5d-a5bb-4108-8fba-0632237f14ce",
        "colab": {
          "base_uri": "https://localhost:8080/",
          "height": 51
        }
      },
      "source": [
        "# !cat gdrive/My\\ Drive/colab/ml-100k/u.user\n",
        "import numpy as np\n",
        "data = np.genfromtxt(\"/content/gdrive/My Drive/colab/ml-100k/u.data\", dtype=int)\n",
        "# data = np.genfromtxt(\"/content/gdrive/My Drive/colab/ml-100k/u.data\",  dtype=[int,int,int,int])\n",
        "train_data = []\n",
        "test_data = []\n",
        "users = np.unique(data[:,0])\n",
        "for user in users:\n",
        "  userrows = data[(np.where(data[:,0] == user)), :][0]\n",
        "  np.random.shuffle(userrows)  \n",
        "#   np.append(train_data, userrows[:20])\n",
        "  for item in userrows[:20]:\n",
        "    train_data.append(item.tolist())\n",
        "  for item in userrows[20:]:\n",
        "    test_data.append(item.tolist())\n",
        "\n",
        "print(len(train_data))\n",
        "print(np.shape(train_data))\n"
      ],
      "execution_count": 79,
      "outputs": [
        {
          "output_type": "stream",
          "text": [
            "18860\n",
            "(18860, 4)\n"
          ],
          "name": "stdout"
        }
      ]
    },
    {
      "cell_type": "code",
      "metadata": {
        "colab_type": "code",
        "id": "q4EC7AHPFkVu",
        "colab": {}
      },
      "source": [
        "!ls "
      ],
      "execution_count": 0,
      "outputs": []
    },
    {
      "cell_type": "code",
      "metadata": {
        "colab_type": "code",
        "id": "ittwc8zbFkV5",
        "colab": {}
      },
      "source": [
        ""
      ],
      "execution_count": 0,
      "outputs": []
    },
    {
      "cell_type": "code",
      "metadata": {
        "colab_type": "code",
        "id": "bYBQNbatFkWQ",
        "colab": {}
      },
      "source": [
        ""
      ],
      "execution_count": 0,
      "outputs": []
    },
    {
      "cell_type": "code",
      "metadata": {
        "id": "etBIUeKeURT4",
        "colab_type": "code",
        "colab": {}
      },
      "source": [
        "!pip install -q tensorflow-gpu==2.0.0a0\n",
        "!pip install -q tensorboard\n",
        "!pip install -q tensorboardcolab"
      ],
      "execution_count": 0,
      "outputs": []
    },
    {
      "cell_type": "code",
      "metadata": {
        "id": "k4AO0JwbURdN",
        "colab_type": "code",
        "colab": {
          "base_uri": "https://localhost:8080/",
          "height": 68
        },
        "outputId": "f9c409c6-1bc8-4eeb-eea3-19635e4be17c"
      },
      "source": [
        "from tensorboardcolab import *\n",
        "tbc=TensorBoardColab(port=6006, graph_path='/tmp/logs', startup_waiting_time=8)"
      ],
      "execution_count": 94,
      "outputs": [
        {
          "output_type": "stream",
          "text": [
            "Wait for 8 seconds...\n",
            "TensorBoard link:\n",
            "https://e658f22b.ngrok.io\n"
          ],
          "name": "stdout"
        }
      ]
    },
    {
      "cell_type": "code",
      "metadata": {
        "id": "TILlKL6AURii",
        "colab_type": "code",
        "colab": {}
      },
      "source": [
        ""
      ],
      "execution_count": 0,
      "outputs": []
    },
    {
      "cell_type": "code",
      "metadata": {
        "id": "4BX0vvitURp1",
        "colab_type": "code",
        "colab": {}
      },
      "source": [
        ""
      ],
      "execution_count": 0,
      "outputs": []
    },
    {
      "cell_type": "code",
      "metadata": {
        "id": "CwcRYcN5URxX",
        "colab_type": "code",
        "colab": {}
      },
      "source": [
        ""
      ],
      "execution_count": 0,
      "outputs": []
    },
    {
      "cell_type": "code",
      "metadata": {
        "colab_type": "code",
        "id": "VG9HjZnWFkWh",
        "colab": {}
      },
      "source": [
        ""
      ],
      "execution_count": 0,
      "outputs": []
    },
    {
      "cell_type": "code",
      "metadata": {
        "colab_type": "code",
        "id": "-XzZ7Y_NFkWp",
        "colab": {}
      },
      "source": [
        "from tensorflow.python import keras\n",
        "import tensorflow as tf"
      ],
      "execution_count": 0,
      "outputs": []
    },
    {
      "cell_type": "code",
      "metadata": {
        "colab_type": "code",
        "id": "YDfU1SMdGuh6",
        "colab": {}
      },
      "source": [
        "keras.backend.clear_session()"
      ],
      "execution_count": 0,
      "outputs": []
    },
    {
      "cell_type": "code",
      "metadata": {
        "colab_type": "code",
        "id": "N4ueKBFjGvX_",
        "colab": {}
      },
      "source": [
        ""
      ],
      "execution_count": 0,
      "outputs": []
    },
    {
      "cell_type": "code",
      "metadata": {
        "id": "ePnpIR6QWpFX",
        "colab_type": "code",
        "colab": {}
      },
      "source": [
        "input_user = keras.Input(shape=(1,))  # Returns a placeholder tensor\n",
        "input_item = keras.Input(shape=(1,))  # Returns a placeholder tensor\n",
        "embed_user = keras.layers.Embedding(2000, 64)(input_user)\n",
        "embed_item = keras.layers.Embedding(2000, 64)(input_item)\n",
        "multiply = keras.layers.Multiply()([embed_user, embed_item])\n",
        "rate = keras.layers.add(tf.unstack(multiply, axis=2))\n",
        "model = keras.Model(inputs=[input_user, input_item], outputs = keras.activations.sigmoid(rate))\n",
        "# model.summary()"
      ],
      "execution_count": 0,
      "outputs": []
    },
    {
      "cell_type": "code",
      "metadata": {
        "id": "EmLy_d9DUKcn",
        "colab_type": "code",
        "outputId": "4564d267-f5c0-4217-c0c7-a529247c72f6",
        "colab": {
          "base_uri": "https://localhost:8080/",
          "height": 374
        }
      },
      "source": [
        "input_user = keras.Input(shape=(1,))  # Returns a placeholder tensor\n",
        "input_item = keras.Input(shape=(1,))  # Returns a placeholder tensor\n",
        "embed_user = keras.layers.Embedding(2000, 64)(input_user)\n",
        "embed_item = keras.layers.Embedding(2000, 64)(input_item)\n",
        "dot = keras.layers.dot(inputs=[embed_user, embed_item],axes=2)\n",
        "model_opt = keras.Model(inputs=[input_user, input_item], outputs = keras.activations.sigmoid(dot))\n",
        "model_opt.summary()\n",
        "model_opt.compile(optimizer=tf.keras.optimizers.Adam(),\n",
        "            loss='mean_squared_error',\n",
        "            metrics=['accuracy','mae', 'AUC'])"
      ],
      "execution_count": 107,
      "outputs": [
        {
          "output_type": "stream",
          "text": [
            "Model: \"model_1\"\n",
            "__________________________________________________________________________________________________\n",
            "Layer (type)                    Output Shape         Param #     Connected to                     \n",
            "==================================================================================================\n",
            "input_3 (InputLayer)            [(None, 1)]          0                                            \n",
            "__________________________________________________________________________________________________\n",
            "input_4 (InputLayer)            [(None, 1)]          0                                            \n",
            "__________________________________________________________________________________________________\n",
            "embedding_2 (Embedding)         (None, 1, 64)        128000      input_3[0][0]                    \n",
            "__________________________________________________________________________________________________\n",
            "embedding_3 (Embedding)         (None, 1, 64)        128000      input_4[0][0]                    \n",
            "__________________________________________________________________________________________________\n",
            "dot (Dot)                       (None, 1, 1)         0           embedding_2[0][0]                \n",
            "                                                                 embedding_3[0][0]                \n",
            "__________________________________________________________________________________________________\n",
            "tf_op_layer_Sigmoid_1 (TensorFl [(None, 1, 1)]       0           dot[0][0]                        \n",
            "==================================================================================================\n",
            "Total params: 256,000\n",
            "Trainable params: 256,000\n",
            "Non-trainable params: 0\n",
            "__________________________________________________________________________________________________\n"
          ],
          "name": "stdout"
        }
      ]
    },
    {
      "cell_type": "code",
      "metadata": {
        "id": "NRaETCo0UKo-",
        "colab_type": "code",
        "colab": {
          "base_uri": "https://localhost:8080/",
          "height": 1000
        },
        "outputId": "bb19272f-eaf5-4c6d-f90b-f8bbb69a6571"
      },
      "source": [
        "train = np.asarray(train_data)\n",
        "test = np.asarray(test_data)\n",
        "x_train = [train[:,0],train[:,1]]\n",
        "y_train = train[:,2]\n",
        "x_test = [test[:,0],test[:,1]]\n",
        "y_test = test[:,2]\n",
        "\n",
        "logdir=\"/tmp/logs/2\"\n",
        "checkpoint_path = logdir + \"/cp.ckpt\"\n",
        "# checkpoint_dir = os.path.dirname(checkpoint_path)\n",
        "\n",
        "# Create checkpoint callback\n",
        "cp_callback = tf.keras.callbacks.ModelCheckpoint(checkpoint_path, save_weights_only=True, verbose=1)\n",
        "tb_callback = tf.keras.callbacks.TensorBoard(log_dir=checkpoint_path)\n",
        "\n",
        "# fit = model_opt.fit(x_train, y_train, validation_data=(x_test, y_test), epochs=10,\n",
        "fit = model_opt.fit(x_train, y_train, validation_data=(x_test, y_test), epochs=30,\n",
        "                callbacks = [cp_callback, tb_callback], use_multiprocessing=True, batch_size=1000)\n",
        "\n",
        "ans = model_opt.evaluate(x_test, y_test)"
      ],
      "execution_count": 109,
      "outputs": [
        {
          "output_type": "stream",
          "text": [
            "Train on 18860 samples, validate on 81140 samples\n",
            "Epoch 1/30\n",
            "16000/18860 [========================>.....] - ETA: 0s - loss: 7.9636 - acc: 0.0574 - mean_absolute_error: 2.5875 - auc: 0.0000e+00\n",
            "Epoch 00001: saving model to /tmp/logs/2/cp.ckpt\n",
            "18860/18860 [==============================] - 0s 24us/sample - loss: 7.9884 - acc: 0.0570 - mean_absolute_error: 2.5922 - auc: 0.0000e+00 - val_loss: 7.7392 - val_acc: 0.0613 - val_mean_absolute_error: 2.5431 - val_auc: 0.0000e+00\n",
            "Epoch 2/30\n",
            "17000/18860 [==========================>...] - ETA: 0s - loss: 7.9733 - acc: 0.0568 - mean_absolute_error: 2.5902 - auc: 0.0000e+00\n",
            "Epoch 00002: saving model to /tmp/logs/2/cp.ckpt\n",
            "18860/18860 [==============================] - 0s 25us/sample - loss: 7.9872 - acc: 0.0570 - mean_absolute_error: 2.5922 - auc: 0.0000e+00 - val_loss: 7.7372 - val_acc: 0.0613 - val_mean_absolute_error: 2.5427 - val_auc: 0.0000e+00\n",
            "Epoch 3/30\n",
            "16000/18860 [========================>.....] - ETA: 0s - loss: 7.9715 - acc: 0.0587 - mean_absolute_error: 2.5866 - auc: 0.0000e+00\n",
            "Epoch 00003: saving model to /tmp/logs/2/cp.ckpt\n",
            "18860/18860 [==============================] - 0s 25us/sample - loss: 7.9860 - acc: 0.0571 - mean_absolute_error: 2.5923 - auc: 0.0000e+00 - val_loss: 7.7353 - val_acc: 0.0613 - val_mean_absolute_error: 2.5422 - val_auc: 0.0000e+00\n",
            "Epoch 4/30\n",
            "18000/18860 [===========================>..] - ETA: 0s - loss: 7.9884 - acc: 0.0571 - mean_absolute_error: 2.5924 - auc: 0.0000e+00\n",
            "Epoch 00004: saving model to /tmp/logs/2/cp.ckpt\n",
            "18860/18860 [==============================] - 0s 24us/sample - loss: 7.9849 - acc: 0.0571 - mean_absolute_error: 2.5919 - auc: 0.0000e+00 - val_loss: 7.7334 - val_acc: 0.0613 - val_mean_absolute_error: 2.5420 - val_auc: 0.0000e+00\n",
            "Epoch 5/30\n",
            "15000/18860 [======================>.......] - ETA: 0s - loss: 7.9950 - acc: 0.0569 - mean_absolute_error: 2.5935 - auc: 0.0000e+00\n",
            "Epoch 00005: saving model to /tmp/logs/2/cp.ckpt\n",
            "18860/18860 [==============================] - 0s 25us/sample - loss: 7.9838 - acc: 0.0571 - mean_absolute_error: 2.5918 - auc: 0.0000e+00 - val_loss: 7.7316 - val_acc: 0.0614 - val_mean_absolute_error: 2.5413 - val_auc: 0.0000e+00\n",
            "Epoch 6/30\n",
            "12000/18860 [==================>...........] - ETA: 0s - loss: 7.9497 - acc: 0.0584 - mean_absolute_error: 2.5832 - auc: 0.0000e+00\n",
            "Epoch 00006: saving model to /tmp/logs/2/cp.ckpt\n",
            "18860/18860 [==============================] - 1s 27us/sample - loss: 7.9827 - acc: 0.0571 - mean_absolute_error: 2.5911 - auc: 0.0000e+00 - val_loss: 7.7299 - val_acc: 0.0613 - val_mean_absolute_error: 2.5412 - val_auc: 0.0000e+00\n",
            "Epoch 7/30\n",
            "17000/18860 [==========================>...] - ETA: 0s - loss: 7.9841 - acc: 0.0578 - mean_absolute_error: 2.5902 - auc: 0.0000e+00\n",
            "Epoch 00007: saving model to /tmp/logs/2/cp.ckpt\n",
            "18860/18860 [==============================] - 0s 24us/sample - loss: 7.9817 - acc: 0.0570 - mean_absolute_error: 2.5914 - auc: 0.0000e+00 - val_loss: 7.7282 - val_acc: 0.0613 - val_mean_absolute_error: 2.5410 - val_auc: 0.0000e+00\n",
            "Epoch 8/30\n",
            "17000/18860 [==========================>...] - ETA: 0s - loss: 7.9999 - acc: 0.0562 - mean_absolute_error: 2.5963 - auc: 0.0000e+00\n",
            "Epoch 00008: saving model to /tmp/logs/2/cp.ckpt\n",
            "18860/18860 [==============================] - 0s 24us/sample - loss: 7.9808 - acc: 0.0570 - mean_absolute_error: 2.5915 - auc: 0.0000e+00 - val_loss: 7.7266 - val_acc: 0.0613 - val_mean_absolute_error: 2.5406 - val_auc: 0.0000e+00\n",
            "Epoch 9/30\n",
            "15000/18860 [======================>.......] - ETA: 0s - loss: 7.9702 - acc: 0.0574 - mean_absolute_error: 2.5877 - auc: 0.0000e+00\n",
            "Epoch 00009: saving model to /tmp/logs/2/cp.ckpt\n",
            "18860/18860 [==============================] - 0s 25us/sample - loss: 7.9798 - acc: 0.0571 - mean_absolute_error: 2.5908 - auc: 0.0000e+00 - val_loss: 7.7250 - val_acc: 0.0613 - val_mean_absolute_error: 2.5401 - val_auc: 0.0000e+00\n",
            "Epoch 10/30\n",
            "16000/18860 [========================>.....] - ETA: 0s - loss: 7.9978 - acc: 0.0564 - mean_absolute_error: 2.5953 - auc: 0.0000e+00\n",
            "Epoch 00010: saving model to /tmp/logs/2/cp.ckpt\n",
            "18860/18860 [==============================] - 0s 26us/sample - loss: 7.9789 - acc: 0.0571 - mean_absolute_error: 2.5907 - auc: 0.0000e+00 - val_loss: 7.7235 - val_acc: 0.0613 - val_mean_absolute_error: 2.5400 - val_auc: 0.0000e+00\n",
            "Epoch 11/30\n",
            "14000/18860 [=====================>........] - ETA: 0s - loss: 7.9937 - acc: 0.0573 - mean_absolute_error: 2.5939 - auc: 0.0000e+00\n",
            "Epoch 00011: saving model to /tmp/logs/2/cp.ckpt\n",
            "18860/18860 [==============================] - 0s 25us/sample - loss: 7.9781 - acc: 0.0571 - mean_absolute_error: 2.5903 - auc: 0.0000e+00 - val_loss: 7.7220 - val_acc: 0.0613 - val_mean_absolute_error: 2.5395 - val_auc: 0.0000e+00\n",
            "Epoch 12/30\n",
            "15000/18860 [======================>.......] - ETA: 0s - loss: 8.0189 - acc: 0.0567 - mean_absolute_error: 2.5989 - auc: 0.0000e+00\n",
            "Epoch 00012: saving model to /tmp/logs/2/cp.ckpt\n",
            "18860/18860 [==============================] - 0s 25us/sample - loss: 7.9772 - acc: 0.0570 - mean_absolute_error: 2.5905 - auc: 0.0000e+00 - val_loss: 7.7205 - val_acc: 0.0612 - val_mean_absolute_error: 2.5396 - val_auc: 0.0000e+00\n",
            "Epoch 13/30\n",
            "15000/18860 [======================>.......] - ETA: 0s - loss: 7.9760 - acc: 0.0556 - mean_absolute_error: 2.5927 - auc: 0.0000e+00\n",
            "Epoch 00013: saving model to /tmp/logs/2/cp.ckpt\n",
            "18860/18860 [==============================] - 0s 25us/sample - loss: 7.9764 - acc: 0.0571 - mean_absolute_error: 2.5906 - auc: 0.0000e+00 - val_loss: 7.7192 - val_acc: 0.0613 - val_mean_absolute_error: 2.5391 - val_auc: 0.0000e+00\n",
            "Epoch 14/30\n",
            "15000/18860 [======================>.......] - ETA: 0s - loss: 7.9785 - acc: 0.0563 - mean_absolute_error: 2.5924 - auc: 0.0000e+00\n",
            "Epoch 00014: saving model to /tmp/logs/2/cp.ckpt\n",
            "18860/18860 [==============================] - 0s 25us/sample - loss: 7.9756 - acc: 0.0571 - mean_absolute_error: 2.5900 - auc: 0.0000e+00 - val_loss: 7.7178 - val_acc: 0.0613 - val_mean_absolute_error: 2.5388 - val_auc: 0.0000e+00\n",
            "Epoch 15/30\n",
            "16000/18860 [========================>.....] - ETA: 0s - loss: 7.9708 - acc: 0.0573 - mean_absolute_error: 2.5888 - auc: 0.0000e+00\n",
            "Epoch 00015: saving model to /tmp/logs/2/cp.ckpt\n",
            "18860/18860 [==============================] - 1s 27us/sample - loss: 7.9748 - acc: 0.0571 - mean_absolute_error: 2.5897 - auc: 0.0000e+00 - val_loss: 7.7165 - val_acc: 0.0613 - val_mean_absolute_error: 2.5387 - val_auc: 0.0000e+00\n",
            "Epoch 16/30\n",
            "17000/18860 [==========================>...] - ETA: 0s - loss: 7.9677 - acc: 0.0578 - mean_absolute_error: 2.5875 - auc: 0.0000e+00\n",
            "Epoch 00016: saving model to /tmp/logs/2/cp.ckpt\n",
            "18860/18860 [==============================] - 0s 25us/sample - loss: 7.9741 - acc: 0.0571 - mean_absolute_error: 2.5897 - auc: 0.0000e+00 - val_loss: 7.7152 - val_acc: 0.0612 - val_mean_absolute_error: 2.5386 - val_auc: 0.0000e+00\n",
            "Epoch 17/30\n",
            "17000/18860 [==========================>...] - ETA: 0s - loss: 7.9887 - acc: 0.0566 - mean_absolute_error: 2.5928 - auc: 0.0000e+00\n",
            "Epoch 00017: saving model to /tmp/logs/2/cp.ckpt\n",
            "18860/18860 [==============================] - 0s 24us/sample - loss: 7.9734 - acc: 0.0570 - mean_absolute_error: 2.5896 - auc: 0.0000e+00 - val_loss: 7.7140 - val_acc: 0.0613 - val_mean_absolute_error: 2.5383 - val_auc: 0.0000e+00\n",
            "Epoch 18/30\n",
            "15000/18860 [======================>.......] - ETA: 0s - loss: 7.9693 - acc: 0.0574 - mean_absolute_error: 2.5886 - auc: 0.0000e+00\n",
            "Epoch 00018: saving model to /tmp/logs/2/cp.ckpt\n",
            "18860/18860 [==============================] - 0s 25us/sample - loss: 7.9727 - acc: 0.0571 - mean_absolute_error: 2.5893 - auc: 0.0000e+00 - val_loss: 7.7128 - val_acc: 0.0613 - val_mean_absolute_error: 2.5380 - val_auc: 0.0000e+00\n",
            "Epoch 19/30\n",
            "16000/18860 [========================>.....] - ETA: 0s - loss: 7.9693 - acc: 0.0578 - mean_absolute_error: 2.5874 - auc: 0.0000e+00\n",
            "Epoch 00019: saving model to /tmp/logs/2/cp.ckpt\n",
            "18860/18860 [==============================] - 0s 25us/sample - loss: 7.9720 - acc: 0.0571 - mean_absolute_error: 2.5893 - auc: 0.0000e+00 - val_loss: 7.7117 - val_acc: 0.0613 - val_mean_absolute_error: 2.5377 - val_auc: 0.0000e+00\n",
            "Epoch 20/30\n",
            "17000/18860 [==========================>...] - ETA: 0s - loss: 7.9690 - acc: 0.0567 - mean_absolute_error: 2.5895 - auc: 0.0000e+00\n",
            "Epoch 00020: saving model to /tmp/logs/2/cp.ckpt\n",
            "18860/18860 [==============================] - 0s 25us/sample - loss: 7.9714 - acc: 0.0571 - mean_absolute_error: 2.5891 - auc: 0.0000e+00 - val_loss: 7.7106 - val_acc: 0.0613 - val_mean_absolute_error: 2.5375 - val_auc: 0.0000e+00\n",
            "Epoch 21/30\n",
            "16000/18860 [========================>.....] - ETA: 0s - loss: 7.9617 - acc: 0.0569 - mean_absolute_error: 2.5877 - auc: 0.0000e+00\n",
            "Epoch 00021: saving model to /tmp/logs/2/cp.ckpt\n",
            "18860/18860 [==============================] - 0s 25us/sample - loss: 7.9707 - acc: 0.0570 - mean_absolute_error: 2.5894 - auc: 0.0000e+00 - val_loss: 7.7095 - val_acc: 0.0613 - val_mean_absolute_error: 2.5372 - val_auc: 0.0000e+00\n",
            "Epoch 22/30\n",
            "17000/18860 [==========================>...] - ETA: 0s - loss: 7.9836 - acc: 0.0565 - mean_absolute_error: 2.5918 - auc: 0.0000e+00\n",
            "Epoch 00022: saving model to /tmp/logs/2/cp.ckpt\n",
            "18860/18860 [==============================] - 0s 24us/sample - loss: 7.9701 - acc: 0.0569 - mean_absolute_error: 2.5895 - auc: 0.0000e+00 - val_loss: 7.7084 - val_acc: 0.0613 - val_mean_absolute_error: 2.5371 - val_auc: 0.0000e+00\n",
            "Epoch 23/30\n",
            "16000/18860 [========================>.....] - ETA: 0s - loss: 7.9522 - acc: 0.0571 - mean_absolute_error: 2.5859 - auc: 0.0000e+00\n",
            "Epoch 00023: saving model to /tmp/logs/2/cp.ckpt\n",
            "18860/18860 [==============================] - 0s 25us/sample - loss: 7.9695 - acc: 0.0571 - mean_absolute_error: 2.5890 - auc: 0.0000e+00 - val_loss: 7.7074 - val_acc: 0.0613 - val_mean_absolute_error: 2.5367 - val_auc: 0.0000e+00\n",
            "Epoch 24/30\n",
            "16000/18860 [========================>.....] - ETA: 0s - loss: 7.9349 - acc: 0.0566 - mean_absolute_error: 2.5827 - auc: 0.0000e+00\n",
            "Epoch 00024: saving model to /tmp/logs/2/cp.ckpt\n",
            "18860/18860 [==============================] - 0s 24us/sample - loss: 7.9690 - acc: 0.0570 - mean_absolute_error: 2.5888 - auc: 0.0000e+00 - val_loss: 7.7064 - val_acc: 0.0613 - val_mean_absolute_error: 2.5368 - val_auc: 0.0000e+00\n",
            "Epoch 25/30\n",
            "16000/18860 [========================>.....] - ETA: 0s - loss: 7.9603 - acc: 0.0570 - mean_absolute_error: 2.5872 - auc: 0.0000e+00\n",
            "Epoch 00025: saving model to /tmp/logs/2/cp.ckpt\n",
            "18860/18860 [==============================] - 0s 25us/sample - loss: 7.9684 - acc: 0.0570 - mean_absolute_error: 2.5886 - auc: 0.0000e+00 - val_loss: 7.7055 - val_acc: 0.0613 - val_mean_absolute_error: 2.5365 - val_auc: 0.0000e+00\n",
            "Epoch 26/30\n",
            "16000/18860 [========================>.....] - ETA: 0s - loss: 7.9522 - acc: 0.0565 - mean_absolute_error: 2.5868 - auc: 0.0000e+00\n",
            "Epoch 00026: saving model to /tmp/logs/2/cp.ckpt\n",
            "18860/18860 [==============================] - 0s 26us/sample - loss: 7.9679 - acc: 0.0571 - mean_absolute_error: 2.5885 - auc: 0.0000e+00 - val_loss: 7.7045 - val_acc: 0.0612 - val_mean_absolute_error: 2.5363 - val_auc: 0.0000e+00\n",
            "Epoch 27/30\n",
            "15000/18860 [======================>.......] - ETA: 0s - loss: 7.9938 - acc: 0.0563 - mean_absolute_error: 2.5945 - auc: 0.0000e+00\n",
            "Epoch 00027: saving model to /tmp/logs/2/cp.ckpt\n",
            "18860/18860 [==============================] - 0s 24us/sample - loss: 7.9674 - acc: 0.0570 - mean_absolute_error: 2.5889 - auc: 0.0000e+00 - val_loss: 7.7036 - val_acc: 0.0613 - val_mean_absolute_error: 2.5360 - val_auc: 0.0000e+00\n",
            "Epoch 28/30\n",
            "16000/18860 [========================>.....] - ETA: 0s - loss: 7.9565 - acc: 0.0569 - mean_absolute_error: 2.5873 - auc: 0.0000e+00\n",
            "Epoch 00028: saving model to /tmp/logs/2/cp.ckpt\n",
            "18860/18860 [==============================] - 0s 25us/sample - loss: 7.9668 - acc: 0.0571 - mean_absolute_error: 2.5882 - auc: 0.0000e+00 - val_loss: 7.7027 - val_acc: 0.0613 - val_mean_absolute_error: 2.5359 - val_auc: 0.0000e+00\n",
            "Epoch 29/30\n",
            "15000/18860 [======================>.......] - ETA: 0s - loss: 7.9837 - acc: 0.0559 - mean_absolute_error: 2.5928 - auc: 0.0000e+00\n",
            "Epoch 00029: saving model to /tmp/logs/2/cp.ckpt\n",
            "18860/18860 [==============================] - 0s 26us/sample - loss: 7.9664 - acc: 0.0570 - mean_absolute_error: 2.5888 - auc: 0.0000e+00 - val_loss: 7.7019 - val_acc: 0.0613 - val_mean_absolute_error: 2.5358 - val_auc: 0.0000e+00\n",
            "Epoch 30/30\n",
            "16000/18860 [========================>.....] - ETA: 0s - loss: 7.9300 - acc: 0.0586 - mean_absolute_error: 2.5796 - auc: 0.0000e+00\n",
            "Epoch 00030: saving model to /tmp/logs/2/cp.ckpt\n",
            "18860/18860 [==============================] - 0s 25us/sample - loss: 7.9659 - acc: 0.0571 - mean_absolute_error: 2.5880 - auc: 0.0000e+00 - val_loss: 7.7010 - val_acc: 0.0613 - val_mean_absolute_error: 2.5357 - val_auc: 0.0000e+00\n",
            "81140/81140 [==============================] - 8s 101us/sample - loss: 7.6942 - acc: 0.0605 - mean_absolute_error: 2.5356 - auc: 0.0000e+00\n"
          ],
          "name": "stdout"
        }
      ]
    },
    {
      "cell_type": "code",
      "metadata": {
        "id": "ncM7gQTFUK46",
        "colab_type": "code",
        "outputId": "3ddecce5-1748-41b0-f92a-91ec568f3ca2",
        "colab": {
          "base_uri": "https://localhost:8080/",
          "height": 70
        }
      },
      "source": [
        ""
      ],
      "execution_count": 0,
      "outputs": [
        {
          "output_type": "stream",
          "text": [
            "allbut.pl  u1.base  u2.test  u4.base  u5.test  ub.base\tu.genre  u.occupation\n",
            "mku.sh\t   u1.test  u3.base  u4.test  ua.base  ub.test\tu.info\t u.user\n",
            "README\t   u2.base  u3.test  u5.base  ua.test  u.data\tu.item\n"
          ],
          "name": "stdout"
        }
      ]
    },
    {
      "cell_type": "code",
      "metadata": {
        "id": "E_rBD16FUK1G",
        "colab_type": "code",
        "colab": {}
      },
      "source": [
        "  "
      ],
      "execution_count": 0,
      "outputs": []
    },
    {
      "cell_type": "code",
      "metadata": {
        "id": "BvEDk5LEUKwh",
        "colab_type": "code",
        "colab": {}
      },
      "source": [
        ""
      ],
      "execution_count": 0,
      "outputs": []
    },
    {
      "cell_type": "code",
      "metadata": {
        "id": "7B_fKfTKUKlA",
        "colab_type": "code",
        "colab": {}
      },
      "source": [
        ""
      ],
      "execution_count": 0,
      "outputs": []
    }
  ]
}