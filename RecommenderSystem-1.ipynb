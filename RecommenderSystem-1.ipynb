{
  "nbformat": 4,
  "nbformat_minor": 0,
  "metadata": {
    "colab": {
      "name": "RecommenderSystem-1.ipynb",
      "version": "0.3.2",
      "provenance": []
    },
    "language_info": {
      "codemirror_mode": {
        "name": "ipython",
        "version": 3
      },
      "file_extension": ".py",
      "mimetype": "text/x-python",
      "name": "python",
      "nbconvert_exporter": "python",
      "pygments_lexer": "ipython3",
      "version": "3.7.3"
    },
    "kernelspec": {
      "name": "python3",
      "display_name": "Python 3"
    },
    "accelerator": "GPU"
  },
  "cells": [
    {
      "cell_type": "code",
      "metadata": {
        "colab_type": "code",
        "id": "f9VneyquFkVT",
        "outputId": "bcd510a0-1402-44af-fc42-5b708e0d44b5",
        "colab": {
          "base_uri": "https://localhost:8080/",
          "height": 35
        }
      },
      "source": [
        "!curl ifconfig.co"
      ],
      "execution_count": 0,
      "outputs": [
        {
          "output_type": "stream",
          "text": [
            "35.229.201.223\n"
          ],
          "name": "stdout"
        }
      ]
    },
    {
      "cell_type": "code",
      "metadata": {
        "id": "GUCIAhmxUQy1",
        "colab_type": "code",
        "outputId": "b4bd3bb2-c321-41fa-f808-a47466593aa4",
        "colab": {
          "base_uri": "https://localhost:8080/",
          "height": 122
        }
      },
      "source": [
        "from google.colab import drive\n",
        "drive.mount('/content/gdrive')"
      ],
      "execution_count": 1,
      "outputs": [
        {
          "output_type": "stream",
          "text": [
            "Go to this URL in a browser: https://accounts.google.com/o/oauth2/auth?client_id=947318989803-6bn6qk8qdgf4n4g3pfee6491hc0brc4i.apps.googleusercontent.com&redirect_uri=urn%3Aietf%3Awg%3Aoauth%3A2.0%3Aoob&scope=email%20https%3A%2F%2Fwww.googleapis.com%2Fauth%2Fdocs.test%20https%3A%2F%2Fwww.googleapis.com%2Fauth%2Fdrive%20https%3A%2F%2Fwww.googleapis.com%2Fauth%2Fdrive.photos.readonly%20https%3A%2F%2Fwww.googleapis.com%2Fauth%2Fpeopleapi.readonly&response_type=code\n",
            "\n",
            "Enter your authorization code:\n",
            "··········\n",
            "Mounted at /content/gdrive\n"
          ],
          "name": "stdout"
        }
      ]
    },
    {
      "cell_type": "code",
      "metadata": {
        "colab_type": "code",
        "id": "gQyEXH3xFkVa",
        "outputId": "f43320e2-2b28-49d5-9ece-af30c93c848d",
        "colab": {
          "base_uri": "https://localhost:8080/",
          "height": 615
        }
      },
      "source": [
        "!ls /content/gdrive/My\\ Drive/\n",
        "!cp -r /content/gdrive/My\\ Drive/BO-* /content/gdrive/My\\ Drive/resume\n",
        "!cd gdrive/My\\ Drive/colab\n",
        "!unzip /content/gdrive/My\\ Drive/colab/ml-100k.zip\n",
        "!ls gdrive/My\\ Drive/colab/ml-100k/"
      ],
      "execution_count": 0,
      "outputs": [
        {
          "output_type": "stream",
          "text": [
            " BO-DA-رزومه‌ها-E0\t\t  nimac.gsite\n",
            " colab\t\t\t\t  resume\n",
            "'Getting started.pdf'\t\t  SahabX-Sokan\n",
            "'hadoop meeting feedback.gform'  'اعضای دانشکده.xlsx'\n",
            "'Hadoop Meeting.gslides'\t 'پروژه هوش سحاب.gdoc'\n",
            " NimaBehrang.pdf\t\t 'مشخصات سرور.gsheet'\n",
            "Archive:  /content/gdrive/My Drive/colab/ml-100k.zip\n",
            "   creating: ml-100k/\n",
            "  inflating: ml-100k/allbut.pl       \n",
            "  inflating: ml-100k/mku.sh          \n",
            "  inflating: ml-100k/README          \n",
            "  inflating: ml-100k/u.data           bad CRC d354e598  (should be 55baee78)\n",
            "  inflating: ml-100k/u.genre         \n",
            "  inflating: ml-100k/u.info          \n",
            "  inflating: ml-100k/u.item          \n",
            "  inflating: ml-100k/u.occupation    \n",
            "  inflating: ml-100k/u.user          \n",
            "  inflating: ml-100k/u1.base         \n",
            "  inflating: ml-100k/u1.test         \n",
            "  inflating: ml-100k/u2.base         \n",
            "  inflating: ml-100k/u2.test         \n",
            "  inflating: ml-100k/u3.base         \n",
            "  inflating: ml-100k/u3.test         \n",
            "  inflating: ml-100k/u4.base         \n",
            "  inflating: ml-100k/u4.test         \n",
            "  inflating: ml-100k/u5.base         \n",
            "  inflating: ml-100k/u5.test         \n",
            "  inflating: ml-100k/ua.base         \n",
            "  inflating: ml-100k/ua.test         \n",
            "  inflating: ml-100k/ub.base         \n",
            "  inflating: ml-100k/ub.test         \n",
            "allbut.pl  u1.base  u2.test  u4.base  u5.test  ub.base\tu.genre  u.occupation\n",
            "mku.sh\t   u1.test  u3.base  u4.test  ua.base  ub.test\tu.info\t u.user\n",
            "README\t   u2.base  u3.test  u5.base  ua.test  u.data\tu.item\n"
          ],
          "name": "stdout"
        }
      ]
    },
    {
      "cell_type": "code",
      "metadata": {
        "id": "z8Spq_GceqcS",
        "colab_type": "code",
        "colab": {
          "base_uri": "https://localhost:8080/",
          "height": 68
        },
        "outputId": "55d06f1b-efa6-4bcf-e9d6-23ea2dc44b7c"
      },
      "source": [
        "!pip install -q tensorflow-gpu==2.0.0a0\n",
        "!pip install -q tensorboard\n",
        "!pip install -q tensorboardcolab"
      ],
      "execution_count": 2,
      "outputs": [
        {
          "output_type": "stream",
          "text": [
            "\u001b[K     |████████████████████████████████| 332.1MB 57kB/s \n",
            "\u001b[K     |████████████████████████████████| 419kB 52.4MB/s \n",
            "\u001b[K     |████████████████████████████████| 3.0MB 39.4MB/s \n",
            "\u001b[?25h"
          ],
          "name": "stdout"
        }
      ]
    },
    {
      "cell_type": "code",
      "metadata": {
        "id": "0HpHoAejfHoC",
        "colab_type": "code",
        "outputId": "5ee2b832-692b-441f-ede1-f987a6a24a61",
        "colab": {
          "base_uri": "https://localhost:8080/",
          "height": 85
        }
      },
      "source": [
        "from tensorflow.python import keras\n",
        "import tensorflow as tf\n",
        "from tensorboardcolab import *\n",
        "tbc=TensorBoardColab(port=6006, graph_path='/tmp/logs', startup_waiting_time=8)"
      ],
      "execution_count": 3,
      "outputs": [
        {
          "output_type": "stream",
          "text": [
            "Using TensorFlow backend.\n"
          ],
          "name": "stderr"
        },
        {
          "output_type": "stream",
          "text": [
            "Wait for 8 seconds...\n",
            "TensorBoard link:\n",
            "https://0e1910a6.ngrok.io\n"
          ],
          "name": "stdout"
        }
      ]
    },
    {
      "cell_type": "code",
      "metadata": {
        "colab_type": "code",
        "id": "CCvT1KE_FkVm",
        "outputId": "4913c9fd-96ff-4bee-acc4-6cef9347d722",
        "colab": {
          "base_uri": "https://localhost:8080/",
          "height": 68
        }
      },
      "source": [
        "# !cat gdrive/My\\ Drive/colab/ml-100k/u.user=\n",
        "import numpy as np\n",
        "data = np.genfromtxt(\"/content/gdrive/My Drive/colab/ml-100k/u.data\", dtype=int)\n",
        "train_data = []\n",
        "test_data = []\n",
        "UPL=10\n",
        "K=20\n",
        "users = np.unique(data[:,0])\n",
        "for user in users:\n",
        "  userrows = data[(np.where(data[:,0] == user)), :][0]\n",
        "  if len(userrows) > UPL + K:\n",
        "    np.random.shuffle(userrows)\n",
        "    for item in userrows[:UPL]:\n",
        "      train_data.append(item)\n",
        "    for item in userrows[UPL:]:\n",
        "      test_data.append(item)\n",
        "train_data = np.asarray(train_data)\n",
        "test_data = np.asarray(test_data)\n",
        "\n",
        "print(len(train_data))\n",
        "print(np.shape(train_data))\n",
        "print(train_data[0])"
      ],
      "execution_count": 30,
      "outputs": [
        {
          "output_type": "stream",
          "text": [
            "7300\n",
            "(7300, 4)\n",
            "[        1        88         4 878542791]\n"
          ],
          "name": "stdout"
        }
      ]
    },
    {
      "cell_type": "code",
      "metadata": {
        "colab_type": "code",
        "id": "bYBQNbatFkWQ",
        "colab": {}
      },
      "source": [
        ""
      ],
      "execution_count": 0,
      "outputs": []
    },
    {
      "cell_type": "code",
      "metadata": {
        "id": "TILlKL6AURii",
        "colab_type": "code",
        "colab": {}
      },
      "source": [
        ""
      ],
      "execution_count": 0,
      "outputs": []
    },
    {
      "cell_type": "code",
      "metadata": {
        "id": "4BX0vvitURp1",
        "colab_type": "code",
        "colab": {}
      },
      "source": [
        ""
      ],
      "execution_count": 0,
      "outputs": []
    },
    {
      "cell_type": "code",
      "metadata": {
        "id": "CwcRYcN5URxX",
        "colab_type": "code",
        "colab": {}
      },
      "source": [
        "def castRate(inp):\n",
        "  return inp/5-0.1"
      ],
      "execution_count": 0,
      "outputs": []
    },
    {
      "cell_type": "code",
      "metadata": {
        "colab_type": "code",
        "id": "YDfU1SMdGuh6",
        "colab": {}
      },
      "source": [
        "keras.backend.clear_session()"
      ],
      "execution_count": 0,
      "outputs": []
    },
    {
      "cell_type": "code",
      "metadata": {
        "id": "ePnpIR6QWpFX",
        "colab_type": "code",
        "colab": {}
      },
      "source": [
        "# input_user = keras.Input(shape=(1,))  # Returns a placeholder tensor\n",
        "# input_item = keras.Input(shape=(1,))  # Returns a placeholder tensor\n",
        "# embed_user = keras.layers.Embedding(2000, 64)(input_user)\n",
        "# embed_item = keras.layers.Embedding(2000, 64)(input_item)\n",
        "# multiply = keras.layers.Multiply()([embed_user, embed_item])\n",
        "# rate = keras.layers.add(tf.unstack(multiply, axis=2))\n",
        "# model = keras.Model(inputs=[input_user, input_item], outputs = keras.activations.sigmoid(rate))\n",
        "# model.summary()"
      ],
      "execution_count": 0,
      "outputs": []
    },
    {
      "cell_type": "code",
      "metadata": {
        "id": "EmLy_d9DUKcn",
        "colab_type": "code",
        "outputId": "0d7fac31-e420-4bde-bf0d-3eca55689979",
        "colab": {
          "base_uri": "https://localhost:8080/",
          "height": 374
        }
      },
      "source": [
        "input_user = keras.Input(shape=(1,))  # Returns a placeholder tensor\n",
        "input_item = keras.Input(shape=(1,))  # Returns a placeholder tensor\n",
        "embed_user = keras.layers.Embedding(2000, 64)(input_user)\n",
        "embed_item = keras.layers.Embedding(2000, 64)(input_item)\n",
        "dot = keras.layers.dot(inputs=[embed_user, embed_item],axes=2)\n",
        "model_opt = keras.Model(inputs=[input_user, input_item], outputs = keras.activations.sigmoid(dot))\n",
        "model_opt.summary()\n",
        "sgd = tf.keras.optimizers.SGD(lr=0.01, clipvalue=0.5)\n",
        "adam = tf.keras.optimizers.Adam(lr=0.1, beta_1=0.9, beta_2=0.999, epsilon=None, decay=0.0, amsgrad=False)\n",
        "nadam = tf.keras.optimizers.Nadam(lr=0.002, beta_1=0.9, beta_2=0.999, epsilon=None, schedule_decay=0.004)\n",
        "square = tf.keras.losses.squared_hinge\n",
        "ms = 'mean_squared_error'\n",
        "model_opt.compile(optimizer=adam,\n",
        "            loss=ms,\n",
        "            metrics=['accuracy','mae'])"
      ],
      "execution_count": 22,
      "outputs": [
        {
          "output_type": "stream",
          "text": [
            "Model: \"model\"\n",
            "__________________________________________________________________________________________________\n",
            "Layer (type)                    Output Shape         Param #     Connected to                     \n",
            "==================================================================================================\n",
            "input_1 (InputLayer)            [(None, 1)]          0                                            \n",
            "__________________________________________________________________________________________________\n",
            "input_2 (InputLayer)            [(None, 1)]          0                                            \n",
            "__________________________________________________________________________________________________\n",
            "embedding (Embedding)           (None, 1, 64)        128000      input_1[0][0]                    \n",
            "__________________________________________________________________________________________________\n",
            "embedding_1 (Embedding)         (None, 1, 64)        128000      input_2[0][0]                    \n",
            "__________________________________________________________________________________________________\n",
            "dot (Dot)                       (None, 1, 1)         0           embedding[0][0]                  \n",
            "                                                                 embedding_1[0][0]                \n",
            "__________________________________________________________________________________________________\n",
            "Sigmoid_1 (TensorFlowOpLayer)   [(None, 1, 1)]       0           dot[0][0]                        \n",
            "==================================================================================================\n",
            "Total params: 256,000\n",
            "Trainable params: 256,000\n",
            "Non-trainable params: 0\n",
            "__________________________________________________________________________________________________\n"
          ],
          "name": "stdout"
        }
      ]
    },
    {
      "cell_type": "code",
      "metadata": {
        "id": "NRaETCo0UKo-",
        "colab_type": "code",
        "outputId": "c23bc814-d69b-4a0d-c7f7-c158ea38968e",
        "colab": {
          "base_uri": "https://localhost:8080/",
          "height": 204
        }
      },
      "source": [
        "x_train = [train_data[:,0],train_data[:,1]]\n",
        "y_train = [castRate(x) for x in train_data[:,2]]\n",
        "x_test = [test_data[:,0],test_data[:,1]]\n",
        "y_test = [castRate(x) for x in test_data[:,2]]\n",
        "\n",
        "logdir=\"/tmp/logs/2\"\n",
        "checkpoint_path = logdir + \"/cp.ckpt\"\n",
        "# checkpoint_dir = os.path.dirname(checkpoint_path)\n",
        "\n",
        "# Create checkpoint callback\n",
        "cp_callback = tf.keras.callbacks.ModelCheckpoint(checkpoint_path, save_weights_only=True, verbose=1)\n",
        "tb_callback = tf.keras.callbacks.TensorBoard(log_dir=checkpoint_path, histogram_freq=0,\n",
        "                                             write_graph=True, write_grads=False, write_images=False,\n",
        "                                             embeddings_freq=0, embeddings_layer_names=None,\n",
        "                                             embeddings_metadata=None, embeddings_data=[], update_freq='epoch')\n",
        "es_callback = tf.keras.callbacks.EarlyStopping(monitor='val_loss', min_delta=0.001, patience=1, verbose=1,\n",
        "                                               mode='auto', baseline=None, restore_best_weights=False)\n",
        "\n",
        "fit = model_opt.fit(x_train, y_train, validation_data=(x_test, y_test), epochs=30,\n",
        "                callbacks = [cp_callback, tb_callback, es_callback], batch_size=1000)\n",
        "\n",
        "# ans = model_opt.evaluate(x_test, y_test)"
      ],
      "execution_count": 35,
      "outputs": [
        {
          "output_type": "stream",
          "text": [
            "W0729 12:40:45.113296 140224684017536 tf_logging.py:161] Model failed to serialize as JSON. Ignoring... ('Not JSON Serializable:', b'\\n\\tSigmoid_1\\x12\\x07Sigmoid\\x1a\\ndot/MatMul*\\x07\\n\\x01T\\x12\\x020\\x01')\n"
          ],
          "name": "stderr"
        },
        {
          "output_type": "stream",
          "text": [
            "Train on 7300 samples, validate on 87549 samples\n",
            "Epoch 1/30\n",
            "1000/7300 [===>..........................] - ETA: 0s - loss: 0.0623 - accuracy: 0.0000e+00 - mae: 0.2001\n",
            "Epoch 00001: saving model to /tmp/logs/2/cp.ckpt\n",
            "7300/7300 [==============================] - 0s 42us/sample - loss: 0.0663 - accuracy: 0.0000e+00 - mae: 0.2067 - val_loss: 0.0587 - val_accuracy: 0.0000e+00 - val_mae: 0.1983\n",
            "Epoch 2/30\n",
            "1000/7300 [===>..........................] - ETA: 0s - loss: 0.0616 - accuracy: 0.0000e+00 - mae: 0.1992\n",
            "Epoch 00002: saving model to /tmp/logs/2/cp.ckpt\n",
            "7300/7300 [==============================] - 0s 42us/sample - loss: 0.0669 - accuracy: 0.0000e+00 - mae: 0.2071 - val_loss: 0.0588 - val_accuracy: 0.0000e+00 - val_mae: 0.1982\n",
            "Epoch 00002: early stopping\n"
          ],
          "name": "stdout"
        }
      ]
    },
    {
      "cell_type": "code",
      "metadata": {
        "id": "ncM7gQTFUK46",
        "colab_type": "code",
        "outputId": "a9069dd2-6321-45a3-ef95-62831dc1fab1",
        "colab": {
          "base_uri": "https://localhost:8080/",
          "height": 35
        }
      },
      "source": [
        "\n"
      ],
      "execution_count": 0,
      "outputs": [
        {
          "output_type": "stream",
          "text": [
            "1.0991902834008087\n"
          ],
          "name": "stdout"
        }
      ]
    },
    {
      "cell_type": "code",
      "metadata": {
        "id": "E_rBD16FUK1G",
        "colab_type": "code",
        "outputId": "b3c49541-6200-4182-e66a-f4e7dafe2b63",
        "colab": {
          "base_uri": "https://localhost:8080/",
          "height": 241
        }
      },
      "source": [
        "def calcHitRatio(test_data):\n",
        "  x_test = [test_data[:,0],test_data[:,1]]\n",
        "  y_test = [castRate(x) for x in test_data[:,2]]\n",
        "  predict_rate = model_opt.predict(x_test)\n",
        "  users_number = np.unique(test_data[:,0])\n",
        "  predict = [(user, movie, rate[0][0]) for user,movie,rate in zip(test_data[:,0], test_data[:,1],predict_rate)]\n",
        "  real = [(user, movie, castRate(rate)) for user,movie,rate in zip(test_data[:,0], test_data[:,1], test_data[:,2])]\n",
        "\n",
        "  print(predict[:20])\n",
        "  print(real[:20])\n",
        "\n",
        "  avr, num = (0,0)\n",
        "  for selected_user in users_number:\n",
        "    predict_for_user = sorted([(user, movie, rate) for user,movie,rate in predict if user == selected_user], key=lambda x: x[2], reverse=True)\n",
        "    real_for_user = sorted([(user, movie, rate) for user,movie,rate in real if user == selected_user], key=lambda x: x[2], reverse=True)\n",
        "    count = 0\n",
        "    if selected_user == 1:\n",
        "        print(predict_for_user)\n",
        "        print(real_for_user)\n",
        "    for u,m,r in real_for_user[:K]:\n",
        "      count += len([x for x,y,z in predict_for_user[:K] if y == m])\n",
        "    if selected_user < 10:\n",
        "      print(count)\n",
        "    avr = (avr*num + count)/(num+1)\n",
        "    num = num+1\n",
        "  return (avr,num)\n",
        "\n",
        "\n",
        "  # ans = []\n",
        "  # for indx, item in enumerate(predict):\n",
        "  #   ans.append([indx, item])\n",
        "  # ans.sort(key=lambda x: x[1],reverse=True)\n",
        "  # tresh = 100\n",
        "  # count = 0\n",
        "  # for i in range(tresh):\n",
        "  #     if ans[i][0] <= tresh:\n",
        "  #       count = count + 1\n",
        "  # return count\n",
        "print(calcHitRatio(test_data))\n"
      ],
      "execution_count": 60,
      "outputs": [
        {
          "output_type": "stream",
          "text": [
            "[(1, 2, 0.74962246), (1, 17, 0.77996224), (1, 222, 0.757692), (1, 201, 0.78026235), (1, 13, 0.7386266), (1, 125, 0.5979352), (1, 47, 0.68791056), (1, 120, 0.8903676), (1, 92, 0.6804207), (1, 180, 0.4366649), (1, 73, 0.7684903), (1, 134, 0.55385995), (1, 257, 0.5791896), (1, 169, 0.44267735), (1, 188, 0.52601796), (1, 27, 0.5989295), (1, 123, 0.6620594), (1, 80, 0.6913945), (1, 227, 0.7371909), (1, 86, 0.5521065)]\n",
            "[(1, 2, 0.5), (1, 17, 0.5), (1, 222, 0.7000000000000001), (1, 201, 0.5), (1, 13, 0.9), (1, 125, 0.5), (1, 47, 0.7000000000000001), (1, 120, 0.1), (1, 92, 0.5), (1, 180, 0.5), (1, 73, 0.5), (1, 134, 0.7000000000000001), (1, 257, 0.7000000000000001), (1, 169, 0.9), (1, 188, 0.5), (1, 27, 0.30000000000000004), (1, 123, 0.7000000000000001), (1, 80, 0.7000000000000001), (1, 227, 0.7000000000000001), (1, 86, 0.9)]\n",
            "[(1, 101, 0.89621246), (1, 109, 0.89060336), (1, 120, 0.8903676), (1, 145, 0.88137746), (1, 139, 0.87959534), (1, 196, 0.879302), (1, 171, 0.8721964), (1, 244, 0.8459172), (1, 253, 0.8288804), (1, 214, 0.8266936), (1, 156, 0.81344926), (1, 111, 0.80938804), (1, 40, 0.8061233), (1, 243, 0.7877451), (1, 246, 0.7852835), (1, 59, 0.7837984), (1, 1, 0.78334653), (1, 212, 0.7815062), (1, 201, 0.78026235), (1, 17, 0.77996224), (1, 191, 0.77875805), (1, 73, 0.7684903), (1, 233, 0.7671306), (1, 229, 0.7614571), (1, 69, 0.7607894), (1, 222, 0.757692), (1, 36, 0.75754905), (1, 272, 0.75350356), (1, 167, 0.753487), (1, 186, 0.7533009), (1, 271, 0.7532624), (1, 226, 0.74990755), (1, 2, 0.74962246), (1, 204, 0.7419991), (1, 71, 0.73923063), (1, 13, 0.7386266), (1, 227, 0.7371909), (1, 157, 0.73639226), (1, 65, 0.7343905), (1, 152, 0.73286784), (1, 118, 0.7307798), (1, 172, 0.7258109), (1, 232, 0.7211106), (1, 8, 0.7202358), (1, 228, 0.71998066), (1, 234, 0.7192637), (1, 259, 0.7188443), (1, 208, 0.71711195), (1, 15, 0.71633554), (1, 45, 0.7144662), (1, 199, 0.7124251), (1, 76, 0.71040636), (1, 247, 0.7098075), (1, 49, 0.70817804), (1, 82, 0.7065115), (1, 209, 0.70640993), (1, 11, 0.7055224), (1, 63, 0.7049465), (1, 25, 0.70483947), (1, 143, 0.7004475), (1, 138, 0.69990176), (1, 151, 0.6994952), (1, 7, 0.6992387), (1, 248, 0.6983225), (1, 236, 0.6965666), (1, 9, 0.69603074), (1, 58, 0.69586533), (1, 106, 0.69492745), (1, 164, 0.6930182), (1, 223, 0.69256437), (1, 96, 0.69158417), (1, 80, 0.6913945), (1, 137, 0.69099545), (1, 47, 0.68791056), (1, 99, 0.6878739), (1, 70, 0.6870979), (1, 121, 0.68593097), (1, 53, 0.6828773), (1, 95, 0.6824076), (1, 189, 0.6817438), (1, 165, 0.6814612), (1, 216, 0.68085575), (1, 92, 0.6804207), (1, 160, 0.6801307), (1, 254, 0.6774969), (1, 220, 0.6720009), (1, 127, 0.6715143), (1, 150, 0.6712456), (1, 210, 0.6711794), (1, 85, 0.67096436), (1, 170, 0.6708627), (1, 135, 0.6700252), (1, 55, 0.66262746), (1, 123, 0.6620594), (1, 98, 0.66018605), (1, 235, 0.66009814), (1, 148, 0.65941), (1, 93, 0.65785384), (1, 126, 0.65739214), (1, 61, 0.656065), (1, 195, 0.65550053), (1, 62, 0.65518373), (1, 41, 0.65333676), (1, 72, 0.6525245), (1, 237, 0.65138686), (1, 130, 0.65108484), (1, 147, 0.65077806), (1, 194, 0.6503443), (1, 166, 0.64962375), (1, 39, 0.64957994), (1, 77, 0.649017), (1, 79, 0.6488851), (1, 215, 0.64886165), (1, 230, 0.6482658), (1, 255, 0.64666605), (1, 256, 0.6466399), (1, 176, 0.6461309), (1, 56, 0.6460383), (1, 83, 0.6434573), (1, 89, 0.64340395), (1, 205, 0.6424478), (1, 132, 0.6420257), (1, 141, 0.64166456), (1, 213, 0.6415945), (1, 124, 0.64028144), (1, 177, 0.6383482), (1, 12, 0.6371892), (1, 200, 0.63698256), (1, 155, 0.63662124), (1, 144, 0.6356666), (1, 161, 0.63506246), (1, 249, 0.63450646), (1, 181, 0.6334597), (1, 251, 0.6333722), (1, 168, 0.6333518), (1, 183, 0.63054633), (1, 153, 0.63039577), (1, 178, 0.6298127), (1, 265, 0.6285641), (1, 117, 0.6283164), (1, 43, 0.62755114), (1, 3, 0.6273341), (1, 221, 0.62699115), (1, 87, 0.6247303), (1, 184, 0.624202), (1, 241, 0.62118226), (1, 48, 0.6203227), (1, 100, 0.62006193), (1, 190, 0.6124768), (1, 46, 0.6113522), (1, 185, 0.6087508), (1, 57, 0.6083834), (1, 116, 0.6044622), (1, 154, 0.6042025), (1, 187, 0.6035142), (1, 193, 0.60351014), (1, 239, 0.60328555), (1, 114, 0.60094106), (1, 112, 0.6008441), (1, 175, 0.60072106), (1, 52, 0.5992673), (1, 27, 0.5989295), (1, 4, 0.598653), (1, 125, 0.5979352), (1, 129, 0.5975107), (1, 264, 0.5968026), (1, 19, 0.59649426), (1, 202, 0.5964436), (1, 133, 0.59612465), (1, 252, 0.59539026), (1, 31, 0.5952279), (1, 90, 0.59513116), (1, 54, 0.59142), (1, 38, 0.59079987), (1, 269, 0.5905413), (1, 64, 0.5903588), (1, 218, 0.5902387), (1, 268, 0.589375), (1, 113, 0.5878401), (1, 97, 0.58472943), (1, 21, 0.5843416), (1, 107, 0.5823169), (1, 67, 0.5810729), (1, 257, 0.5791896), (1, 91, 0.5758241), (1, 225, 0.575551), (1, 182, 0.5744943), (1, 211, 0.5741723), (1, 179, 0.57279587), (1, 50, 0.57236916), (1, 122, 0.5702696), (1, 217, 0.56594205), (1, 14, 0.56440604), (1, 262, 0.5642642), (1, 68, 0.5630448), (1, 250, 0.56281966), (1, 192, 0.5626995), (1, 203, 0.5619225), (1, 174, 0.5607639), (1, 197, 0.55678016), (1, 10, 0.55431247), (1, 134, 0.55385995), (1, 24, 0.55302924), (1, 86, 0.5521065), (1, 136, 0.5505929), (1, 66, 0.5478555), (1, 26, 0.5469445), (1, 258, 0.5415514), (1, 110, 0.5413142), (1, 23, 0.53945494), (1, 163, 0.539116), (1, 33, 0.5344044), (1, 224, 0.53208286), (1, 159, 0.53206104), (1, 219, 0.5316242), (1, 131, 0.5294362), (1, 102, 0.5277686), (1, 142, 0.52741814), (1, 188, 0.52601796), (1, 158, 0.5195498), (1, 5, 0.5165648), (1, 270, 0.5109411), (1, 266, 0.50665647), (1, 35, 0.506617), (1, 240, 0.5028487), (1, 37, 0.4997969), (1, 245, 0.49771345), (1, 78, 0.49569735), (1, 103, 0.4953534), (1, 104, 0.49444383), (1, 173, 0.4943201), (1, 146, 0.48982888), (1, 238, 0.4882818), (1, 34, 0.48621804), (1, 149, 0.4847752), (1, 29, 0.48449996), (1, 108, 0.48240715), (1, 84, 0.4786974), (1, 20, 0.47820395), (1, 75, 0.47588125), (1, 267, 0.4752069), (1, 260, 0.4727281), (1, 198, 0.4723033), (1, 119, 0.47035125), (1, 105, 0.4559681), (1, 128, 0.45593074), (1, 60, 0.4545075), (1, 169, 0.44267735), (1, 180, 0.4366649), (1, 206, 0.42829382), (1, 22, 0.4235763), (1, 263, 0.4199915), (1, 207, 0.40076673), (1, 44, 0.3602848), (1, 18, 0.35307473), (1, 51, 0.34647644), (1, 32, 0.3095815), (1, 74, 0.30065772), (1, 30, 0.26774907), (1, 242, 0.26182932), (1, 6, 0.24829087), (1, 261, 0.22913706)]\n",
            "[(1, 13, 0.9), (1, 169, 0.9), (1, 86, 0.9), (1, 197, 0.9), (1, 224, 0.9), (1, 270, 0.9), (1, 9, 0.9), (1, 114, 0.9), (1, 154, 0.9), (1, 195, 0.9), (1, 190, 0.9), (1, 208, 0.9), (1, 150, 0.9), (1, 268, 0.9), (1, 48, 0.9), (1, 100, 0.9), (1, 174, 0.9), (1, 82, 0.9), (1, 1, 0.9), (1, 166, 0.9), (1, 216, 0.9), (1, 181, 0.9), (1, 165, 0.9), (1, 204, 0.9), (1, 119, 0.9), (1, 170, 0.9), (1, 108, 0.9), (1, 87, 0.9), (1, 171, 0.9), (1, 127, 0.9), (1, 172, 0.9), (1, 60, 0.9), (1, 59, 0.9), (1, 258, 0.9), (1, 32, 0.9), (1, 175, 0.9), (1, 129, 0.9), (1, 89, 0.9), (1, 44, 0.9), (1, 183, 0.9), (1, 242, 0.9), (1, 19, 0.9), (1, 177, 0.9), (1, 15, 0.9), (1, 55, 0.9), (1, 57, 0.9), (1, 109, 0.9), (1, 198, 0.9), (1, 96, 0.9), (1, 45, 0.9), (1, 176, 0.9), (1, 137, 0.9), (1, 221, 0.9), (1, 93, 0.9), (1, 50, 0.9), (1, 12, 0.9), (1, 235, 0.9), (1, 6, 0.9), (1, 202, 0.9), (1, 253, 0.9), (1, 196, 0.9), (1, 64, 0.9), (1, 269, 0.9), (1, 228, 0.9), (1, 152, 0.9), (1, 173, 0.9), (1, 111, 0.9), (1, 168, 0.9), (1, 246, 0.9), (1, 178, 0.9), (1, 14, 0.9), (1, 124, 0.9), (1, 223, 0.9), (1, 191, 0.9), (1, 113, 0.9), (1, 207, 0.9), (1, 91, 0.9), (1, 222, 0.7000000000000001), (1, 47, 0.7000000000000001), (1, 134, 0.7000000000000001), (1, 257, 0.7000000000000001), (1, 123, 0.7000000000000001), (1, 80, 0.7000000000000001), (1, 227, 0.7000000000000001), (1, 144, 0.7000000000000001), (1, 43, 0.7000000000000001), (1, 132, 0.7000000000000001), (1, 135, 0.7000000000000001), (1, 58, 0.7000000000000001), (1, 187, 0.7000000000000001), (1, 186, 0.7000000000000001), (1, 98, 0.7000000000000001), (1, 199, 0.7000000000000001), (1, 251, 0.7000000000000001), (1, 184, 0.7000000000000001), (1, 157, 0.7000000000000001), (1, 90, 0.7000000000000001), (1, 238, 0.7000000000000001), (1, 163, 0.7000000000000001), (1, 267, 0.7000000000000001), (1, 7, 0.7000000000000001), (1, 239, 0.7000000000000001), (1, 248, 0.7000000000000001), (1, 72, 0.7000000000000001), (1, 22, 0.7000000000000001), (1, 241, 0.7000000000000001), (1, 185, 0.7000000000000001), (1, 23, 0.7000000000000001), (1, 76, 0.7000000000000001), (1, 95, 0.7000000000000001), (1, 212, 0.7000000000000001), (1, 234, 0.7000000000000001), (1, 250, 0.7000000000000001), (1, 160, 0.7000000000000001), (1, 56, 0.7000000000000001), (1, 192, 0.7000000000000001), (1, 52, 0.7000000000000001), (1, 230, 0.7000000000000001), (1, 46, 0.7000000000000001), (1, 77, 0.7000000000000001), (1, 206, 0.7000000000000001), (1, 61, 0.7000000000000001), (1, 210, 0.7000000000000001), (1, 156, 0.7000000000000001), (1, 3, 0.7000000000000001), (1, 107, 0.7000000000000001), (1, 193, 0.7000000000000001), (1, 146, 0.7000000000000001), (1, 209, 0.7000000000000001), (1, 18, 0.7000000000000001), (1, 68, 0.7000000000000001), (1, 182, 0.7000000000000001), (1, 106, 0.7000000000000001), (1, 84, 0.7000000000000001), (1, 65, 0.7000000000000001), (1, 161, 0.7000000000000001), (1, 20, 0.7000000000000001), (1, 66, 0.7000000000000001), (1, 236, 0.7000000000000001), (1, 121, 0.7000000000000001), (1, 265, 0.7000000000000001), (1, 194, 0.7000000000000001), (1, 203, 0.7000000000000001), (1, 33, 0.7000000000000001), (1, 249, 0.7000000000000001), (1, 151, 0.7000000000000001), (1, 133, 0.7000000000000001), (1, 75, 0.7000000000000001), (1, 39, 0.7000000000000001), (1, 214, 0.7000000000000001), (1, 79, 0.7000000000000001), (1, 128, 0.7000000000000001), (1, 51, 0.7000000000000001), (1, 25, 0.7000000000000001), (1, 229, 0.7000000000000001), (1, 256, 0.7000000000000001), (1, 2, 0.5), (1, 17, 0.5), (1, 201, 0.5), (1, 125, 0.5), (1, 92, 0.5), (1, 180, 0.5), (1, 73, 0.5), (1, 188, 0.5), (1, 62, 0.5), (1, 5, 0.5), (1, 40, 0.5), (1, 159, 0.5), (1, 122, 0.5), (1, 99, 0.5), (1, 139, 0.5), (1, 24, 0.5), (1, 215, 0.5), (1, 200, 0.5), (1, 4, 0.5), (1, 218, 0.5), (1, 67, 0.5), (1, 147, 0.5), (1, 26, 0.5), (1, 53, 0.5), (1, 49, 0.5), (1, 226, 0.5), (1, 38, 0.5), (1, 179, 0.5), (1, 240, 0.5), (1, 71, 0.5), (1, 97, 0.5), (1, 164, 0.5), (1, 54, 0.5), (1, 69, 0.5), (1, 211, 0.5), (1, 30, 0.5), (1, 158, 0.5), (1, 70, 0.5), (1, 117, 0.5), (1, 85, 0.5), (1, 220, 0.5), (1, 130, 0.5), (1, 232, 0.5), (1, 189, 0.5), (1, 272, 0.5), (1, 141, 0.5), (1, 205, 0.5), (1, 136, 0.5), (1, 153, 0.5), (1, 118, 0.5), (1, 116, 0.5), (1, 83, 0.5), (1, 10, 0.5), (1, 262, 0.5), (1, 31, 0.5), (1, 217, 0.5), (1, 27, 0.30000000000000004), (1, 264, 0.30000000000000004), (1, 148, 0.30000000000000004), (1, 63, 0.30000000000000004), (1, 213, 0.30000000000000004), (1, 252, 0.30000000000000004), (1, 11, 0.30000000000000004), (1, 255, 0.30000000000000004), (1, 101, 0.30000000000000004), (1, 271, 0.30000000000000004), (1, 37, 0.30000000000000004), (1, 145, 0.30000000000000004), (1, 245, 0.30000000000000004), (1, 34, 0.30000000000000004), (1, 149, 0.30000000000000004), (1, 105, 0.30000000000000004), (1, 41, 0.30000000000000004), (1, 244, 0.30000000000000004), (1, 233, 0.30000000000000004), (1, 225, 0.30000000000000004), (1, 102, 0.30000000000000004), (1, 237, 0.30000000000000004), (1, 142, 0.30000000000000004), (1, 167, 0.30000000000000004), (1, 126, 0.30000000000000004), (1, 155, 0.30000000000000004), (1, 36, 0.30000000000000004), (1, 120, 0.1), (1, 259, 0.1), (1, 247, 0.1), (1, 104, 0.1), (1, 266, 0.1), (1, 110, 0.1), (1, 74, 0.1), (1, 35, 0.1), (1, 254, 0.1), (1, 243, 0.1), (1, 261, 0.1), (1, 260, 0.1), (1, 103, 0.1), (1, 143, 0.1), (1, 21, 0.1), (1, 138, 0.1), (1, 78, 0.1), (1, 29, 0.1), (1, 112, 0.1), (1, 131, 0.1), (1, 219, 0.1), (1, 8, 0.1), (1, 263, 0.1)]\n",
            "1\n",
            "9\n",
            "10\n",
            "2\n",
            "2\n",
            "1\n",
            "6\n",
            "(6.243835616438357, 730)\n"
          ],
          "name": "stdout"
        }
      ]
    },
    {
      "cell_type": "code",
      "metadata": {
        "id": "BvEDk5LEUKwh",
        "colab_type": "code",
        "colab": {}
      },
      "source": [
        ""
      ],
      "execution_count": 0,
      "outputs": []
    },
    {
      "cell_type": "code",
      "metadata": {
        "id": "7B_fKfTKUKlA",
        "colab_type": "code",
        "colab": {}
      },
      "source": [
        ""
      ],
      "execution_count": 0,
      "outputs": []
    }
  ]
}