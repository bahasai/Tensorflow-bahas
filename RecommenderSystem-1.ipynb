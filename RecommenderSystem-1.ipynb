{
  "nbformat": 4,
  "nbformat_minor": 0,
  "metadata": {
    "colab": {
      "name": "RecommenderSystem-1.ipynb",
      "version": "0.3.2",
      "provenance": []
    },
    "language_info": {
      "codemirror_mode": {
        "name": "ipython",
        "version": 3
      },
      "file_extension": ".py",
      "mimetype": "text/x-python",
      "name": "python",
      "nbconvert_exporter": "python",
      "pygments_lexer": "ipython3",
      "version": "3.7.3"
    },
    "kernelspec": {
      "name": "python3",
      "display_name": "Python 3"
    },
    "accelerator": "GPU"
  },
  "cells": [
    {
      "cell_type": "code",
      "metadata": {
        "colab_type": "code",
        "id": "ZDBpMKqQFkU2",
        "colab": {}
      },
      "source": [
        "!mkdir dataset\n",
        "from google.colab import files\n",
        "src = list(files.upload().values())[0]\n",
        "open('\\dataset','wb').write(src)\n",
        "!mv sample_mobile_data_1000.csv dataset/\n",
        "!ls dataset"
      ],
      "execution_count": 0,
      "outputs": []
    },
    {
      "cell_type": "code",
      "metadata": {
        "colab_type": "code",
        "id": "VX1t4raqFkVI",
        "colab": {}
      },
      "source": [
        ""
      ],
      "execution_count": 0,
      "outputs": []
    },
    {
      "cell_type": "code",
      "metadata": {
        "colab_type": "code",
        "id": "f9VneyquFkVT",
        "outputId": "bcd510a0-1402-44af-fc42-5b708e0d44b5",
        "colab": {
          "base_uri": "https://localhost:8080/",
          "height": 35
        }
      },
      "source": [
        "!curl ifconfig.co"
      ],
      "execution_count": 3,
      "outputs": [
        {
          "output_type": "stream",
          "text": [
            "35.229.201.223\n"
          ],
          "name": "stdout"
        }
      ]
    },
    {
      "cell_type": "code",
      "metadata": {
        "id": "GUCIAhmxUQy1",
        "colab_type": "code",
        "outputId": "60601707-918c-466d-e82d-d1fc1d560339",
        "colab": {
          "base_uri": "https://localhost:8080/",
          "height": 125
        }
      },
      "source": [
        "from google.colab import drive\n",
        "drive.mount('/content/gdrive')"
      ],
      "execution_count": 2,
      "outputs": [
        {
          "output_type": "stream",
          "text": [
            "Go to this URL in a browser: https://accounts.google.com/o/oauth2/auth?client_id=947318989803-6bn6qk8qdgf4n4g3pfee6491hc0brc4i.apps.googleusercontent.com&redirect_uri=urn%3Aietf%3Awg%3Aoauth%3A2.0%3Aoob&scope=email%20https%3A%2F%2Fwww.googleapis.com%2Fauth%2Fdocs.test%20https%3A%2F%2Fwww.googleapis.com%2Fauth%2Fdrive%20https%3A%2F%2Fwww.googleapis.com%2Fauth%2Fdrive.photos.readonly%20https%3A%2F%2Fwww.googleapis.com%2Fauth%2Fpeopleapi.readonly&response_type=code\n",
            "\n",
            "Enter your authorization code:\n",
            "··········\n",
            "Mounted at /content/gdrive\n"
          ],
          "name": "stdout"
        }
      ]
    },
    {
      "cell_type": "code",
      "metadata": {
        "colab_type": "code",
        "id": "gQyEXH3xFkVa",
        "outputId": "dbda6f45-8bf8-42a7-b157-44d593ff19e5",
        "colab": {
          "base_uri": "https://localhost:8080/",
          "height": 119
        }
      },
      "source": [
        "!ls /content/gdrive/My\\ Drive/\n",
        "!cp -r /content/gdrive/My\\ Drive/BO-* /content/gdrive/My\\ Drive/resume\n",
        "!cd gdrive/My\\ Drive/colab"
      ],
      "execution_count": 0,
      "outputs": [
        {
          "output_type": "stream",
          "text": [
            " BO-DA-رزومه‌ها-E0\t\t  nimac.gsite\n",
            " colab\t\t\t\t  SahabX-Sokan\n",
            "'Getting started.pdf'\t\t 'اعضای دانشکده.xlsx'\n",
            "'hadoop meeting feedback.gform'  'پروژه هوش سحاب.gdoc'\n",
            "'Hadoop Meeting.gslides'\t 'مشخصات سرور.gsheet'\n",
            " NimaBehrang.pdf\n"
          ],
          "name": "stdout"
        }
      ]
    },
    {
      "cell_type": "code",
      "metadata": {
        "colab_type": "code",
        "id": "8HxupmItFkVh",
        "colab": {}
      },
      "source": [
        "!unzip /content/gdrive/My\\ Drive/colab/ml-100k.zip"
      ],
      "execution_count": 0,
      "outputs": []
    },
    {
      "cell_type": "code",
      "metadata": {
        "id": "nRL4R5tvYcfZ",
        "colab_type": "code",
        "outputId": "50e94512-635c-4d2c-88f3-62e1abde2f37",
        "colab": {
          "base_uri": "https://localhost:8080/",
          "height": 73
        }
      },
      "source": [
        "!ls gdrive/My\\ Drive/colab/ml-100k/"
      ],
      "execution_count": 0,
      "outputs": [
        {
          "output_type": "stream",
          "text": [
            "allbut.pl  u1.base  u2.test  u4.base  u5.test  ub.base\tu.genre  u.occupation\n",
            "mku.sh\t   u1.test  u3.base  u4.test  ua.base  ub.test\tu.info\t u.user\n",
            "README\t   u2.base  u3.test  u5.base  ua.test  u.data\tu.item\n"
          ],
          "name": "stdout"
        }
      ]
    },
    {
      "cell_type": "code",
      "metadata": {
        "colab_type": "code",
        "id": "CCvT1KE_FkVm",
        "outputId": "d47638ad-fbeb-45f6-873d-2104c1ed6d0b",
        "colab": {
          "base_uri": "https://localhost:8080/",
          "height": 52
        }
      },
      "source": [
        "# !cat gdrive/My\\ Drive/colab/ml-100k/u.user=\n",
        "import numpy as np\n",
        "data = np.genfromtxt(\"/content/gdrive/My Drive/colab/ml-100k/u.data\", dtype=int)\n",
        "# data = np.genfromtxt(\"/content/gdrive/My Drive/colab/ml-100k/u.data\",  dtype=[int,int,int,int])\n",
        "train_data = []\n",
        "test_data = []\n",
        "UPL=30\n",
        "K=20\n",
        "TOP=10\n",
        "users = np.unique(data[:,0])\n",
        "for user in users:\n",
        "  userrows = data[(np.where(data[:,0] == user)), :][0]\n",
        "  if len(userrows) > UPL + K + TOP:\n",
        "    np.random.shuffle(userrows)\n",
        "    for item in userrows[:UPL]:\n",
        "      train_data.append(item.tolist())\n",
        "    for item in userrows[UPL:]:\n",
        "      test_data.append(item.tolist())\n",
        "\n",
        "print(len(train_data))\n",
        "print(np.shape(train_data))\n"
      ],
      "execution_count": 45,
      "outputs": [
        {
          "output_type": "stream",
          "text": [
            "14820\n",
            "(14820, 4)\n"
          ],
          "name": "stdout"
        }
      ]
    },
    {
      "cell_type": "code",
      "metadata": {
        "colab_type": "code",
        "id": "q4EC7AHPFkVu",
        "colab": {}
      },
      "source": [
        "!ls "
      ],
      "execution_count": 0,
      "outputs": []
    },
    {
      "cell_type": "code",
      "metadata": {
        "colab_type": "code",
        "id": "ittwc8zbFkV5",
        "colab": {}
      },
      "source": [
        ""
      ],
      "execution_count": 0,
      "outputs": []
    },
    {
      "cell_type": "code",
      "metadata": {
        "colab_type": "code",
        "id": "bYBQNbatFkWQ",
        "colab": {}
      },
      "source": [
        ""
      ],
      "execution_count": 0,
      "outputs": []
    },
    {
      "cell_type": "code",
      "metadata": {
        "id": "etBIUeKeURT4",
        "colab_type": "code",
        "outputId": "44f66a2a-b2c8-4cf2-e35d-de3fc1e69eea",
        "colab": {
          "base_uri": "https://localhost:8080/",
          "height": 70
        }
      },
      "source": [
        "!pip install -q tensorflow-gpu==2.0.0a0\n",
        "!pip install -q tensorboard\n",
        "!pip install -q tensorboardcolab"
      ],
      "execution_count": 9,
      "outputs": [
        {
          "output_type": "stream",
          "text": [
            "\u001b[K     |████████████████████████████████| 332.1MB 37kB/s \n",
            "\u001b[K     |████████████████████████████████| 3.0MB 27.2MB/s \n",
            "\u001b[K     |████████████████████████████████| 419kB 39.2MB/s \n",
            "\u001b[?25h"
          ],
          "name": "stdout"
        }
      ]
    },
    {
      "cell_type": "code",
      "metadata": {
        "id": "k4AO0JwbURdN",
        "colab_type": "code",
        "outputId": "f26f3bcf-ad71-410b-d55a-bc95c37938c4",
        "colab": {
          "base_uri": "https://localhost:8080/",
          "height": 87
        }
      },
      "source": [
        "from tensorboardcolab import *\n",
        "tbc=TensorBoardColab(port=6006, graph_path='/tmp/logs', startup_waiting_time=8)"
      ],
      "execution_count": 6,
      "outputs": [
        {
          "output_type": "stream",
          "text": [
            "Using TensorFlow backend.\n"
          ],
          "name": "stderr"
        },
        {
          "output_type": "stream",
          "text": [
            "Wait for 8 seconds...\n",
            "TensorBoard link:\n",
            "http://d4442a2c.ngrok.io\n"
          ],
          "name": "stdout"
        }
      ]
    },
    {
      "cell_type": "code",
      "metadata": {
        "id": "TILlKL6AURii",
        "colab_type": "code",
        "colab": {}
      },
      "source": [
        ""
      ],
      "execution_count": 0,
      "outputs": []
    },
    {
      "cell_type": "code",
      "metadata": {
        "id": "4BX0vvitURp1",
        "colab_type": "code",
        "colab": {}
      },
      "source": [
        ""
      ],
      "execution_count": 0,
      "outputs": []
    },
    {
      "cell_type": "code",
      "metadata": {
        "id": "CwcRYcN5URxX",
        "colab_type": "code",
        "colab": {}
      },
      "source": [
        "def castRate(inp):\n",
        "  if inp == 1:\n",
        "    return 0.1\n",
        "  if inp == 2:\n",
        "    return 0.3\n",
        "  if inp == 3:\n",
        "    return 0.5\n",
        "  if inp == 4:\n",
        "    return 0.7\n",
        "  if inp == 5:\n",
        "    return 0.9"
      ],
      "execution_count": 0,
      "outputs": []
    },
    {
      "cell_type": "code",
      "metadata": {
        "colab_type": "code",
        "id": "VG9HjZnWFkWh",
        "colab": {}
      },
      "source": [
        ""
      ],
      "execution_count": 0,
      "outputs": []
    },
    {
      "cell_type": "code",
      "metadata": {
        "colab_type": "code",
        "id": "-XzZ7Y_NFkWp",
        "colab": {}
      },
      "source": [
        "from tensorflow.python import keras\n",
        "import tensorflow as tf"
      ],
      "execution_count": 0,
      "outputs": []
    },
    {
      "cell_type": "code",
      "metadata": {
        "colab_type": "code",
        "id": "YDfU1SMdGuh6",
        "colab": {}
      },
      "source": [
        "keras.backend.clear_session()"
      ],
      "execution_count": 0,
      "outputs": []
    },
    {
      "cell_type": "code",
      "metadata": {
        "colab_type": "code",
        "id": "N4ueKBFjGvX_",
        "colab": {}
      },
      "source": [
        ""
      ],
      "execution_count": 0,
      "outputs": []
    },
    {
      "cell_type": "code",
      "metadata": {
        "id": "ePnpIR6QWpFX",
        "colab_type": "code",
        "colab": {}
      },
      "source": [
        "input_user = keras.Input(shape=(1,))  # Returns a placeholder tensor\n",
        "input_item = keras.Input(shape=(1,))  # Returns a placeholder tensor\n",
        "embed_user = keras.layers.Embedding(2000, 64)(input_user)\n",
        "embed_item = keras.layers.Embedding(2000, 64)(input_item)\n",
        "multiply = keras.layers.Multiply()([embed_user, embed_item])\n",
        "rate = keras.layers.add(tf.unstack(multiply, axis=2))\n",
        "model = keras.Model(inputs=[input_user, input_item], outputs = keras.activations.sigmoid(rate))\n",
        "# model.summary()"
      ],
      "execution_count": 0,
      "outputs": []
    },
    {
      "cell_type": "code",
      "metadata": {
        "id": "EmLy_d9DUKcn",
        "colab_type": "code",
        "outputId": "2f32c505-2bad-48b1-d1f4-b607e7e22fa5",
        "colab": {
          "base_uri": "https://localhost:8080/",
          "height": 387
        }
      },
      "source": [
        "input_user = keras.Input(shape=(1,))  # Returns a placeholder tensor\n",
        "input_item = keras.Input(shape=(1,))  # Returns a placeholder tensor\n",
        "embed_user = keras.layers.Embedding(2000, 64)(input_user)\n",
        "embed_item = keras.layers.Embedding(2000, 64)(input_item)\n",
        "dot = keras.layers.dot(inputs=[embed_user, embed_item],axes=2)\n",
        "model_opt = keras.Model(inputs=[input_user, input_item], outputs = keras.activations.sigmoid(dot))\n",
        "model_opt.summary()\n",
        "sgd = tf.keras.optimizers.SGD(lr=0.01, clipvalue=0.5)\n",
        "adam = tf.keras.optimizers.Adam(lr=0.1, beta_1=0.9, beta_2=0.999, epsilon=None, decay=0.0, amsgrad=False)\n",
        "nadam = tf.keras.optimizers.Nadam(lr=0.002, beta_1=0.9, beta_2=0.999, epsilon=None, schedule_decay=0.004)\n",
        "square = tf.keras.losses.squared_hinge\n",
        "ms = 'mean_squared_error'\n",
        "model_opt.compile(optimizer=adam,\n",
        "            loss=ms,\n",
        "            metrics=['accuracy','mae'])"
      ],
      "execution_count": 47,
      "outputs": [
        {
          "output_type": "stream",
          "text": [
            "Model: \"model\"\n",
            "__________________________________________________________________________________________________\n",
            "Layer (type)                    Output Shape         Param #     Connected to                     \n",
            "==================================================================================================\n",
            "input_1 (InputLayer)            [(None, 1)]          0                                            \n",
            "__________________________________________________________________________________________________\n",
            "input_2 (InputLayer)            [(None, 1)]          0                                            \n",
            "__________________________________________________________________________________________________\n",
            "embedding (Embedding)           (None, 1, 64)        128000      input_1[0][0]                    \n",
            "__________________________________________________________________________________________________\n",
            "embedding_1 (Embedding)         (None, 1, 64)        128000      input_2[0][0]                    \n",
            "__________________________________________________________________________________________________\n",
            "dot (Dot)                       (None, 1, 1)         0           embedding[0][0]                  \n",
            "                                                                 embedding_1[0][0]                \n",
            "__________________________________________________________________________________________________\n",
            "tf_op_layer_Sigmoid (TensorFlow [(None, 1, 1)]       0           dot[0][0]                        \n",
            "==================================================================================================\n",
            "Total params: 256,000\n",
            "Trainable params: 256,000\n",
            "Non-trainable params: 0\n",
            "__________________________________________________________________________________________________\n"
          ],
          "name": "stdout"
        }
      ]
    },
    {
      "cell_type": "code",
      "metadata": {
        "id": "NRaETCo0UKo-",
        "colab_type": "code",
        "outputId": "c1c909a7-9871-40af-b17a-5de2034007aa",
        "colab": {
          "base_uri": "https://localhost:8080/",
          "height": 213
        }
      },
      "source": [
        "train = np.asarray(train_data)\n",
        "test = np.asarray(test_data)\n",
        "x_train = [train[:,0],train[:,1]]\n",
        "y_train = [castRate(x) for x in train[:,2]]\n",
        "x_test = [test[:,0],test[:,1]]\n",
        "y_test = [castRate(x) for x in test[:,2]]\n",
        "test_sorted = np.asarray(sorted(test, key=lambda x: x[2], reverse=True))\n",
        "x_test_sorted = [test_sorted[:,0],test_sorted[:,1]]\n",
        "y_test_sorted = [castRate(x) for x in test_sorted[:,2]]\n",
        "\n",
        "logdir=\"/tmp/logs/2\"\n",
        "checkpoint_path = logdir + \"/cp.ckpt\"\n",
        "# checkpoint_dir = os.path.dirname(checkpoint_path)\n",
        "\n",
        "# Create checkpoint callback\n",
        "cp_callback = tf.keras.callbacks.ModelCheckpoint(checkpoint_path, save_weights_only=True, verbose=1)\n",
        "tb_callback = tf.keras.callbacks.TensorBoard(log_dir=checkpoint_path, histogram_freq=0, batch_size=32,\n",
        "                                             write_graph=True, write_grads=False, write_images=False,\n",
        "                                             embeddings_freq=0, embeddings_layer_names=None,\n",
        "                                             embeddings_metadata=None, embeddings_data=[], update_freq='epoch')\n",
        "es_callback = tf.keras.callbacks.EarlyStopping(monitor='val_loss', min_delta=0.001, patience=1, verbose=1,\n",
        "                                               mode='auto', baseline=None, restore_best_weights=False)\n",
        "\n",
        "fit = model_opt.fit(x_train, y_train, validation_data=(x_test, y_test), epochs=30,\n",
        "                callbacks = [cp_callback, tb_callback, es_callback], batch_size=1000)\n",
        "\n",
        "# ans = model_opt.evaluate(x_test, y_test)"
      ],
      "execution_count": 48,
      "outputs": [
        {
          "output_type": "stream",
          "text": [
            "Train on 14820 samples, validate on 69596 samples\n",
            "Epoch 1/30\n",
            " 9000/14820 [=================>............] - ETA: 0s - loss: 0.0801 - acc: 0.1299 - mean_absolute_error: 0.2253\n",
            "Epoch 00001: saving model to /tmp/logs/2/cp.ckpt\n",
            "14820/14820 [==============================] - 0s 34us/sample - loss: 0.0805 - acc: 0.1532 - mean_absolute_error: 0.2268 - val_loss: 0.0871 - val_acc: 0.1737 - val_mean_absolute_error: 0.2386\n",
            "Epoch 2/30\n",
            "10000/14820 [===================>..........] - ETA: 0s - loss: 0.1139 - acc: 0.1675 - mean_absolute_error: 0.2741\n",
            "Epoch 00002: saving model to /tmp/logs/2/cp.ckpt\n",
            "14820/14820 [==============================] - 0s 21us/sample - loss: 0.1116 - acc: 0.1597 - mean_absolute_error: 0.2708 - val_loss: 0.0931 - val_acc: 0.1384 - val_mean_absolute_error: 0.2457\n",
            "Epoch 00002: early stopping\n"
          ],
          "name": "stdout"
        }
      ]
    },
    {
      "cell_type": "code",
      "metadata": {
        "id": "ncM7gQTFUK46",
        "colab_type": "code",
        "outputId": "a9069dd2-6321-45a3-ef95-62831dc1fab1",
        "colab": {
          "base_uri": "https://localhost:8080/",
          "height": 35
        }
      },
      "source": [
        "predict = model_opt.predict(x_test_sorted)\n",
        "users_num = np.unique(test_sorted[:,0])\n",
        "avr, num = (0,0)\n",
        "for p in users_num:\n",
        "  pred = []\n",
        "  for i in range(len(predict)-1):\n",
        "    if x_test_sorted[0][i] == p:\n",
        "      pred.append([len(pred)+1, predict[i]])\n",
        "  pred.sort(key=lambda x: x[1],reverse=True)\n",
        "  count = 0\n",
        "  for i in range(TOP):\n",
        "    if pred[i][0] <= TOP:\n",
        "      count = count + 1\n",
        "  avr = (avr*num + count)/(num+1)\n",
        "  num = num+1\n",
        "#   print(count)\n",
        "print(avr)\n",
        "#     print(predict[i], y_test[i])"
      ],
      "execution_count": 52,
      "outputs": [
        {
          "output_type": "stream",
          "text": [
            "1.0991902834008087\n"
          ],
          "name": "stdout"
        }
      ]
    },
    {
      "cell_type": "code",
      "metadata": {
        "id": "E_rBD16FUK1G",
        "colab_type": "code",
        "outputId": "1acff0db-760b-40b2-ee0f-9b353cd32c97",
        "colab": {
          "base_uri": "https://localhost:8080/",
          "height": 35
        }
      },
      "source": [
        "def calcHitRatio(x_test, y_test):\n",
        "  ans = []\n",
        "  for indx, item in enumerate(predict):\n",
        "    ans.append([indx, item])\n",
        "  ans.sort(key=lambda x: x[1],reverse=True)\n",
        "  tresh = 100\n",
        "  count = 0\n",
        "  for i in range(tresh):\n",
        "      if ans[i][0] <= tresh:\n",
        "        count = count + 1\n",
        "  return count\n",
        "print(calcHitRatio(x_test_sorted, y_test_sorted))\n"
      ],
      "execution_count": 0,
      "outputs": [
        {
          "output_type": "stream",
          "text": [
            "0\n"
          ],
          "name": "stdout"
        }
      ]
    },
    {
      "cell_type": "code",
      "metadata": {
        "id": "BvEDk5LEUKwh",
        "colab_type": "code",
        "colab": {}
      },
      "source": [
        ""
      ],
      "execution_count": 0,
      "outputs": []
    },
    {
      "cell_type": "code",
      "metadata": {
        "id": "7B_fKfTKUKlA",
        "colab_type": "code",
        "colab": {}
      },
      "source": [
        ""
      ],
      "execution_count": 0,
      "outputs": []
    }
  ]
}