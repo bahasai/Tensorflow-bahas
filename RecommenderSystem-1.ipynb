{
  "nbformat": 4,
  "nbformat_minor": 0,
  "metadata": {
    "colab": {
      "name": "RecommenderSystem-1.ipynb",
      "version": "0.3.2",
      "provenance": []
    },
    "language_info": {
      "codemirror_mode": {
        "name": "ipython",
        "version": 3
      },
      "file_extension": ".py",
      "mimetype": "text/x-python",
      "name": "python",
      "nbconvert_exporter": "python",
      "pygments_lexer": "ipython3",
      "version": "3.7.3"
    },
    "kernelspec": {
      "name": "python3",
      "display_name": "Python 3"
    },
    "accelerator": "GPU"
  },
  "cells": [
    {
      "cell_type": "code",
      "metadata": {
        "colab_type": "code",
        "id": "ZDBpMKqQFkU2",
        "colab": {}
      },
      "source": [
        "!mkdir dataset\n",
        "from google.colab import files\n",
        "src = list(files.upload().values())[0]\n",
        "open('\\dataset','wb').write(src)\n",
        "!mv sample_mobile_data_1000.csv dataset/\n",
        "!ls dataset"
      ],
      "execution_count": 0,
      "outputs": []
    },
    {
      "cell_type": "code",
      "metadata": {
        "colab_type": "code",
        "id": "VX1t4raqFkVI",
        "colab": {}
      },
      "source": [
        ""
      ],
      "execution_count": 0,
      "outputs": []
    },
    {
      "cell_type": "code",
      "metadata": {
        "colab_type": "code",
        "id": "f9VneyquFkVT",
        "outputId": "6a29c36f-bf02-4d8f-edd6-fe8ca4fb049c",
        "colab": {
          "base_uri": "https://localhost:8080/",
          "height": 35
        }
      },
      "source": [
        "!curl ifconfig.co"
      ],
      "execution_count": 0,
      "outputs": [
        {
          "output_type": "stream",
          "text": [
            "34.76.163.135\n"
          ],
          "name": "stdout"
        }
      ]
    },
    {
      "cell_type": "code",
      "metadata": {
        "id": "GUCIAhmxUQy1",
        "colab_type": "code",
        "outputId": "00c85e9e-15ce-45d9-b6a6-2a56b0edd5d3",
        "colab": {
          "base_uri": "https://localhost:8080/",
          "height": 125
        }
      },
      "source": [
        "from google.colab import drive\n",
        "drive.mount('/content/gdrive')"
      ],
      "execution_count": 1,
      "outputs": [
        {
          "output_type": "stream",
          "text": [
            "Go to this URL in a browser: https://accounts.google.com/o/oauth2/auth?client_id=947318989803-6bn6qk8qdgf4n4g3pfee6491hc0brc4i.apps.googleusercontent.com&redirect_uri=urn%3Aietf%3Awg%3Aoauth%3A2.0%3Aoob&scope=email%20https%3A%2F%2Fwww.googleapis.com%2Fauth%2Fdocs.test%20https%3A%2F%2Fwww.googleapis.com%2Fauth%2Fdrive%20https%3A%2F%2Fwww.googleapis.com%2Fauth%2Fdrive.photos.readonly%20https%3A%2F%2Fwww.googleapis.com%2Fauth%2Fpeopleapi.readonly&response_type=code\n",
            "\n",
            "Enter your authorization code:\n",
            "··········\n",
            "Mounted at /content/gdrive\n"
          ],
          "name": "stdout"
        }
      ]
    },
    {
      "cell_type": "code",
      "metadata": {
        "colab_type": "code",
        "id": "gQyEXH3xFkVa",
        "outputId": "dbda6f45-8bf8-42a7-b157-44d593ff19e5",
        "colab": {
          "base_uri": "https://localhost:8080/",
          "height": 119
        }
      },
      "source": [
        "!ls /content/gdrive/My\\ Drive/\n",
        "!cp -r /content/gdrive/My\\ Drive/BO-* /content/gdrive/My\\ Drive/resume\n",
        "!cd gdrive/My\\ Drive/colab"
      ],
      "execution_count": 0,
      "outputs": [
        {
          "output_type": "stream",
          "text": [
            " BO-DA-رزومه‌ها-E0\t\t  nimac.gsite\n",
            " colab\t\t\t\t  SahabX-Sokan\n",
            "'Getting started.pdf'\t\t 'اعضای دانشکده.xlsx'\n",
            "'hadoop meeting feedback.gform'  'پروژه هوش سحاب.gdoc'\n",
            "'Hadoop Meeting.gslides'\t 'مشخصات سرور.gsheet'\n",
            " NimaBehrang.pdf\n"
          ],
          "name": "stdout"
        }
      ]
    },
    {
      "cell_type": "code",
      "metadata": {
        "colab_type": "code",
        "id": "8HxupmItFkVh",
        "colab": {}
      },
      "source": [
        "!unzip /content/gdrive/My\\ Drive/colab/ml-100k.zip"
      ],
      "execution_count": 0,
      "outputs": []
    },
    {
      "cell_type": "code",
      "metadata": {
        "id": "nRL4R5tvYcfZ",
        "colab_type": "code",
        "outputId": "50e94512-635c-4d2c-88f3-62e1abde2f37",
        "colab": {
          "base_uri": "https://localhost:8080/",
          "height": 73
        }
      },
      "source": [
        "!ls gdrive/My\\ Drive/colab/ml-100k/"
      ],
      "execution_count": 0,
      "outputs": [
        {
          "output_type": "stream",
          "text": [
            "allbut.pl  u1.base  u2.test  u4.base  u5.test  ub.base\tu.genre  u.occupation\n",
            "mku.sh\t   u1.test  u3.base  u4.test  ua.base  ub.test\tu.info\t u.user\n",
            "README\t   u2.base  u3.test  u5.base  ua.test  u.data\tu.item\n"
          ],
          "name": "stdout"
        }
      ]
    },
    {
      "cell_type": "code",
      "metadata": {
        "colab_type": "code",
        "id": "CCvT1KE_FkVm",
        "outputId": "73577a62-6c1b-47af-db53-1001f7cc7641",
        "colab": {
          "base_uri": "https://localhost:8080/",
          "height": 52
        }
      },
      "source": [
        "# !cat gdrive/My\\ Drive/colab/ml-100k/u.user\n",
        "import numpy as np\n",
        "data = np.genfromtxt(\"/content/gdrive/My Drive/colab/ml-100k/u.data\", dtype=int)\n",
        "# data = np.genfromtxt(\"/content/gdrive/My Drive/colab/ml-100k/u.data\",  dtype=[int,int,int,int])\n",
        "train_data = []\n",
        "test_data = []\n",
        "users = np.unique(data[:,0])\n",
        "for user in users:\n",
        "  userrows = data[(np.where(data[:,0] == user)), :][0]\n",
        "  np.random.shuffle(userrows)\n",
        "  for item in userrows[:20]:\n",
        "    train_data.append(item.tolist())\n",
        "  for item in userrows[20:]:\n",
        "    test_data.append(item.tolist())\n",
        "\n",
        "print(len(train_data))\n",
        "print(np.shape(train_data))\n"
      ],
      "execution_count": 19,
      "outputs": [
        {
          "output_type": "stream",
          "text": [
            "27051\n",
            "(27051, 4)\n"
          ],
          "name": "stdout"
        }
      ]
    },
    {
      "cell_type": "code",
      "metadata": {
        "colab_type": "code",
        "id": "q4EC7AHPFkVu",
        "colab": {}
      },
      "source": [
        "!ls "
      ],
      "execution_count": 0,
      "outputs": []
    },
    {
      "cell_type": "code",
      "metadata": {
        "colab_type": "code",
        "id": "ittwc8zbFkV5",
        "colab": {}
      },
      "source": [
        ""
      ],
      "execution_count": 0,
      "outputs": []
    },
    {
      "cell_type": "code",
      "metadata": {
        "colab_type": "code",
        "id": "bYBQNbatFkWQ",
        "colab": {}
      },
      "source": [
        ""
      ],
      "execution_count": 0,
      "outputs": []
    },
    {
      "cell_type": "code",
      "metadata": {
        "id": "etBIUeKeURT4",
        "colab_type": "code",
        "colab": {
          "base_uri": "https://localhost:8080/",
          "height": 70
        },
        "outputId": "13ba2824-197e-455a-dfcd-c5694f83e51a"
      },
      "source": [
        "!pip install -q tensorflow-gpu==2.0.0a0\n",
        "!pip install -q tensorboard\n",
        "!pip install -q tensorboardcolab"
      ],
      "execution_count": 3,
      "outputs": [
        {
          "output_type": "stream",
          "text": [
            "\u001b[K     |████████████████████████████████| 332.1MB 63kB/s \n",
            "\u001b[K     |████████████████████████████████| 419kB 40.5MB/s \n",
            "\u001b[K     |████████████████████████████████| 3.0MB 52.7MB/s \n",
            "\u001b[?25h"
          ],
          "name": "stdout"
        }
      ]
    },
    {
      "cell_type": "code",
      "metadata": {
        "id": "k4AO0JwbURdN",
        "colab_type": "code",
        "outputId": "8803b64f-c9dd-4aad-fd75-6d10c12a3945",
        "colab": {
          "base_uri": "https://localhost:8080/",
          "height": 87
        }
      },
      "source": [
        "from tensorboardcolab import *\n",
        "tbc=TensorBoardColab(port=6006, graph_path='/tmp/logs', startup_waiting_time=8)"
      ],
      "execution_count": 4,
      "outputs": [
        {
          "output_type": "stream",
          "text": [
            "Using TensorFlow backend.\n"
          ],
          "name": "stderr"
        },
        {
          "output_type": "stream",
          "text": [
            "Wait for 8 seconds...\n",
            "TensorBoard link:\n",
            "https://ee7543b3.ngrok.io\n"
          ],
          "name": "stdout"
        }
      ]
    },
    {
      "cell_type": "code",
      "metadata": {
        "id": "TILlKL6AURii",
        "colab_type": "code",
        "colab": {}
      },
      "source": [
        ""
      ],
      "execution_count": 0,
      "outputs": []
    },
    {
      "cell_type": "code",
      "metadata": {
        "id": "4BX0vvitURp1",
        "colab_type": "code",
        "colab": {}
      },
      "source": [
        ""
      ],
      "execution_count": 0,
      "outputs": []
    },
    {
      "cell_type": "code",
      "metadata": {
        "id": "CwcRYcN5URxX",
        "colab_type": "code",
        "colab": {}
      },
      "source": [
        "def castRate(inp):\n",
        "  if inp == 1:\n",
        "    return 0.1\n",
        "  if inp == 2:\n",
        "    return 0.3\n",
        "  if inp == 3:\n",
        "    return 0.5\n",
        "  if inp == 4:\n",
        "    return 0.7\n",
        "  if inp == 5:\n",
        "    return 1"
      ],
      "execution_count": 0,
      "outputs": []
    },
    {
      "cell_type": "code",
      "metadata": {
        "colab_type": "code",
        "id": "VG9HjZnWFkWh",
        "colab": {}
      },
      "source": [
        ""
      ],
      "execution_count": 0,
      "outputs": []
    },
    {
      "cell_type": "code",
      "metadata": {
        "colab_type": "code",
        "id": "-XzZ7Y_NFkWp",
        "colab": {}
      },
      "source": [
        "from tensorflow.python import keras\n",
        "import tensorflow as tf"
      ],
      "execution_count": 0,
      "outputs": []
    },
    {
      "cell_type": "code",
      "metadata": {
        "colab_type": "code",
        "id": "YDfU1SMdGuh6",
        "colab": {}
      },
      "source": [
        "keras.backend.clear_session()"
      ],
      "execution_count": 0,
      "outputs": []
    },
    {
      "cell_type": "code",
      "metadata": {
        "colab_type": "code",
        "id": "N4ueKBFjGvX_",
        "colab": {}
      },
      "source": [
        ""
      ],
      "execution_count": 0,
      "outputs": []
    },
    {
      "cell_type": "code",
      "metadata": {
        "id": "ePnpIR6QWpFX",
        "colab_type": "code",
        "colab": {}
      },
      "source": [
        "input_user = keras.Input(shape=(1,))  # Returns a placeholder tensor\n",
        "input_item = keras.Input(shape=(1,))  # Returns a placeholder tensor\n",
        "embed_user = keras.layers.Embedding(2000, 64)(input_user)\n",
        "embed_item = keras.layers.Embedding(2000, 64)(input_item)\n",
        "multiply = keras.layers.Multiply()([embed_user, embed_item])\n",
        "rate = keras.layers.add(tf.unstack(multiply, axis=2))\n",
        "model = keras.Model(inputs=[input_user, input_item], outputs = keras.activations.sigmoid(rate))\n",
        "# model.summary()"
      ],
      "execution_count": 0,
      "outputs": []
    },
    {
      "cell_type": "code",
      "metadata": {
        "id": "EmLy_d9DUKcn",
        "colab_type": "code",
        "outputId": "630afae4-947c-4235-a9f6-69d9d5fa54f1",
        "colab": {
          "base_uri": "https://localhost:8080/",
          "height": 387
        }
      },
      "source": [
        "input_user = keras.Input(shape=(1,))  # Returns a placeholder tensor\n",
        "input_item = keras.Input(shape=(1,))  # Returns a placeholder tensor\n",
        "embed_user = keras.layers.Embedding(2000, 64)(input_user)\n",
        "embed_item = keras.layers.Embedding(2000, 64)(input_item)\n",
        "dot = keras.layers.dot(inputs=[embed_user, embed_item],axes=2)\n",
        "model_opt = keras.Model(inputs=[input_user, input_item], outputs = keras.activations.sigmoid(dot))\n",
        "model_opt.summary()\n",
        "sgd = tf.keras.optimizers.SGD(lr=0.01, clipvalue=0.5)\n",
        "adam = tf.keras.optimizers.Adam(lr=0.1, beta_1=0.9, beta_2=0.999, epsilon=None, decay=0.0, amsgrad=False)\n",
        "nadam = tf.keras.optimizers.Nadam(lr=0.002, beta_1=0.9, beta_2=0.999, epsilon=None, schedule_decay=0.004)\n",
        "square = tf.keras.losses.squared_hinge\n",
        "ms = 'mean_squared_error'\n",
        "model_opt.compile(optimizer=nadam,\n",
        "            loss=ms,\n",
        "            metrics=['accuracy','mae'])"
      ],
      "execution_count": 58,
      "outputs": [
        {
          "output_type": "stream",
          "text": [
            "Model: \"model\"\n",
            "__________________________________________________________________________________________________\n",
            "Layer (type)                    Output Shape         Param #     Connected to                     \n",
            "==================================================================================================\n",
            "input_1 (InputLayer)            [(None, 1)]          0                                            \n",
            "__________________________________________________________________________________________________\n",
            "input_2 (InputLayer)            [(None, 1)]          0                                            \n",
            "__________________________________________________________________________________________________\n",
            "embedding (Embedding)           (None, 1, 64)        128000      input_1[0][0]                    \n",
            "__________________________________________________________________________________________________\n",
            "embedding_1 (Embedding)         (None, 1, 64)        128000      input_2[0][0]                    \n",
            "__________________________________________________________________________________________________\n",
            "dot (Dot)                       (None, 1, 1)         0           embedding[0][0]                  \n",
            "                                                                 embedding_1[0][0]                \n",
            "__________________________________________________________________________________________________\n",
            "Sigmoid_20 (TensorFlowOpLayer)  [(None, 1, 1)]       0           dot[0][0]                        \n",
            "==================================================================================================\n",
            "Total params: 256,000\n",
            "Trainable params: 256,000\n",
            "Non-trainable params: 0\n",
            "__________________________________________________________________________________________________\n"
          ],
          "name": "stdout"
        }
      ]
    },
    {
      "cell_type": "code",
      "metadata": {
        "id": "NRaETCo0UKo-",
        "colab_type": "code",
        "outputId": "5fc122a3-3a79-4d64-d61f-6103e682f193",
        "colab": {
          "base_uri": "https://localhost:8080/",
          "height": 1000
        }
      },
      "source": [
        "train = np.asarray(train_data)\n",
        "test = np.asarray(test_data)\n",
        "x_train = [train[:,0],train[:,1]]\n",
        "y_train = [castRate(x) for x in train[:,2]]\n",
        "x_test = [test[:,0],test[:,1]]\n",
        "y_test = [castRate(x) for x in test[:,2]]\n",
        "test_sorted = np.asarray(sorted(test, key=lambda x: x[2], reverse=True))\n",
        "x_test_sorted = [test_sorted[:,0],test_sorted[:,1]]\n",
        "y_test_sorted = [castRate(x) for x in test_sorted[:,2]]\n",
        "\n",
        "logdir=\"/tmp/logs/2\"\n",
        "checkpoint_path = logdir + \"/cp.ckpt\"\n",
        "# checkpoint_dir = os.path.dirname(checkpoint_path)\n",
        "\n",
        "# Create checkpoint callback\n",
        "cp_callback = tf.keras.callbacks.ModelCheckpoint(checkpoint_path, save_weights_only=True, verbose=1)\n",
        "tb_callback = tf.keras.callbacks.TensorBoard(log_dir=checkpoint_path)\n",
        "\n",
        "# fit = model_opt.fit(x_train, y_train, validation_data=(x_test, y_test), epochs=10,\n",
        "fit = model_opt.fit(x_train, y_train, validation_data=(x_test, y_test), epochs=30,\n",
        "                callbacks = [cp_callback, tb_callback], batch_size=1000)\n",
        "\n",
        "# ans = model_opt.evaluate(x_test, y_test)"
      ],
      "execution_count": 84,
      "outputs": [
        {
          "output_type": "stream",
          "text": [
            "Train on 27051 samples, validate on 72949 samples\n"
          ],
          "name": "stdout"
        },
        {
          "output_type": "stream",
          "text": [
            "W0714 19:10:58.163105 139765835683712 tf_logging.py:161] Model failed to serialize as JSON. Ignoring... ('Not JSON Serializable:', b'\\n\\nSigmoid_20\\x12\\x07Sigmoid\\x1a\\rdot_10/MatMul*\\x07\\n\\x01T\\x12\\x020\\x01')\n"
          ],
          "name": "stderr"
        },
        {
          "output_type": "stream",
          "text": [
            "Epoch 1/30\n",
            "18000/27051 [==================>...........] - ETA: 0s - loss: 0.0658 - accuracy: 0.2321 - mae: 0.2082\n",
            "Epoch 00001: saving model to /tmp/logs/2/cp.ckpt\n",
            "27051/27051 [==============================] - 0s 14us/sample - loss: 0.0653 - accuracy: 0.2325 - mae: 0.2071 - val_loss: 0.0650 - val_accuracy: 0.2031 - val_mae: 0.2068\n",
            "Epoch 2/30\n",
            "22000/27051 [=======================>......] - ETA: 0s - loss: 0.0651 - accuracy: 0.2316 - mae: 0.2065\n",
            "Epoch 00002: saving model to /tmp/logs/2/cp.ckpt\n",
            "27051/27051 [==============================] - 0s 13us/sample - loss: 0.0653 - accuracy: 0.2325 - mae: 0.2069 - val_loss: 0.0650 - val_accuracy: 0.2031 - val_mae: 0.2069\n",
            "Epoch 3/30\n",
            "23000/27051 [========================>.....] - ETA: 0s - loss: 0.0654 - accuracy: 0.2333 - mae: 0.2071\n",
            "Epoch 00003: saving model to /tmp/logs/2/cp.ckpt\n",
            "27051/27051 [==============================] - 0s 13us/sample - loss: 0.0653 - accuracy: 0.2324 - mae: 0.2070 - val_loss: 0.0651 - val_accuracy: 0.2031 - val_mae: 0.2067\n",
            "Epoch 4/30\n",
            "23000/27051 [========================>.....] - ETA: 0s - loss: 0.0655 - accuracy: 0.2337 - mae: 0.2071\n",
            "Epoch 00004: saving model to /tmp/logs/2/cp.ckpt\n",
            "27051/27051 [==============================] - 0s 13us/sample - loss: 0.0654 - accuracy: 0.2326 - mae: 0.2068 - val_loss: 0.0650 - val_accuracy: 0.2031 - val_mae: 0.2070\n",
            "Epoch 5/30\n",
            "22000/27051 [=======================>......] - ETA: 0s - loss: 0.0651 - accuracy: 0.2335 - mae: 0.2066\n",
            "Epoch 00005: saving model to /tmp/logs/2/cp.ckpt\n",
            "27051/27051 [==============================] - 0s 13us/sample - loss: 0.0654 - accuracy: 0.2326 - mae: 0.2071 - val_loss: 0.0649 - val_accuracy: 0.2031 - val_mae: 0.2071\n",
            "Epoch 6/30\n",
            "27000/27051 [============================>.] - ETA: 0s - loss: 0.0653 - accuracy: 0.2327 - mae: 0.2073\n",
            "Epoch 00006: saving model to /tmp/logs/2/cp.ckpt\n",
            "27051/27051 [==============================] - 0s 16us/sample - loss: 0.0653 - accuracy: 0.2327 - mae: 0.2073 - val_loss: 0.0650 - val_accuracy: 0.2031 - val_mae: 0.2069\n",
            "Epoch 7/30\n",
            "21000/27051 [======================>.......] - ETA: 0s - loss: 0.0652 - accuracy: 0.2337 - mae: 0.2068\n",
            "Epoch 00007: saving model to /tmp/logs/2/cp.ckpt\n",
            "27051/27051 [==============================] - 0s 13us/sample - loss: 0.0654 - accuracy: 0.2324 - mae: 0.2070 - val_loss: 0.0650 - val_accuracy: 0.2031 - val_mae: 0.2069\n",
            "Epoch 8/30\n",
            "21000/27051 [======================>.......] - ETA: 0s - loss: 0.0652 - accuracy: 0.2337 - mae: 0.2067\n",
            "Epoch 00008: saving model to /tmp/logs/2/cp.ckpt\n",
            "27051/27051 [==============================] - 0s 13us/sample - loss: 0.0653 - accuracy: 0.2326 - mae: 0.2069 - val_loss: 0.0649 - val_accuracy: 0.2031 - val_mae: 0.2072\n",
            "Epoch 9/30\n",
            "21000/27051 [======================>.......] - ETA: 0s - loss: 0.0657 - accuracy: 0.2343 - mae: 0.2080\n",
            "Epoch 00009: saving model to /tmp/logs/2/cp.ckpt\n",
            "27051/27051 [==============================] - 0s 13us/sample - loss: 0.0654 - accuracy: 0.2326 - mae: 0.2073 - val_loss: 0.0650 - val_accuracy: 0.2031 - val_mae: 0.2071\n",
            "Epoch 10/30\n",
            "22000/27051 [=======================>......] - ETA: 0s - loss: 0.0658 - accuracy: 0.2355 - mae: 0.2080\n",
            "Epoch 00010: saving model to /tmp/logs/2/cp.ckpt\n",
            "27051/27051 [==============================] - 0s 13us/sample - loss: 0.0653 - accuracy: 0.2325 - mae: 0.2071 - val_loss: 0.0650 - val_accuracy: 0.2031 - val_mae: 0.2069\n",
            "Epoch 11/30\n",
            "22000/27051 [=======================>......] - ETA: 0s - loss: 0.0652 - accuracy: 0.2341 - mae: 0.2070\n",
            "Epoch 00011: saving model to /tmp/logs/2/cp.ckpt\n",
            "27051/27051 [==============================] - 0s 14us/sample - loss: 0.0653 - accuracy: 0.2326 - mae: 0.2070 - val_loss: 0.0650 - val_accuracy: 0.2031 - val_mae: 0.2071\n",
            "Epoch 12/30\n",
            "21000/27051 [======================>.......] - ETA: 0s - loss: 0.0661 - accuracy: 0.2359 - mae: 0.2086\n",
            "Epoch 00012: saving model to /tmp/logs/2/cp.ckpt\n",
            "27051/27051 [==============================] - 0s 16us/sample - loss: 0.0654 - accuracy: 0.2324 - mae: 0.2072 - val_loss: 0.0650 - val_accuracy: 0.2031 - val_mae: 0.2070\n",
            "Epoch 13/30\n",
            "21000/27051 [======================>.......] - ETA: 0s - loss: 0.0658 - accuracy: 0.2353 - mae: 0.2081\n",
            "Epoch 00013: saving model to /tmp/logs/2/cp.ckpt\n",
            "27051/27051 [==============================] - 0s 13us/sample - loss: 0.0653 - accuracy: 0.2323 - mae: 0.2069 - val_loss: 0.0651 - val_accuracy: 0.2031 - val_mae: 0.2068\n",
            "Epoch 14/30\n",
            "22000/27051 [=======================>......] - ETA: 0s - loss: 0.0656 - accuracy: 0.2340 - mae: 0.2074\n",
            "Epoch 00014: saving model to /tmp/logs/2/cp.ckpt\n",
            "27051/27051 [==============================] - 0s 14us/sample - loss: 0.0654 - accuracy: 0.2327 - mae: 0.2069 - val_loss: 0.0650 - val_accuracy: 0.2031 - val_mae: 0.2070\n",
            "Epoch 15/30\n",
            "21000/27051 [======================>.......] - ETA: 0s - loss: 0.0657 - accuracy: 0.2338 - mae: 0.2079\n",
            "Epoch 00015: saving model to /tmp/logs/2/cp.ckpt\n",
            "27051/27051 [==============================] - 0s 13us/sample - loss: 0.0654 - accuracy: 0.2323 - mae: 0.2072 - val_loss: 0.0651 - val_accuracy: 0.2031 - val_mae: 0.2067\n",
            "Epoch 16/30\n",
            "23000/27051 [========================>.....] - ETA: 0s - loss: 0.0654 - accuracy: 0.2335 - mae: 0.2072\n",
            "Epoch 00016: saving model to /tmp/logs/2/cp.ckpt\n",
            "27051/27051 [==============================] - 0s 14us/sample - loss: 0.0654 - accuracy: 0.2323 - mae: 0.2068 - val_loss: 0.0651 - val_accuracy: 0.2030 - val_mae: 0.2067\n",
            "Epoch 17/30\n",
            "19000/27051 [====================>.........] - ETA: 0s - loss: 0.0653 - accuracy: 0.2329 - mae: 0.2067\n",
            "Epoch 00017: saving model to /tmp/logs/2/cp.ckpt\n",
            "27051/27051 [==============================] - 0s 14us/sample - loss: 0.0653 - accuracy: 0.2325 - mae: 0.2068 - val_loss: 0.0650 - val_accuracy: 0.2031 - val_mae: 0.2068\n",
            "Epoch 18/30\n",
            "22000/27051 [=======================>......] - ETA: 0s - loss: 0.0655 - accuracy: 0.2318 - mae: 0.2071\n",
            "Epoch 00018: saving model to /tmp/logs/2/cp.ckpt\n",
            "27051/27051 [==============================] - 0s 13us/sample - loss: 0.0653 - accuracy: 0.2324 - mae: 0.2069 - val_loss: 0.0650 - val_accuracy: 0.2031 - val_mae: 0.2068\n",
            "Epoch 19/30\n",
            "22000/27051 [=======================>......] - ETA: 0s - loss: 0.0655 - accuracy: 0.2321 - mae: 0.2070\n",
            "Epoch 00019: saving model to /tmp/logs/2/cp.ckpt\n",
            "27051/27051 [==============================] - 0s 14us/sample - loss: 0.0653 - accuracy: 0.2324 - mae: 0.2069 - val_loss: 0.0651 - val_accuracy: 0.2031 - val_mae: 0.2067\n",
            "Epoch 20/30\n",
            "23000/27051 [========================>.....] - ETA: 0s - loss: 0.0654 - accuracy: 0.2327 - mae: 0.2071\n",
            "Epoch 00020: saving model to /tmp/logs/2/cp.ckpt\n",
            "27051/27051 [==============================] - 0s 13us/sample - loss: 0.0653 - accuracy: 0.2325 - mae: 0.2069 - val_loss: 0.0650 - val_accuracy: 0.2030 - val_mae: 0.2069\n",
            "Epoch 21/30\n",
            "22000/27051 [=======================>......] - ETA: 0s - loss: 0.0656 - accuracy: 0.2340 - mae: 0.2076\n",
            "Epoch 00021: saving model to /tmp/logs/2/cp.ckpt\n",
            "27051/27051 [==============================] - 0s 13us/sample - loss: 0.0653 - accuracy: 0.2326 - mae: 0.2069 - val_loss: 0.0650 - val_accuracy: 0.2031 - val_mae: 0.2071\n",
            "Epoch 22/30\n",
            "20000/27051 [=====================>........] - ETA: 0s - loss: 0.0656 - accuracy: 0.2328 - mae: 0.2076\n",
            "Epoch 00022: saving model to /tmp/logs/2/cp.ckpt\n",
            "27051/27051 [==============================] - 0s 14us/sample - loss: 0.0654 - accuracy: 0.2324 - mae: 0.2073 - val_loss: 0.0651 - val_accuracy: 0.2031 - val_mae: 0.2068\n",
            "Epoch 23/30\n",
            "21000/27051 [======================>.......] - ETA: 0s - loss: 0.0653 - accuracy: 0.2310 - mae: 0.2063\n",
            "Epoch 00023: saving model to /tmp/logs/2/cp.ckpt\n",
            "27051/27051 [==============================] - 0s 13us/sample - loss: 0.0654 - accuracy: 0.2325 - mae: 0.2068 - val_loss: 0.0650 - val_accuracy: 0.2031 - val_mae: 0.2070\n",
            "Epoch 24/30\n",
            "21000/27051 [======================>.......] - ETA: 0s - loss: 0.0651 - accuracy: 0.2333 - mae: 0.2066\n",
            "Epoch 00024: saving model to /tmp/logs/2/cp.ckpt\n",
            "27051/27051 [==============================] - 0s 13us/sample - loss: 0.0653 - accuracy: 0.2327 - mae: 0.2071 - val_loss: 0.0649 - val_accuracy: 0.2031 - val_mae: 0.2071\n",
            "Epoch 25/30\n",
            "22000/27051 [=======================>......] - ETA: 0s - loss: 0.0657 - accuracy: 0.2337 - mae: 0.2079\n",
            "Epoch 00025: saving model to /tmp/logs/2/cp.ckpt\n",
            "27051/27051 [==============================] - 0s 14us/sample - loss: 0.0653 - accuracy: 0.2324 - mae: 0.2072 - val_loss: 0.0650 - val_accuracy: 0.2031 - val_mae: 0.2067\n",
            "Epoch 26/30\n",
            "21000/27051 [======================>.......] - ETA: 0s - loss: 0.0653 - accuracy: 0.2346 - mae: 0.2068\n",
            "Epoch 00026: saving model to /tmp/logs/2/cp.ckpt\n",
            "27051/27051 [==============================] - 0s 15us/sample - loss: 0.0653 - accuracy: 0.2325 - mae: 0.2067 - val_loss: 0.0650 - val_accuracy: 0.2031 - val_mae: 0.2069\n",
            "Epoch 27/30\n",
            "22000/27051 [=======================>......] - ETA: 0s - loss: 0.0652 - accuracy: 0.2340 - mae: 0.2069\n",
            "Epoch 00027: saving model to /tmp/logs/2/cp.ckpt\n",
            "27051/27051 [==============================] - 0s 14us/sample - loss: 0.0653 - accuracy: 0.2324 - mae: 0.2070 - val_loss: 0.0650 - val_accuracy: 0.2031 - val_mae: 0.2068\n",
            "Epoch 28/30\n",
            "20000/27051 [=====================>........] - ETA: 0s - loss: 0.0650 - accuracy: 0.2347 - mae: 0.2063\n",
            "Epoch 00028: saving model to /tmp/logs/2/cp.ckpt\n",
            "27051/27051 [==============================] - 0s 14us/sample - loss: 0.0653 - accuracy: 0.2325 - mae: 0.2067 - val_loss: 0.0649 - val_accuracy: 0.2031 - val_mae: 0.2072\n",
            "Epoch 29/30\n",
            "23000/27051 [========================>.....] - ETA: 0s - loss: 0.0652 - accuracy: 0.2318 - mae: 0.2071\n",
            "Epoch 00029: saving model to /tmp/logs/2/cp.ckpt\n",
            "27051/27051 [==============================] - 0s 13us/sample - loss: 0.0654 - accuracy: 0.2324 - mae: 0.2074 - val_loss: 0.0650 - val_accuracy: 0.2031 - val_mae: 0.2069\n",
            "Epoch 30/30\n",
            "23000/27051 [========================>.....] - ETA: 0s - loss: 0.0652 - accuracy: 0.2327 - mae: 0.2067\n",
            "Epoch 00030: saving model to /tmp/logs/2/cp.ckpt\n",
            "27051/27051 [==============================] - 0s 14us/sample - loss: 0.0653 - accuracy: 0.2323 - mae: 0.2069 - val_loss: 0.0651 - val_accuracy: 0.2031 - val_mae: 0.2067\n"
          ],
          "name": "stdout"
        }
      ]
    },
    {
      "cell_type": "code",
      "metadata": {
        "id": "ncM7gQTFUK46",
        "colab_type": "code",
        "outputId": "d69faed9-c5ef-4b6c-8461-67534daa0067",
        "colab": {
          "base_uri": "https://localhost:8080/",
          "height": 193
        }
      },
      "source": [
        "predict = model_opt.predict(x_test_sorted)\n",
        "for i in range(10):\n",
        "  print(predict[i], y_test[i])"
      ],
      "execution_count": 85,
      "outputs": [
        {
          "output_type": "stream",
          "text": [
            "[[0.6322765]] 0.3\n",
            "[[0.634879]] 0.7\n",
            "[[0.6356948]] 0.5\n",
            "[[0.6369672]] 0.7\n",
            "[[0.646109]] 0.1\n",
            "[[0.62895405]] 0.5\n",
            "[[0.6344369]] 0.7\n",
            "[[0.6271061]] 0.5\n",
            "[[0.6432345]] 1\n",
            "[[0.6406243]] 1\n"
          ],
          "name": "stdout"
        }
      ]
    },
    {
      "cell_type": "code",
      "metadata": {
        "id": "E_rBD16FUK1G",
        "colab_type": "code",
        "colab": {
          "base_uri": "https://localhost:8080/",
          "height": 35
        },
        "outputId": "1acff0db-760b-40b2-ee0f-9b353cd32c97"
      },
      "source": [
        "def calcHitRatio(x_test, y_test):\n",
        "  ans = []\n",
        "  for indx, item in enumerate(predict):\n",
        "    ans.append([indx, item])\n",
        "  ans.sort(key=lambda x: x[1],reverse=True)\n",
        "  tresh = 100\n",
        "  count = 0\n",
        "  for i in range(tresh):\n",
        "      if ans[i][0] <= tresh:\n",
        "        count = count + 1\n",
        "  return count\n",
        "print(calcHitRatio(x_test_sorted, y_test_sorted))\n"
      ],
      "execution_count": 90,
      "outputs": [
        {
          "output_type": "stream",
          "text": [
            "0\n"
          ],
          "name": "stdout"
        }
      ]
    },
    {
      "cell_type": "code",
      "metadata": {
        "id": "BvEDk5LEUKwh",
        "colab_type": "code",
        "colab": {}
      },
      "source": [
        ""
      ],
      "execution_count": 0,
      "outputs": []
    },
    {
      "cell_type": "code",
      "metadata": {
        "id": "7B_fKfTKUKlA",
        "colab_type": "code",
        "colab": {}
      },
      "source": [
        ""
      ],
      "execution_count": 0,
      "outputs": []
    }
  ]
}